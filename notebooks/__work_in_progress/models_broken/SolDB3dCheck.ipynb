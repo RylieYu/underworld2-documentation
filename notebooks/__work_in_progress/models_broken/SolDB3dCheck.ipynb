{
 "cells": [
  {
   "cell_type": "markdown",
   "metadata": {},
   "source": [
    "DB: Analytical solution test 2\n",
    "=====\n",
    "\n",
    "Comparison of a solutions obtained via ``underworld2`` and analytic solutions provided by Burstedde et al (2013).\n",
    "\n",
    "**References**\n",
    "\n",
    "1. *Burstedde, C., Stadler, G., Alisic, L., Wilcox, L., Tan, E., Gurnis, M., and Ghattas, O.*, Large- scale adaptive mantle convection simulation, GJI, 192, 889–906, 2013. http://gji.oxfordjournals.org/content/192/3/889.full.pdf+html}\n",
    "\n"
   ]
  },
  {
   "cell_type": "code",
   "execution_count": null,
   "metadata": {
    "collapsed": false
   },
   "outputs": [],
   "source": [
    "import underworld as uw\n",
    "import math\n",
    "from underworld import function as fn\n",
    "import glucifer\n",
    "\n",
    "import numpy as np\n",
    "import matplotlib.pyplot as pyplot\n",
    "import matplotlib.pylab as pylab"
   ]
  },
  {
   "cell_type": "markdown",
   "metadata": {},
   "source": [
    "Setup mesh conditions\n",
    "----\n",
    "\n",
    "Change resolution parameters"
   ]
  },
  {
   "cell_type": "code",
   "execution_count": null,
   "metadata": {
    "collapsed": true
   },
   "outputs": [],
   "source": [
    "meshX = 16\n",
    "meshY = 16\n",
    "meshZ = 16"
   ]
  },
  {
   "cell_type": "markdown",
   "metadata": {},
   "source": [
    "Create mesh objects using the same parameters as Dohrmann and Bochev 2004"
   ]
  },
  {
   "cell_type": "code",
   "execution_count": null,
   "metadata": {
    "collapsed": false
   },
   "outputs": [],
   "source": [
    "mesh = uw.mesh.FeMesh_Cartesian( elementType = (\"Q2/dQ1\"), \n",
    "                                 elementRes  = (meshX, meshY, meshZ), \n",
    "                                 minCoord    = (0., 0., 0.), \n",
    "                                 maxCoord    = (1., 1., 1.))\n",
    "\n",
    "velocityField = uw.mesh.MeshVariable(mesh,3)\n",
    "pressureField = uw.mesh.MeshVariable(mesh.subMesh,1)"
   ]
  },
  {
   "cell_type": "markdown",
   "metadata": {},
   "source": [
    "**Setup analytic functions**\n",
    "\n",
    "Functions consist of the body force, viscosity and velocity field inputs as well as the resulting pressure, stress and strain rate fields.\n"
   ]
  },
  {
   "cell_type": "code",
   "execution_count": null,
   "metadata": {
    "collapsed": false
   },
   "outputs": [],
   "source": [
    "solA = fn.analytic.SolDB3d( Beta = 4. )"
   ]
  },
  {
   "cell_type": "markdown",
   "metadata": {},
   "source": [
    "**Setup initial conditions**\n",
    "\n",
    "Set initial velocity field to be the analytical solution, but set the initial pressure field to zero. The pressure field calculated by the Stokes solver will be compared to the analytical solution at the end.\n",
    "\n",
    "Note that the boundary condition values are also set at this point."
   ]
  },
  {
   "cell_type": "code",
   "execution_count": null,
   "metadata": {
    "collapsed": false
   },
   "outputs": [],
   "source": [
    "vel=solA.fn_velocity\n",
    "velocityField.data[:] = vel.evaluate(mesh.data)\n",
    "pressureField.data[:] = 0."
   ]
  },
  {
   "cell_type": "markdown",
   "metadata": {},
   "source": [
    "**Plot the vertical component of the body force solution**\n"
   ]
  },
  {
   "cell_type": "code",
   "execution_count": null,
   "metadata": {
    "collapsed": false
   },
   "outputs": [],
   "source": [
    "force = glucifer.Figure()\n",
    "force.append( glucifer.objects.Surface(mesh, solA.fn_bodyforce[2]) )\n",
    "force.show()"
   ]
  },
  {
   "cell_type": "markdown",
   "metadata": {},
   "source": [
    "**Plot the magnitude of the velocity field**"
   ]
  },
  {
   "cell_type": "code",
   "execution_count": null,
   "metadata": {
    "collapsed": false
   },
   "outputs": [],
   "source": [
    "velMag = glucifer.Figure()\n",
    "velMag.append( glucifer.objects.Surface(mesh, fn.math.dot(velocityField,velocityField)) )\n",
    "velMag.show()"
   ]
  },
  {
   "cell_type": "markdown",
   "metadata": {},
   "source": [
    "**Set dirichlet boundary conditions on all walls**"
   ]
  },
  {
   "cell_type": "code",
   "execution_count": null,
   "metadata": {
    "collapsed": false
   },
   "outputs": [],
   "source": [
    "iWalls = mesh.specialSets[\"MinI_VertexSet\"] + mesh.specialSets[\"MaxI_VertexSet\"]\n",
    "jWalls = mesh.specialSets[\"MinJ_VertexSet\"] + mesh.specialSets[\"MaxJ_VertexSet\"]\n",
    "kWalls = mesh.specialSets[\"MinK_VertexSet\"] + mesh.specialSets[\"MaxK_VertexSet\"]\n",
    "allWalls = iWalls + jWalls + kWalls\n",
    "\n",
    "BC = uw.conditions.DirichletCondition( variable        = velocityField, \n",
    "                                       indexSetsPerDof = (allWalls, allWalls, allWalls) )"
   ]
  },
  {
   "cell_type": "markdown",
   "metadata": {},
   "source": [
    "Setup Stokes system\n",
    "---\n",
    "\n",
    "**Change here to test other solver options**"
   ]
  },
  {
   "cell_type": "code",
   "execution_count": null,
   "metadata": {
    "collapsed": false
   },
   "outputs": [],
   "source": [
    "stokesSystem = uw.systems.Stokes(velocityField = velocityField,\n",
    "                                 pressureField = pressureField,\n",
    "                                 fn_viscosity  = solA.fn_viscosity,\n",
    "                                 fn_bodyforce  = solA.fn_bodyforce,\n",
    "                                 conditions    = [BC,])\n",
    "\n",
    "solver = uw.systems.Solver( stokesSystem )"
   ]
  },
  {
   "cell_type": "markdown",
   "metadata": {},
   "source": [
    "**Solve Stokes system**\n",
    "\n",
    "This will solve for the pressure given the velocity, viscosity and body force."
   ]
  },
  {
   "cell_type": "code",
   "execution_count": null,
   "metadata": {
    "collapsed": true
   },
   "outputs": [],
   "source": [
    "solver.options.scr.ksp_rtol = 1.e-5 \n",
    "solver.set_inner_method(solve_type=\"lu\")\n",
    "solver.solve()"
   ]
  },
  {
   "cell_type": "markdown",
   "metadata": {},
   "source": [
    "Compare ``underworld`` and analytical solutions\n",
    "----\n",
    "\n",
    "**Plot analytic solution to the pressure field**"
   ]
  },
  {
   "cell_type": "code",
   "execution_count": null,
   "metadata": {
    "collapsed": false
   },
   "outputs": [],
   "source": [
    "pA = glucifer.Figure()\n",
    "pA.append( glucifer.objects.Surface(mesh, solA.fn_pressure) )\n",
    "pA.show()"
   ]
  },
  {
   "cell_type": "markdown",
   "metadata": {},
   "source": [
    "**Plot difference between solved pressure field and analytic solution**"
   ]
  },
  {
   "cell_type": "code",
   "execution_count": null,
   "metadata": {
    "collapsed": false
   },
   "outputs": [],
   "source": [
    "pDiff = glucifer.Figure()\n",
    "pDiff.append( glucifer.objects.Surface(mesh, solA.fn_pressure-pressureField ) )\n",
    "pDiff.show()"
   ]
  },
  {
   "cell_type": "markdown",
   "metadata": {},
   "source": [
    "**Examine error across a single line**\n",
    "\n",
    "Look at the error in the pressure field for $x=0.85$ and $z=0.0$, scaled to fit along side the exact and numerical solution."
   ]
  },
  {
   "cell_type": "code",
   "execution_count": null,
   "metadata": {
    "collapsed": false
   },
   "outputs": [],
   "source": [
    "if(uw.nProcs()==1):\n",
    "    uw.matplotlib_inline()\n",
    "    import matplotlib.pyplot as pyplot\n",
    "    import matplotlib.pylab as pylab\n",
    "    pyplot.ion() # needed to ensure pure python jobs do now hang on show()\n",
    "    N=201\n",
    "    a=np.ndarray(shape=(N,3))\n",
    "    a[:,0]=0.85*np.ones(N)\n",
    "    a[:,1]=np.linspace(0,1,N)\n",
    "    a[:,2]=np.linspace(0,1,N)\n",
    "    ax=a[:,0]\n",
    "    pex=solA.fn_pressure.evaluate(a)[:,0]\n",
    "    y=a[:,1]\n",
    "    pfd=pressureField.evaluate(a)[:,0]\n",
    "    pyplot.plot(y,pfd,label='Numerical')\n",
    "    pyplot.plot(y,pex,label='Exact')\n",
    "    pyplot.plot(y,100*(pfd-pex),label='Error (x 100)')\n",
    "    pyplot.legend()\n",
    "    \n",
    "# the following was the parallel error check\n",
    "# using evaluate_global. It produced funny results\n",
    "# I won't investigate as this analytic sol is moving into broken\n",
    "\n",
    "#     N=801\n",
    "#     a=np.ndarray(shape=(N,3))\n",
    "#     a[:,0]=0.85*np.ones(N)\n",
    "#     a[:,1]=np.linspace(0,1,N)\n",
    "#     a[:,2]=0.0\n",
    "#     ax=a[:,1]\n",
    "#     pex=solA.fn_pressure.evaluate_global( a[:,])\n",
    "#     y=a[:,1]\n",
    "#     pfd=pressureField.evaluate_global(a[:,])\n",
    "#     pyplot.plot(y,pfd,label='Numerical')\n",
    "#     pyplot.plot(y,pex,label='Exact')\n",
    "#     pyplot.plot(y,100*(pfd-pex),label='Error (x 100)')\n",
    "#     pyplot.legend()\n",
    "#     pyplot.savefig('Pressure_Error.png')"
   ]
  },
  {
   "cell_type": "markdown",
   "metadata": {},
   "source": [
    "Global error measures\n",
    "-----\n",
    "\n",
    "Work out the global rms values for the velocity error (should be very low) and the pressure error."
   ]
  },
  {
   "cell_type": "code",
   "execution_count": null,
   "metadata": {
    "collapsed": true
   },
   "outputs": [],
   "source": [
    "v_err = uw.utils.Integral( fn   = fn.math.dot(solA.fn_velocity-velocityField, solA.fn_velocity-velocityField), \n",
    "                           mesh = mesh )\n",
    "v_sol = uw.utils.Integral( fn   = fn.math.dot(solA.fn_velocity, solA.fn_velocity), \n",
    "                           mesh = mesh )\n",
    "p_err = uw.utils.Integral( fn   = fn.math.dot(solA.fn_pressure-pressureField, solA.fn_pressure-pressureField), \n",
    "                           mesh = mesh )\n",
    "p_sol = uw.utils.Integral( fn   = fn.math.dot(solA.fn_pressure, solA.fn_pressure), \n",
    "                           mesh = mesh )\n",
    "\n",
    "area    = uw.utils.Integral( fn = 1., mesh = mesh )\n",
    "totalArea = area.evaluate()[0]\n",
    "\n",
    "rms_velocity_err = math.sqrt( v_err.evaluate()[0]/totalArea )\n",
    "rms_velocity_rel = math.sqrt( v_err.evaluate()[0]/v_sol.evaluate()[0] )\n",
    "rms_pressure_err = math.sqrt( p_err.evaluate()[0]/totalArea )\n",
    "rms_pressure_rel = math.sqrt( p_err.evaluate()[0]/p_sol.evaluate()[0] )"
   ]
  },
  {
   "cell_type": "code",
   "execution_count": null,
   "metadata": {
    "collapsed": false
   },
   "outputs": [],
   "source": [
    "if uw.rank()==0:\n",
    "    print(\"Pressure error = {0:.6f}%; relative error = {1:.6f}%\"\n",
    "          .format(rms_pressure_err*100, rms_pressure_rel*100))\n",
    "    print(\"Velocity error = {0:.6f}%; relative error = {1:.6f}%\"\n",
    "          .format(rms_velocity_err*100, rms_velocity_rel*100))"
   ]
  },
  {
   "cell_type": "code",
   "execution_count": null,
   "metadata": {
    "collapsed": true
   },
   "outputs": [],
   "source": [
    "# errors on OSX @ commit 7b4a45bd5cc935e5553707719c4d37f3b53890eb\n",
    "# petsc 3.6.3_4, open-mpi/1.10.2\n",
    "rms_pressure_err_expected = 0.0032669226502844537\n",
    "rms_pressure_rel_expected = 0.014295521589953772\n",
    "rms_velocity_err_expected = 4.948183259946877e-06\n",
    "rms_velocity_rel_expected = 1.188653968407299e-06"
   ]
  },
  {
   "cell_type": "code",
   "execution_count": null,
   "metadata": {
    "collapsed": false
   },
   "outputs": [],
   "source": [
    "tolerance = 1.01\n",
    "if rms_pressure_err/rms_pressure_err_expected > tolerance: raise RuntimeError(\"Pressure absolute error outside tolerance\")\n",
    "if rms_pressure_rel/rms_pressure_rel_expected > tolerance: raise RuntimeError(\"Pressure relative error outside tolerance\")\n",
    "if rms_velocity_err/rms_velocity_err_expected > tolerance: raise RuntimeError(\"Velocity absolute error outside tolerance\")\n",
    "if rms_velocity_rel/rms_velocity_rel_expected > tolerance: raise RuntimeError(\"Velocity relative error outside tolerance\")"
   ]
  },
  {
   "cell_type": "code",
   "execution_count": null,
   "metadata": {
    "collapsed": true
   },
   "outputs": [],
   "source": []
  }
 ],
 "metadata": {
  "kernelspec": {
   "display_name": "Python 2",
   "language": "python",
   "name": "python2"
  },
  "language_info": {
   "codemirror_mode": {
    "name": "ipython",
    "version": 2
   },
   "file_extension": ".py",
   "mimetype": "text/x-python",
   "name": "python",
   "nbconvert_exporter": "python",
   "pygments_lexer": "ipython2",
   "version": "2.7.11+"
  }
 },
 "nbformat": 4,
 "nbformat_minor": 0
}
