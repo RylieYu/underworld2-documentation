{
 "cells": [
  {
   "cell_type": "markdown",
   "metadata": {},
   "source": [
    "Shear band analysis for Lemiale et al 2008 results\n",
    "=====\n",
    "\n",
    "\n",
    "This notebook takes the stress field resulting from the **Lemiale-Parallel** notebook and calculates the shear band angle from the stress field. A single example is provided to show the analysis. For more details see the accompanying **Lemiale-Parallel** notebook.\n",
    "\n",
    "\n",
    "\n",
    "**Keywords:** particle swarms, Stokes system, advective diffusive systems, complex rheology, parallel analysis\n",
    "\n",
    "**References**\n",
    "\n",
    "1. V. Lemiale, H.-B. Mühlhaus, L. Moresi, and J. Stafford, Shear banding analysis of plastic models formulated for incompressible viscous flows. Physics of the Earth and Planetary Interiors (2008) 171: 177-186.\n",
    "http://www.sciencedirect.com/science/article/pii/S0031920108001933\n"
   ]
  },
  {
   "cell_type": "code",
   "execution_count": 1,
   "metadata": {
    "collapsed": false
   },
   "outputs": [
    {
     "ename": "UserWarning",
     "evalue": "Matplotlib is building the font cache using fc-list. This may take a moment.",
     "output_type": "error",
     "traceback": [
      "\u001b[0;31m---------------------------------------------------------------------------\u001b[0m",
      "\u001b[0;31mUserWarning\u001b[0m                               Traceback (most recent call last)",
      "\u001b[0;32m<ipython-input-1-4ec173808fe5>\u001b[0m in \u001b[0;36m<module>\u001b[0;34m()\u001b[0m\n\u001b[1;32m      3\u001b[0m \u001b[0;32mimport\u001b[0m \u001b[0munderworld\u001b[0m \u001b[0;32mas\u001b[0m \u001b[0muw\u001b[0m\u001b[0;34m\u001b[0m\u001b[0m\n\u001b[1;32m      4\u001b[0m \u001b[0;32mimport\u001b[0m \u001b[0mglucifer\u001b[0m\u001b[0;34m\u001b[0m\u001b[0m\n\u001b[0;32m----> 5\u001b[0;31m \u001b[0;32mimport\u001b[0m \u001b[0mmatplotlib\u001b[0m\u001b[0;34m.\u001b[0m\u001b[0mpyplot\u001b[0m \u001b[0;32mas\u001b[0m \u001b[0mpyplot\u001b[0m\u001b[0;34m\u001b[0m\u001b[0m\n\u001b[0m\u001b[1;32m      6\u001b[0m \u001b[0;32mimport\u001b[0m \u001b[0mmatplotlib\u001b[0m\u001b[0;34m.\u001b[0m\u001b[0mpylab\u001b[0m \u001b[0;32mas\u001b[0m \u001b[0mpylab\u001b[0m\u001b[0;34m\u001b[0m\u001b[0m\n",
      "\u001b[0;32m/Users/jmansour/virtualenvs/general/lib/python2.7/site-packages/matplotlib/pyplot.py\u001b[0m in \u001b[0;36m<module>\u001b[0;34m()\u001b[0m\n\u001b[1;32m     27\u001b[0m \u001b[0;32mfrom\u001b[0m \u001b[0mcycler\u001b[0m \u001b[0;32mimport\u001b[0m \u001b[0mcycler\u001b[0m\u001b[0;34m\u001b[0m\u001b[0m\n\u001b[1;32m     28\u001b[0m \u001b[0;32mimport\u001b[0m \u001b[0mmatplotlib\u001b[0m\u001b[0;34m\u001b[0m\u001b[0m\n\u001b[0;32m---> 29\u001b[0;31m \u001b[0;32mimport\u001b[0m \u001b[0mmatplotlib\u001b[0m\u001b[0;34m.\u001b[0m\u001b[0mcolorbar\u001b[0m\u001b[0;34m\u001b[0m\u001b[0m\n\u001b[0m\u001b[1;32m     30\u001b[0m \u001b[0;32mfrom\u001b[0m \u001b[0mmatplotlib\u001b[0m \u001b[0;32mimport\u001b[0m \u001b[0mstyle\u001b[0m\u001b[0;34m\u001b[0m\u001b[0m\n\u001b[1;32m     31\u001b[0m \u001b[0;32mfrom\u001b[0m \u001b[0mmatplotlib\u001b[0m \u001b[0;32mimport\u001b[0m \u001b[0m_pylab_helpers\u001b[0m\u001b[0;34m,\u001b[0m \u001b[0minteractive\u001b[0m\u001b[0;34m\u001b[0m\u001b[0m\n",
      "\u001b[0;32m/Users/jmansour/virtualenvs/general/lib/python2.7/site-packages/matplotlib/colorbar.py\u001b[0m in \u001b[0;36m<module>\u001b[0;34m()\u001b[0m\n\u001b[1;32m     32\u001b[0m \u001b[0;32mimport\u001b[0m \u001b[0mmatplotlib\u001b[0m\u001b[0;34m.\u001b[0m\u001b[0martist\u001b[0m \u001b[0;32mas\u001b[0m \u001b[0mmartist\u001b[0m\u001b[0;34m\u001b[0m\u001b[0m\n\u001b[1;32m     33\u001b[0m \u001b[0;32mimport\u001b[0m \u001b[0mmatplotlib\u001b[0m\u001b[0;34m.\u001b[0m\u001b[0mcbook\u001b[0m \u001b[0;32mas\u001b[0m \u001b[0mcbook\u001b[0m\u001b[0;34m\u001b[0m\u001b[0m\n\u001b[0;32m---> 34\u001b[0;31m \u001b[0;32mimport\u001b[0m \u001b[0mmatplotlib\u001b[0m\u001b[0;34m.\u001b[0m\u001b[0mcollections\u001b[0m \u001b[0;32mas\u001b[0m \u001b[0mcollections\u001b[0m\u001b[0;34m\u001b[0m\u001b[0m\n\u001b[0m\u001b[1;32m     35\u001b[0m \u001b[0;32mimport\u001b[0m \u001b[0mmatplotlib\u001b[0m\u001b[0;34m.\u001b[0m\u001b[0mcolors\u001b[0m \u001b[0;32mas\u001b[0m \u001b[0mcolors\u001b[0m\u001b[0;34m\u001b[0m\u001b[0m\n\u001b[1;32m     36\u001b[0m \u001b[0;32mimport\u001b[0m \u001b[0mmatplotlib\u001b[0m\u001b[0;34m.\u001b[0m\u001b[0mcontour\u001b[0m \u001b[0;32mas\u001b[0m \u001b[0mcontour\u001b[0m\u001b[0;34m\u001b[0m\u001b[0m\n",
      "\u001b[0;32m/Users/jmansour/virtualenvs/general/lib/python2.7/site-packages/matplotlib/collections.py\u001b[0m in \u001b[0;36m<module>\u001b[0;34m()\u001b[0m\n\u001b[1;32m     25\u001b[0m \u001b[0;32mimport\u001b[0m \u001b[0mmatplotlib\u001b[0m\u001b[0;34m.\u001b[0m\u001b[0martist\u001b[0m \u001b[0;32mas\u001b[0m \u001b[0martist\u001b[0m\u001b[0;34m\u001b[0m\u001b[0m\n\u001b[1;32m     26\u001b[0m \u001b[0;32mfrom\u001b[0m \u001b[0mmatplotlib\u001b[0m\u001b[0;34m.\u001b[0m\u001b[0martist\u001b[0m \u001b[0;32mimport\u001b[0m \u001b[0mallow_rasterization\u001b[0m\u001b[0;34m\u001b[0m\u001b[0m\n\u001b[0;32m---> 27\u001b[0;31m \u001b[0;32mimport\u001b[0m \u001b[0mmatplotlib\u001b[0m\u001b[0;34m.\u001b[0m\u001b[0mbackend_bases\u001b[0m \u001b[0;32mas\u001b[0m \u001b[0mbackend_bases\u001b[0m\u001b[0;34m\u001b[0m\u001b[0m\n\u001b[0m\u001b[1;32m     28\u001b[0m \u001b[0;32mimport\u001b[0m \u001b[0mmatplotlib\u001b[0m\u001b[0;34m.\u001b[0m\u001b[0mpath\u001b[0m \u001b[0;32mas\u001b[0m \u001b[0mmpath\u001b[0m\u001b[0;34m\u001b[0m\u001b[0m\n\u001b[1;32m     29\u001b[0m \u001b[0;32mfrom\u001b[0m \u001b[0mmatplotlib\u001b[0m \u001b[0;32mimport\u001b[0m \u001b[0m_path\u001b[0m\u001b[0;34m\u001b[0m\u001b[0m\n",
      "\u001b[0;32m/Users/jmansour/virtualenvs/general/lib/python2.7/site-packages/matplotlib/backend_bases.py\u001b[0m in \u001b[0;36m<module>\u001b[0;34m()\u001b[0m\n\u001b[1;32m     60\u001b[0m \u001b[0;34m\u001b[0m\u001b[0m\n\u001b[1;32m     61\u001b[0m \u001b[0;32mimport\u001b[0m \u001b[0mmatplotlib\u001b[0m\u001b[0;34m.\u001b[0m\u001b[0mtight_bbox\u001b[0m \u001b[0;32mas\u001b[0m \u001b[0mtight_bbox\u001b[0m\u001b[0;34m\u001b[0m\u001b[0m\n\u001b[0;32m---> 62\u001b[0;31m \u001b[0;32mimport\u001b[0m \u001b[0mmatplotlib\u001b[0m\u001b[0;34m.\u001b[0m\u001b[0mtextpath\u001b[0m \u001b[0;32mas\u001b[0m \u001b[0mtextpath\u001b[0m\u001b[0;34m\u001b[0m\u001b[0m\n\u001b[0m\u001b[1;32m     63\u001b[0m \u001b[0;32mfrom\u001b[0m \u001b[0mmatplotlib\u001b[0m\u001b[0;34m.\u001b[0m\u001b[0mpath\u001b[0m \u001b[0;32mimport\u001b[0m \u001b[0mPath\u001b[0m\u001b[0;34m\u001b[0m\u001b[0m\n\u001b[1;32m     64\u001b[0m \u001b[0;32mfrom\u001b[0m \u001b[0mmatplotlib\u001b[0m\u001b[0;34m.\u001b[0m\u001b[0mcbook\u001b[0m \u001b[0;32mimport\u001b[0m \u001b[0mmplDeprecation\u001b[0m\u001b[0;34m,\u001b[0m \u001b[0mwarn_deprecated\u001b[0m\u001b[0;34m\u001b[0m\u001b[0m\n",
      "\u001b[0;32m/Users/jmansour/virtualenvs/general/lib/python2.7/site-packages/matplotlib/textpath.py\u001b[0m in \u001b[0;36m<module>\u001b[0;34m()\u001b[0m\n\u001b[1;32m     13\u001b[0m \u001b[0;32mfrom\u001b[0m \u001b[0mmatplotlib\u001b[0m\u001b[0;34m.\u001b[0m\u001b[0mpath\u001b[0m \u001b[0;32mimport\u001b[0m \u001b[0mPath\u001b[0m\u001b[0;34m\u001b[0m\u001b[0m\n\u001b[1;32m     14\u001b[0m \u001b[0;32mfrom\u001b[0m \u001b[0mmatplotlib\u001b[0m \u001b[0;32mimport\u001b[0m \u001b[0mrcParams\u001b[0m\u001b[0;34m\u001b[0m\u001b[0m\n\u001b[0;32m---> 15\u001b[0;31m \u001b[0;32mimport\u001b[0m \u001b[0mmatplotlib\u001b[0m\u001b[0;34m.\u001b[0m\u001b[0mfont_manager\u001b[0m \u001b[0;32mas\u001b[0m \u001b[0mfont_manager\u001b[0m\u001b[0;34m\u001b[0m\u001b[0m\n\u001b[0m\u001b[1;32m     16\u001b[0m \u001b[0;32mfrom\u001b[0m \u001b[0mmatplotlib\u001b[0m\u001b[0;34m.\u001b[0m\u001b[0mft2font\u001b[0m \u001b[0;32mimport\u001b[0m \u001b[0mFT2Font\u001b[0m\u001b[0;34m,\u001b[0m \u001b[0mKERNING_DEFAULT\u001b[0m\u001b[0;34m,\u001b[0m \u001b[0mLOAD_NO_HINTING\u001b[0m\u001b[0;34m\u001b[0m\u001b[0m\n\u001b[1;32m     17\u001b[0m \u001b[0;32mfrom\u001b[0m \u001b[0mmatplotlib\u001b[0m\u001b[0;34m.\u001b[0m\u001b[0mft2font\u001b[0m \u001b[0;32mimport\u001b[0m \u001b[0mLOAD_TARGET_LIGHT\u001b[0m\u001b[0;34m\u001b[0m\u001b[0m\n",
      "\u001b[0;32m/Users/jmansour/virtualenvs/general/lib/python2.7/site-packages/matplotlib/font_manager.py\u001b[0m in \u001b[0;36m<module>\u001b[0;34m()\u001b[0m\n\u001b[1;32m   1419\u001b[0m                 \u001b[0mverbose\u001b[0m\u001b[0;34m.\u001b[0m\u001b[0mreport\u001b[0m\u001b[0;34m(\u001b[0m\u001b[0;34m\"Using fontManager instance from %s\"\u001b[0m \u001b[0;34m%\u001b[0m \u001b[0m_fmcache\u001b[0m\u001b[0;34m)\u001b[0m\u001b[0;34m\u001b[0m\u001b[0m\n\u001b[1;32m   1420\u001b[0m         \u001b[0;32mexcept\u001b[0m\u001b[0;34m:\u001b[0m\u001b[0;34m\u001b[0m\u001b[0m\n\u001b[0;32m-> 1421\u001b[0;31m             \u001b[0m_rebuild\u001b[0m\u001b[0;34m(\u001b[0m\u001b[0;34m)\u001b[0m\u001b[0;34m\u001b[0m\u001b[0m\n\u001b[0m\u001b[1;32m   1422\u001b[0m     \u001b[0;32melse\u001b[0m\u001b[0;34m:\u001b[0m\u001b[0;34m\u001b[0m\u001b[0m\n\u001b[1;32m   1423\u001b[0m         \u001b[0m_rebuild\u001b[0m\u001b[0;34m(\u001b[0m\u001b[0;34m)\u001b[0m\u001b[0;34m\u001b[0m\u001b[0m\n",
      "\u001b[0;32m/Users/jmansour/virtualenvs/general/lib/python2.7/site-packages/matplotlib/font_manager.py\u001b[0m in \u001b[0;36m_rebuild\u001b[0;34m()\u001b[0m\n\u001b[1;32m   1404\u001b[0m     \u001b[0;32mdef\u001b[0m \u001b[0m_rebuild\u001b[0m\u001b[0;34m(\u001b[0m\u001b[0;34m)\u001b[0m\u001b[0;34m:\u001b[0m\u001b[0;34m\u001b[0m\u001b[0m\n\u001b[1;32m   1405\u001b[0m         \u001b[0;32mglobal\u001b[0m \u001b[0mfontManager\u001b[0m\u001b[0;34m\u001b[0m\u001b[0m\n\u001b[0;32m-> 1406\u001b[0;31m         \u001b[0mfontManager\u001b[0m \u001b[0;34m=\u001b[0m \u001b[0mFontManager\u001b[0m\u001b[0;34m(\u001b[0m\u001b[0;34m)\u001b[0m\u001b[0;34m\u001b[0m\u001b[0m\n\u001b[0m\u001b[1;32m   1407\u001b[0m         \u001b[0;32mif\u001b[0m \u001b[0m_fmcache\u001b[0m\u001b[0;34m:\u001b[0m\u001b[0;34m\u001b[0m\u001b[0m\n\u001b[1;32m   1408\u001b[0m             \u001b[0mpickle_dump\u001b[0m\u001b[0;34m(\u001b[0m\u001b[0mfontManager\u001b[0m\u001b[0;34m,\u001b[0m \u001b[0m_fmcache\u001b[0m\u001b[0;34m)\u001b[0m\u001b[0;34m\u001b[0m\u001b[0m\n",
      "\u001b[0;32m/Users/jmansour/virtualenvs/general/lib/python2.7/site-packages/matplotlib/font_manager.py\u001b[0m in \u001b[0;36m__init__\u001b[0;34m(self, size, weight)\u001b[0m\n\u001b[1;32m   1042\u001b[0m         \u001b[0;31m#  Load TrueType fonts and create font dictionary.\u001b[0m\u001b[0;34m\u001b[0m\u001b[0;34m\u001b[0m\u001b[0m\n\u001b[1;32m   1043\u001b[0m \u001b[0;34m\u001b[0m\u001b[0m\n\u001b[0;32m-> 1044\u001b[0;31m         \u001b[0mself\u001b[0m\u001b[0;34m.\u001b[0m\u001b[0mttffiles\u001b[0m \u001b[0;34m=\u001b[0m \u001b[0mfindSystemFonts\u001b[0m\u001b[0;34m(\u001b[0m\u001b[0mpaths\u001b[0m\u001b[0;34m)\u001b[0m \u001b[0;34m+\u001b[0m \u001b[0mfindSystemFonts\u001b[0m\u001b[0;34m(\u001b[0m\u001b[0;34m)\u001b[0m\u001b[0;34m\u001b[0m\u001b[0m\n\u001b[0m\u001b[1;32m   1045\u001b[0m         self.defaultFamily = {\n\u001b[1;32m   1046\u001b[0m             \u001b[0;34m'ttf'\u001b[0m\u001b[0;34m:\u001b[0m \u001b[0;34m'Bitstream Vera Sans'\u001b[0m\u001b[0;34m,\u001b[0m\u001b[0;34m\u001b[0m\u001b[0m\n",
      "\u001b[0;32m/Users/jmansour/virtualenvs/general/lib/python2.7/site-packages/matplotlib/font_manager.py\u001b[0m in \u001b[0;36mfindSystemFonts\u001b[0;34m(fontpaths, fontext)\u001b[0m\n\u001b[1;32m    322\u001b[0m                     \u001b[0mfontfiles\u001b[0m\u001b[0;34m[\u001b[0m\u001b[0mf\u001b[0m\u001b[0;34m]\u001b[0m \u001b[0;34m=\u001b[0m \u001b[0;36m1\u001b[0m\u001b[0;34m\u001b[0m\u001b[0m\n\u001b[1;32m    323\u001b[0m \u001b[0;34m\u001b[0m\u001b[0m\n\u001b[0;32m--> 324\u001b[0;31m             \u001b[0;32mfor\u001b[0m \u001b[0mf\u001b[0m \u001b[0;32min\u001b[0m \u001b[0mget_fontconfig_fonts\u001b[0m\u001b[0;34m(\u001b[0m\u001b[0mfontext\u001b[0m\u001b[0;34m)\u001b[0m\u001b[0;34m:\u001b[0m\u001b[0;34m\u001b[0m\u001b[0m\n\u001b[0m\u001b[1;32m    325\u001b[0m                 \u001b[0mfontfiles\u001b[0m\u001b[0;34m[\u001b[0m\u001b[0mf\u001b[0m\u001b[0;34m]\u001b[0m \u001b[0;34m=\u001b[0m \u001b[0;36m1\u001b[0m\u001b[0;34m\u001b[0m\u001b[0m\n\u001b[1;32m    326\u001b[0m \u001b[0;34m\u001b[0m\u001b[0m\n",
      "\u001b[0;32m/Users/jmansour/virtualenvs/general/lib/python2.7/site-packages/matplotlib/font_manager.py\u001b[0m in \u001b[0;36mget_fontconfig_fonts\u001b[0;34m(fontext)\u001b[0m\n\u001b[1;32m    271\u001b[0m     \u001b[0mfontfiles\u001b[0m \u001b[0;34m=\u001b[0m \u001b[0;34m{\u001b[0m\u001b[0;34m}\u001b[0m\u001b[0;34m\u001b[0m\u001b[0m\n\u001b[1;32m    272\u001b[0m     \u001b[0;32mtry\u001b[0m\u001b[0;34m:\u001b[0m\u001b[0;34m\u001b[0m\u001b[0m\n\u001b[0;32m--> 273\u001b[0;31m         \u001b[0mwarnings\u001b[0m\u001b[0;34m.\u001b[0m\u001b[0mwarn\u001b[0m\u001b[0;34m(\u001b[0m\u001b[0;34m'Matplotlib is building the font cache using fc-list. This may take a moment.'\u001b[0m\u001b[0;34m)\u001b[0m\u001b[0;34m\u001b[0m\u001b[0m\n\u001b[0m\u001b[1;32m    274\u001b[0m         pipe = subprocess.Popen(['fc-list', '--format=%{file}\\\\n'],\n\u001b[1;32m    275\u001b[0m                                 \u001b[0mstdout\u001b[0m\u001b[0;34m=\u001b[0m\u001b[0msubprocess\u001b[0m\u001b[0;34m.\u001b[0m\u001b[0mPIPE\u001b[0m\u001b[0;34m,\u001b[0m\u001b[0;34m\u001b[0m\u001b[0m\n",
      "\u001b[0;31mUserWarning\u001b[0m: Matplotlib is building the font cache using fc-list. This may take a moment."
     ]
    }
   ],
   "source": [
    "import numpy as np\n",
    "import os\n",
    "import underworld as uw\n",
    "import glucifer\n",
    "import matplotlib.pyplot as pyplot\n",
    "import matplotlib.pylab as pylab"
   ]
  },
  {
   "cell_type": "markdown",
   "metadata": {},
   "source": [
    "Set parameters for pre-run data\n",
    "-----\n",
    "\n",
    "Data is provided for the compression case with $\\tan \\phi$ = 0.4, other valid parameter pairs used in Lemiale et al 2008 are:\n",
    "\n",
    "* Extension: $\\tan \\phi$ = 0.0, 0.2, 0.4, 0.6 or 0.7\n",
    "* Compression: $\\tan \\phi$ = 0.0, 0.2, 0.4, 0.6 or 0.8\n"
   ]
  },
  {
   "cell_type": "code",
   "execution_count": null,
   "metadata": {
    "collapsed": true
   },
   "outputs": [],
   "source": [
    "tanPhi = 0.4\n",
    "iExtension = False"
   ]
  },
  {
   "cell_type": "markdown",
   "metadata": {},
   "source": [
    "**Set directory where data exists**"
   ]
  },
  {
   "cell_type": "code",
   "execution_count": null,
   "metadata": {
    "collapsed": false
   },
   "outputs": [],
   "source": [
    "# As a precaution ... keep workdir. \n",
    "try:\n",
    "    workdir\n",
    "except NameError:\n",
    "    workdir = os.path.abspath(\".\")\n",
    "# check outputs directory exists, make it if it doesn't\n",
    "outputPath = os.path.join(workdir,\"outputData/\")\n",
    "if uw.rank() == 0:\n",
    "    if not os.path.exists(outputPath):\n",
    "        os.makedirs(outputPath)    "
   ]
  },
  {
   "cell_type": "code",
   "execution_count": null,
   "metadata": {
    "collapsed": false
   },
   "outputs": [],
   "source": [
    "txtTanPhi = str(int(tanPhi*10.)).zfill(1)\n",
    "\n",
    "if(iExtension==True):\n",
    "    inputPath = os.path.join(workdir,\"data_ext/\")\n",
    "else:\n",
    "    inputPath = os.path.join(workdir,\"data_comp/\")\n"
   ]
  },
  {
   "cell_type": "markdown",
   "metadata": {},
   "source": [
    "**Set parameters for saved models**"
   ]
  },
  {
   "cell_type": "code",
   "execution_count": null,
   "metadata": {
    "collapsed": false
   },
   "outputs": [],
   "source": [
    "# set resolution\n",
    "resX = 384\n",
    "resY = 128\n",
    "\n",
    "if(iExtension==True):\n",
    "    cinf = 3.95 # value used for provided extension runs\n",
    "    cohesion = 4.\n",
    "else:\n",
    "    cinf = 10.0 # value used for provided compression runs\n",
    "    cohesion = 20."
   ]
  },
  {
   "cell_type": "markdown",
   "metadata": {},
   "source": [
    "Create mesh and finite element variables\n",
    "------\n",
    "\n",
    "Note: the use of a pressure-sensitive rheology suggests that it is important to use a Q2/dQ1 element "
   ]
  },
  {
   "cell_type": "code",
   "execution_count": null,
   "metadata": {
    "collapsed": false
   },
   "outputs": [],
   "source": [
    "mesh = uw.mesh.FeMesh_Cartesian( elementType = (\"Q1/dQ0\"), \n",
    "                                 elementRes  = ( resX, resY), \n",
    "                                 minCoord    = ( 0., 0.), \n",
    "                                 maxCoord    = ( 1., 1.),\n",
    "                                 periodic    = [False, False]  ) \n",
    "\n",
    "meshDevStress = uw.mesh.MeshVariable( mesh, 1 )"
   ]
  },
  {
   "cell_type": "markdown",
   "metadata": {},
   "source": [
    "Load mesh and stress values from saved files\n",
    "-----"
   ]
  },
  {
   "cell_type": "code",
   "execution_count": null,
   "metadata": {
    "collapsed": false
   },
   "outputs": [],
   "source": [
    "mesh.load(inputPath + \"Mesh_\" + txtTanPhi + \".h5\")\n",
    "meshDevStress.load(inputPath + \"meshDevStress_\" + txtTanPhi + \".h5\")"
   ]
  },
  {
   "cell_type": "markdown",
   "metadata": {},
   "source": [
    "Plot deviatoric stress\n",
    "----"
   ]
  },
  {
   "cell_type": "code",
   "execution_count": null,
   "metadata": {
    "collapsed": false
   },
   "outputs": [],
   "source": [
    "maxWidth=1.\n",
    "figMeshStress = glucifer.Figure( figsize=(1200,400), boundingBox=((-maxWidth, 0.0, 0.0), (maxWidth, 1.0, 0.0)) )\n",
    "figMeshStress.append( glucifer.objects.Surface(mesh, meshDevStress  , colours=\"#0044BB, #777777, #FF9900\") )\n",
    "figMeshStress.show()"
   ]
  },
  {
   "cell_type": "markdown",
   "metadata": {},
   "source": [
    "Post-analysis: Shear band angle calculation\n",
    "----\n",
    "\n",
    "Calculate the angle the shear band makes to the vertical direction. This is clearest to see in the second invariant of the deviatoric stress tensor.\n",
    "\n",
    "The deviatoric stress tensor needs to be known near the weak point at the centre, bottom on the simulation domain. As this simulation is (most likely) done in parallel then not all information needed near the weak point is known to any single processor. \n",
    "\n",
    "Therefore we must determine the shear band angle by \n",
    "\n",
    "1. first collecting all data from all processors, easiest way to do this is to save the variable of interest and the mesh it exists on. \n",
    "2. create new mesh which is **not** partitioned. This means each processor sees the entire mesh.\n",
    "3. create a new variable and load the previously stored data onto it.\n",
    "4. use the new variable for analysis on a single processor."
   ]
  },
  {
   "cell_type": "markdown",
   "metadata": {},
   "source": [
    "**Conduct analysis on the first processor only**\n",
    "\n",
    "Output to screen and to a summary text file."
   ]
  },
  {
   "cell_type": "code",
   "execution_count": null,
   "metadata": {
    "collapsed": false,
    "scrolled": true
   },
   "outputs": [],
   "source": [
    "radius = 0.2\n",
    "nbin = 100\n",
    "theta = np.arange(0.,np.pi/2.0, np.pi/(2.*float(nbin)))\n",
    "fdev = np.zeros(nbin)\n",
    "xx = np.zeros(nbin)\n",
    "yy = np.zeros(nbin)\n",
    "fmax = 0.0\n",
    "for i in range(nbin):\n",
    "    xx[i] = radius*np.cos(np.pi/2.0 - theta[i])\n",
    "    yy[i] = radius*np.sin(np.pi/2.0 - theta[i])\n",
    "positions = np.zeros((nbin,2))\n",
    "for i in range(nbin):\n",
    "    positions[i][0]=xx[i]\n",
    "    positions[i][1]=yy[i]\n",
    "\n",
    "# global evaluations must be written so all processors go through this part\n",
    "#    (only rank=0 needs the correct info for the call though)\n",
    "fdev = meshDevStress.evaluate_global( positions )\n",
    "\n",
    "# back to rank=0 analysis\n",
    "if uw.rank()==0: \n",
    "    for i in range(nbin):\n",
    "        if(fmax<fdev[i]):\n",
    "            fmax = fdev[i]\n",
    "            thetamax = theta[i]\n",
    "    if(iExtension):\n",
    "        print('Extension model parameters:')\n",
    "    else:\n",
    "        print('Compression model parameters:')\n",
    "    thetaDeg = thetamax*180./np.pi\n",
    "    print('Res = {0:3d}*{1:3d}; C0 = {2:.1f}; Cinf = {3:.2f}'.format(resX, resY, cohesion, cinf))\n",
    "    print('tan(phi) = {0:.1f}; theta = {1:.1f}'.format(tanPhi, thetaDeg))\n",
    "    f = open('summary.out','w')\n",
    "    f.write('{0:3d} {1:3d} {2:.1f} {3:.2f} {4:.1f} {5:.1f}'.format(resX, resY, cohesion, cinf, tanPhi, thetaDeg))\n",
    "    f.close()\n"
   ]
  },
  {
   "cell_type": "markdown",
   "metadata": {},
   "source": [
    "Benchmark values\n",
    "----\n",
    "\n",
    "The measured angle of the shear bands ($\\theta$) for the benchmark values given in Table 2 of Lemiale et al 2008 and the pre-run ``underworld`` models are given by:\n",
    "\n",
    "| $\\tan$$\\phi$ | $\\theta$, Extension | $\\theta_{UW}$, Extension | $\\theta$; Compression | $\\theta_{UW}$; Compression|\n",
    "|:-----------|:---------:|:---------:|:---------:|:-----------:|\n",
    "| 0.0        |   45      |     43.2    |    45     |     42.3      |\n",
    "| 0.2        |   38      |     37.8    |    50     |     48.6      |\n",
    "| 0.4        |   34      |     32.4    |    56     |     56.7      |\n",
    "| 0.6        |   29      |     27.9    |    60     |     -      |\n",
    "| 0.7        |   26      |     26.1    |           |             |\n",
    "\n",
    "All ``underworld`` and the benchmark models were run with resolution 384$\\times$128 until the shear band was clearly visible (20 steps for most UW models). Extension models were run with an initial box size of (3.0$\\times$1.0), $C_0 = 4.0$ and $C_\\infty = 3.95$. For the compression models the initial box size was (4.0$\\times$1.0), $C_0 = 20.0$ and $C_\\infty = 10.0$. The shear band for the compression model with $\\tan$$\\phi = 0.6$ was not sufficiently well resolved in the test run with 20 steps to give a reliable angle.\n",
    "\n",
    "Note that the uncertainty in the benchmark values is $\\pm 2^\\circ$."
   ]
  },
  {
   "cell_type": "markdown",
   "metadata": {},
   "source": [
    "Plot deviatoric stress against angle $\\theta$\n",
    "-----\n",
    "\n",
    "Examine the stress against the angle $\\theta$ which is measured clockwise from the vertical axis at x=0. The red dot marks the maximum value used to determine the shear band angle as given above."
   ]
  },
  {
   "cell_type": "code",
   "execution_count": null,
   "metadata": {
    "collapsed": false
   },
   "outputs": [],
   "source": [
    "if((uw.nProcs()==1) and (uw.rank()==0)):\n",
    "    %matplotlib inline\n",
    "    pylab.rcParams['figure.figsize'] = 12, 6\n",
    "    pylab.rcParams['xtick.major.size'] = 5\n",
    "    pylab.rcParams['xtick.major.width'] = 2\n",
    "    pylab.rcParams['xtick.minor.size'] = 3\n",
    "    pylab.rcParams['xtick.minor.width'] = 2\n",
    "    pylab.rcParams['ytick.major.size'] = 5\n",
    "    pylab.rcParams['ytick.major.width'] = 2\n",
    "    pylab.rcParams['ytick.minor.size'] = 3\n",
    "    pylab.rcParams['ytick.minor.width'] = 2\n",
    "    pylab.rcParams['axes.linewidth'] = 2\n",
    "    pylab.rcParams['lines.linewidth'] = 2\n",
    "    pylab.rcParams['xtick.labelsize'] = 14\n",
    "    pylab.rcParams['ytick.labelsize'] = 14\n",
    "    pylab.rcParams['lines.markersize'] = 10\n",
    "    pyplot.plot(theta*180./np.pi, fdev, color = 'black') \n",
    "    pyplot.plot(thetamax*180./np.pi, fmax, 'ro')\n",
    "    pyplot.xlabel('Theta (degrees)', fontsize=20)\n",
    "    pyplot.ylabel('Deviatoric stress', fontsize=20)\n",
    "    pyplot.show()"
   ]
  },
  {
   "cell_type": "code",
   "execution_count": null,
   "metadata": {
    "collapsed": true
   },
   "outputs": [],
   "source": []
  }
 ],
 "metadata": {
  "kernelspec": {
   "display_name": "Python 2",
   "language": "python",
   "name": "python2"
  },
  "language_info": {
   "codemirror_mode": {
    "name": "ipython",
    "version": 2
   },
   "file_extension": ".py",
   "mimetype": "text/x-python",
   "name": "python",
   "nbconvert_exporter": "python",
   "pygments_lexer": "ipython2",
   "version": "2.7.10"
  }
 },
 "nbformat": 4,
 "nbformat_minor": 0
}
