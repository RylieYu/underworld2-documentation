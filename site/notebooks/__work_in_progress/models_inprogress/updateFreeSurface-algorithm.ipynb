{
 "cells": [
  {
   "cell_type": "code",
   "execution_count": null,
   "metadata": {
    "collapsed": false
   },
   "outputs": [],
   "source": [
    "import numpy as np\n",
    "import underworld as uw\n",
    "import glucifer"
   ]
  },
  {
   "cell_type": "code",
   "execution_count": null,
   "metadata": {
    "collapsed": true
   },
   "outputs": [],
   "source": [
    "# create mesh and deform (temperature-like field)\n",
    "(Lx, Ly) = (10.,10.)\n",
    "mesh = uw.mesh.FeMesh_Cartesian(elementType=('Q1'),elementRes=(8,8), maxCoord=(Lx,Ly))\n",
    "deform = uw.mesh.MeshVariable(mesh,nodeDofCount=1)\n",
    "# create 2nd mesh for visualisation\n",
    "mesh2 = uw.mesh.FeMesh_Cartesian(elementType=('Q1'),elementRes=(8,8), maxCoord=(Lx,Ly))"
   ]
  },
  {
   "cell_type": "code",
   "execution_count": null,
   "metadata": {
    "collapsed": false
   },
   "outputs": [],
   "source": [
    "fig1 = glucifer.Figure(rulers=True, rulerticks=5)\n",
    "fig1.append(glucifer.objects.Mesh(mesh,nodeNumbers=False, colour='blue'))\n",
    "fig1.show()"
   ]
  },
  {
   "cell_type": "code",
   "execution_count": null,
   "metadata": {
    "collapsed": true
   },
   "outputs": [],
   "source": [
    "# define top as 1, bottom as 0\n",
    "top = mesh.specialSets[\"MaxJ_VertexSet\"]\n",
    "bottom = mesh.specialSets[\"MinJ_VertexSet\"]\n",
    "deformBCs = uw.conditions.DirichletCondition(deform, indexSetsPerDof=(top+bottom))\n",
    "\n",
    "deform.data[top.data] = 1.0\n",
    "deform.data[bottom.data] = 0.0\n",
    "\n",
    "heatEq = uw.systems.SteadyStateHeat(deform, fn_diffusivity=1.0, conditions=deformBCs)\n",
    "solver = uw.systems.Solver(heatEq)\n",
    "solver.solve()"
   ]
  },
  {
   "cell_type": "code",
   "execution_count": null,
   "metadata": {
    "collapsed": true
   },
   "outputs": [],
   "source": [
    "# copy initial deform data\n",
    "initial = deform.data.copy()"
   ]
  },
  {
   "cell_type": "code",
   "execution_count": null,
   "metadata": {
    "collapsed": false
   },
   "outputs": [],
   "source": [
    "# deform the top surface with an arbitrary displacement, less than half cell width is best\n",
    "with mesh.deform_mesh():\n",
    "    for ind in top:\n",
    "        mesh.data[ind][1] += .250*np.sin(2.*np.pi*mesh.data[ind][0]/Lx)\n",
    "\n",
    "# duplicate new mesh\n",
    "with mesh2.deform_mesh():\n",
    "    mesh2.data[:] = mesh.data[:]"
   ]
  },
  {
   "cell_type": "code",
   "execution_count": null,
   "metadata": {
    "collapsed": false
   },
   "outputs": [],
   "source": [
    "fig1.append(glucifer.objects.Mesh(mesh2,nodeNumbers=False, colour='red'))\n",
    "fig1.show()"
   ]
  },
  {
   "cell_type": "code",
   "execution_count": null,
   "metadata": {
    "collapsed": true
   },
   "outputs": [],
   "source": [
    "# solve steadyStateEq again\n",
    "solver.solve()"
   ]
  },
  {
   "cell_type": "code",
   "execution_count": null,
   "metadata": {
    "collapsed": true
   },
   "outputs": [],
   "source": [
    "# get new deform values\n",
    "new = deform.evaluate(mesh.data)"
   ]
  },
  {
   "cell_type": "code",
   "execution_count": null,
   "metadata": {
    "collapsed": false
   },
   "outputs": [],
   "source": [
    "# get the non-zero temperature nodes\n",
    "inds = np.where(initial>0)[0]\n",
    "with mesh.deform_mesh():\n",
    "    # scale node ycoords with ratio of initial/new\n",
    "    mesh.data[inds,1] = mesh.data[inds,1]*(initial[inds]/new[inds]).T"
   ]
  },
  {
   "cell_type": "code",
   "execution_count": null,
   "metadata": {
    "collapsed": false
   },
   "outputs": [],
   "source": [
    "fig1.show()"
   ]
  }
 ],
 "metadata": {
  "kernelspec": {
   "display_name": "Python 2",
   "language": "python",
   "name": "python2"
  },
  "language_info": {
   "codemirror_mode": {
    "name": "ipython",
    "version": 2
   },
   "file_extension": ".py",
   "mimetype": "text/x-python",
   "name": "python",
   "nbconvert_exporter": "python",
   "pygments_lexer": "ipython2",
   "version": "2.7.11+"
  }
 },
 "nbformat": 4,
 "nbformat_minor": 0
}
