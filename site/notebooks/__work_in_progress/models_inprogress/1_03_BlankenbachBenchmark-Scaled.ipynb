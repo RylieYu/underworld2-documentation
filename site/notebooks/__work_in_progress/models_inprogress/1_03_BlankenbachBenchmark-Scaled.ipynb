{
 "cells": [
  {
   "cell_type": "markdown",
   "metadata": {},
   "source": [
    "Blankenbach Benchmark Case 1 (Scaled)\n",
    "======\n",
    "\n",
    "Steady isoviscous thermal convection\n",
    "----\n",
    "\n",
    "Two-dimensional, incompressible, bottom heated, steady isoviscous thermal convection in a 1 x 1 box, see case 1 of Blankenbach *et al.* 1989 for details.\n",
    "\n",
    "**This example introduces:**\n",
    "1. Loading/Saving variables to disk.\n",
    "2. Defining analysis tools.\n",
    "3. Finding a steady state.\n",
    "\n",
    "**Keywords:** Stokes system, advective diffusive systems, analysis tools\n",
    "\n",
    "**References**\n",
    "\n",
    "B. Blankenbach, F. Busse, U. Christensen, L. Cserepes, D. Gunkel, U. Hansen, H. Harder, G. Jarvis, M. Koch, G. Marquart, D. Moore, P. Olson, H. Schmeling and T. Schnaubelt. A benchmark comparison for mantle convection codes. Geophysical Journal International, 98, 1, 23–38, 1989\n",
    "http://onlinelibrary.wiley.com/doi/10.1111/j.1365-246X.1989.tb05511.x/abstract\n"
   ]
  },
  {
   "cell_type": "code",
   "execution_count": 1,
   "metadata": {
    "collapsed": true
   },
   "outputs": [],
   "source": [
    "import underworld as uw\n",
    "from underworld import function as fn\n",
    "import glucifer\n",
    "import math\n",
    "import numpy as np"
   ]
  },
  {
   "cell_type": "code",
   "execution_count": 3,
   "metadata": {
    "collapsed": false
   },
   "outputs": [],
   "source": [
    "import unsupported.scaling\n",
    "from unsupported.scaling import pint\n",
    "from unsupported.scaling import u\n",
    "from unsupported.scaling import nonDimensionalize as nd\n",
    "from unsupported.scaling import Dimensionalize as dim"
   ]
  },
  {
   "cell_type": "markdown",
   "metadata": {},
   "source": [
    "Setup parameters\n",
    "-----"
   ]
  },
  {
   "cell_type": "code",
   "execution_count": 4,
   "metadata": {
    "collapsed": false
   },
   "outputs": [],
   "source": [
    "case = \"a\"\n",
    "if(case==\"a\"):\n",
    "    kinematicViscosity = 2.5e19 * u.meter**2 / u.second\n",
    "elif(case==\"b\"):\n",
    "    kinematicViscosity = 2.5e18 * u.meter**2 / u.second\n",
    "else: \n",
    "    kinematicViscosity = 2.5e17 * u.meter**2 / u.second\n",
    "\n",
    "# Set grid resolution.\n",
    "res = 64\n",
    "\n",
    "boxHeight = 1e6 * u.meter\n",
    "boxLength = 1e6 * u.meter\n",
    "\n",
    "# Set max & min temperautres\n",
    "tempMin =    273.15 * u.degK\n",
    "tempMax = 1273.15 * u.degK\n",
    "\n",
    "thermalDiffusion = 1e-6 * u.meter**2 / u.second\n",
    "gravity = 10. * u.meter / u.second**2\n",
    "density = 4e3 * u.kilogram / u.meter**3\n",
    "Tref = 273.15 * u.degK\n",
    "thermalExpansionCoef = 2.5e-5 * u.degK**(-1)"
   ]
  },
  {
   "cell_type": "markdown",
   "metadata": {},
   "source": [
    "Raylegh number is $$Ra = \\alpha g \\Delta T h^3 / \\kappa \\nu$$"
   ]
  },
  {
   "cell_type": "code",
   "execution_count": 5,
   "metadata": {
    "collapsed": true
   },
   "outputs": [],
   "source": [
    "def RayleighNumber(alpha, g, dT, H, kappa, nu):\n",
    "    return alpha * g * dT * H**3 / kappa / nu"
   ]
  },
  {
   "cell_type": "code",
   "execution_count": 6,
   "metadata": {
    "collapsed": false
   },
   "outputs": [
    {
     "name": "stdout",
     "output_type": "stream",
     "text": [
      "10000.0 dimensionless\n"
     ]
    }
   ],
   "source": [
    "print RayleighNumber(alpha = thermalExpansionCoef, g = gravity, dT= (tempMax - tempMin), H = boxHeight, kappa = thermalDiffusion, nu=kinematicViscosity)\n",
    "Ra = RayleighNumber(alpha = thermalExpansionCoef, g = gravity, dT= (tempMax - tempMin), H = boxHeight, kappa = thermalDiffusion, nu=kinematicViscosity)"
   ]
  },
  {
   "cell_type": "markdown",
   "metadata": {},
   "source": [
    "# Define a set of characteristic values\n",
    "\n",
    "The K* factors will be used to make the parameter values dimensionless."
   ]
  },
  {
   "cell_type": "code",
   "execution_count": 7,
   "metadata": {
    "collapsed": false
   },
   "outputs": [],
   "source": [
    "KLength = boxHeight\n",
    "KTemp = (tempMax - tempMin)\n",
    "KTime = KLength**2 / thermalDiffusion\n",
    "KMass = density * KLength**3\n",
    "\n",
    "scaling = {\"[time]\": KTime,\n",
    "           \"[length]\": KLength, \n",
    "           \"[mass]\": KMass ,\n",
    "           \"[temperature]\": KTemp,\n",
    "           \"[substance]\": 1. * u.mole}"
   ]
  },
  {
   "cell_type": "markdown",
   "metadata": {},
   "source": [
    "# Scale parameter values"
   ]
  },
  {
   "cell_type": "code",
   "execution_count": 8,
   "metadata": {
    "collapsed": false
   },
   "outputs": [],
   "source": [
    "boxHeight = nd(boxHeight, scaling)\n",
    "boxLength = nd(boxLength, scaling)\n",
    "\n",
    "# Set max & min temperautres\n",
    "tempMin =    nd(tempMin, scaling)\n",
    "tempMax = nd(tempMax, scaling)\n",
    "\n",
    "thermalDiffusion = nd(thermalDiffusion, scaling)\n",
    "kinematicViscosity = nd(kinematicViscosity, scaling)\n",
    "gravity = nd(gravity, scaling)\n",
    "density = nd(density, scaling)\n",
    "Tref = nd(273.15 *u.degK, scaling)\n",
    "thermalExpansionCoef = nd(thermalExpansionCoef, scaling)"
   ]
  },
  {
   "cell_type": "code",
   "execution_count": 9,
   "metadata": {
    "collapsed": false
   },
   "outputs": [
    {
     "name": "stdout",
     "output_type": "stream",
     "text": [
      "boxHeight: 1.0\n",
      "tempMin: 0.27315\n",
      "tempMax: 1.27315\n",
      "thermalDiffusion: 1.0\n",
      "kinematicViscosity: 2.5e+25\n",
      "gravity: 1e+31\n",
      "density: 1.0\n",
      "thermalExpansionCoef: 0.025\n"
     ]
    }
   ],
   "source": [
    "print \"boxHeight:\", boxHeight\n",
    "print \"tempMin:\", tempMin \n",
    "print \"tempMax:\", tempMax\n",
    "print \"thermalDiffusion:\", thermalDiffusion\n",
    "print \"kinematicViscosity:\", kinematicViscosity\n",
    "print \"gravity:\", gravity\n",
    "print \"density:\", density\n",
    "print \"thermalExpansionCoef:\", thermalExpansionCoef"
   ]
  },
  {
   "cell_type": "markdown",
   "metadata": {},
   "source": [
    "Check Rayleigh number using scaled values:"
   ]
  },
  {
   "cell_type": "code",
   "execution_count": 30,
   "metadata": {
    "collapsed": false
   },
   "outputs": [
    {
     "data": {
      "text/plain": [
       "True"
      ]
     },
     "execution_count": 30,
     "metadata": {},
     "output_type": "execute_result"
    }
   ],
   "source": [
    "(Ra == RayleighNumber(alpha = thermalExpansionCoef, g = gravity, dT= (tempMax - tempMin), H = boxHeight, kappa = thermalDiffusion, nu=kinematicViscosity))"
   ]
  },
  {
   "cell_type": "markdown",
   "metadata": {},
   "source": [
    "Set input and output file directory "
   ]
  },
  {
   "cell_type": "code",
   "execution_count": 11,
   "metadata": {
    "collapsed": false
   },
   "outputs": [],
   "source": [
    "inputPath  = 'BBInput/'\n",
    "outputPath = 'BBOutput/'\n",
    "# Make output directory if necessary.\n",
    "if uw.rank()==0:\n",
    "    import os\n",
    "    if not os.path.exists(outputPath):\n",
    "        os.makedirs(outputPath)"
   ]
  },
  {
   "cell_type": "markdown",
   "metadata": {},
   "source": [
    "Create mesh and variables\n",
    "------"
   ]
  },
  {
   "cell_type": "code",
   "execution_count": 12,
   "metadata": {
    "collapsed": false
   },
   "outputs": [],
   "source": [
    "mesh = uw.mesh.FeMesh_Cartesian( elementType = (\"Q1/dQ0\"), \n",
    "                                 elementRes  = (res, res), \n",
    "                                 minCoord    = (0., 0.), \n",
    "                                 maxCoord    = (boxLength, boxHeight))\n",
    "\n",
    "velocityField       = uw.mesh.MeshVariable( mesh=mesh,         nodeDofCount=2 )\n",
    "pressureField       = uw.mesh.MeshVariable( mesh=mesh.subMesh, nodeDofCount=1 )\n",
    "temperatureField    = uw.mesh.MeshVariable( mesh=mesh,         nodeDofCount=1 )\n",
    "temperatureDotField = uw.mesh.MeshVariable( mesh=mesh,         nodeDofCount=1 )\n",
    "\n",
    "# initialise velocity, pressure and temperatureDot field\n",
    "velocityField.data[:]       = [0.,0.]\n",
    "pressureField.data[:]       = 0.\n",
    "temperatureField.data[:]    = 0.\n",
    "temperatureDotField.data[:] = 0."
   ]
  },
  {
   "cell_type": "markdown",
   "metadata": {},
   "source": [
    "Set up material parameters and functions\n",
    "-----\n",
    "\n",
    "Set values and functions for viscosity, density and buoyancy force."
   ]
  },
  {
   "cell_type": "code",
   "execution_count": 13,
   "metadata": {
    "collapsed": false
   },
   "outputs": [],
   "source": [
    "# Set a constant viscosity.\n",
    "viscosity = kinematicViscosity\n",
    "\n",
    "# Create our density function.\n",
    "densityFn = density * (1.0 - thermalExpansionCoef * (temperatureField - Tref))\n",
    "\n",
    "# Define our vertical unit vector using a python tuple (this will be automatically converted to a function).\n",
    "z_hat = ( 0.0, -1.0 )\n",
    "\n",
    "# A buoyancy function.\n",
    "buoyancyFn = densityFn * z_hat * gravity"
   ]
  },
  {
   "cell_type": "markdown",
   "metadata": {},
   "source": [
    "Set initial temperature field\n",
    "-----\n",
    "The initial temperature field can be loaded from a pre-run steady state data set ( ``LoadFromFile = True`` ) or set to a sinusodial perterbation ( ``LoadFromFile = False`` )."
   ]
  },
  {
   "cell_type": "code",
   "execution_count": 14,
   "metadata": {
    "collapsed": false
   },
   "outputs": [],
   "source": [
    "# Steady state temperature field to be loaded from data file.\n",
    "LoadFromFile = False"
   ]
  },
  {
   "cell_type": "markdown",
   "metadata": {
    "collapsed": false
   },
   "source": [
    "**If loading steady state data set**\n",
    "\n",
    "Data is stored in h5 format from a 64\\*64 grid resolution model.  Data has been saved for 3 different Rayleigh numbers, $Ra = 10^4$, $10^5$ or $10^6$. \n",
    "\n",
    "Once loaded the data will need to be re-meshed onto a new grid, unless the new resolution is also 64\\*64.\n",
    "\n",
    "For more information on using meshes see the user guide.\n"
   ]
  },
  {
   "cell_type": "code",
   "execution_count": 15,
   "metadata": {
    "collapsed": false
   },
   "outputs": [],
   "source": [
    "if(LoadFromFile == True):\n",
    "    # Setup mesh and temperature field for 64*64 data file.\n",
    "    mesh64 = uw.mesh.FeMesh_Cartesian( elementType = (\"Q1/dQ0\"), \n",
    "                                       elementRes  = (64, 64), \n",
    "                                       minCoord    = (0., 0.), \n",
    "                                       maxCoord    = (boxLength, boxHeight),\n",
    "                                       partitioned = False )\n",
    "    temperatureField64  = uw.mesh.MeshVariable( mesh=mesh64, nodeDofCount=1 ) \n",
    "    \n",
    "    # read in saved steady state temperature field data\n",
    "    if( case == \"a\" ):\n",
    "        temperatureField64.load(inputPath+'tempfield_inp_64_Ra1e4.h5')\n",
    "        print('Loading 64*64 for Ra = 1e4')\n",
    "    elif( case == \"b\" ):\n",
    "        temperatureField64.load(inputPath+'tempfield_inp_64_Ra1e5.h5')\n",
    "        print('Loading 64*64 for Ra = 1e5')\n",
    "    else:\n",
    "        temperatureField64.load(inputPath+'tempfield_inp_64_Ra1e6.h5')\n",
    "        print('Loading 64*64 for Ra = 1e6')\n",
    "        \n",
    "    if( res==64 ): # no remeshing needed, copy directly\n",
    "        temperatureField.data[:] = temperatureField64.data[:]\n",
    "    else: # remeshing needed\n",
    "        temperatureField.data[:] = temperatureField64.evaluate(mesh)"
   ]
  },
  {
   "cell_type": "markdown",
   "metadata": {},
   "source": [
    "**If using sinusodial perturbation**"
   ]
  },
  {
   "cell_type": "code",
   "execution_count": 16,
   "metadata": {
    "collapsed": true
   },
   "outputs": [],
   "source": [
    "if(LoadFromFile == False):\n",
    "    temperatureField.data[:] = 0.\n",
    "    pertStrength = nd(100 * u.degK, scaling) # 100 degK perturbation\n",
    "    deltaTemp = tempMax - tempMin\n",
    "    for index, coord in enumerate(mesh.data):\n",
    "        pertCoeff = math.cos( math.pi * coord[0]/boxLength ) * math.sin( math.pi * coord[1]/boxLength )\n",
    "        temperatureField.data[index] = tempMin + deltaTemp*(boxHeight - coord[1]) + pertStrength * pertCoeff\n",
    "        temperatureField.data[index] = max(tempMin, min(tempMax, temperatureField.data[index]))"
   ]
  },
  {
   "cell_type": "markdown",
   "metadata": {},
   "source": [
    "**Show initial temperature field**\n"
   ]
  },
  {
   "cell_type": "code",
   "execution_count": 17,
   "metadata": {
    "collapsed": false
   },
   "outputs": [
    {
     "data": {
      "text/html": [
       "<style>\n",
       ".lvctrl input { display: inline; }\n",
       ".lvctrl input[type=range] { width: 200px; }\n",
       ".lvctrl input[type=button] { width: 50px; }\n",
       ".lvctrl input[type=number] { width: 120px; height: 28px; border-radius: 0; border: 1px dotted #999;}\n",
       ".lvctrl pre { display: inline; }\n",
       ".lvctrl p  { color: gray; margin: 0px}\n",
       "\n",
       "/* Colour select */\n",
       ".colourbg {display: inline-block; margin:5px 0px; width: 100px; height: 20px; border: 1px dotted #999; }\n",
       ".colour {display: inline-block; width: 100%; height: 100%; margin: 0px; padding: 0px; border: none;}\n",
       "\n",
       ".checkerboard {background-image: url(\"data:image/png;base64,iVBORw0KGgoAAAANSUhEUgAAABAAAAAQCAYAAAAf8/9hAAAAIElEQVQ4jWP4TwAcOHAAL2YYNWBYGEBIASEwasCwMAAALvidroqDalkAAAAASUVORK5CYII=\");}\n",
       "\n",
       ".palette {margin: 3px; border:1px solid #000; border: 1px dotted #000;}\n",
       "\n",
       "\n",
       "</style>\n",
       "\n",
       "<script id=\"line-fs\" type=\"x-shader/x-fragment\">\n",
       "precision highp float;\n",
       "varying vec4 vColour;\n",
       "void main(void)\n",
       "{\n",
       "  gl_FragColor = vColour;\n",
       "}\n",
       "</script>\n",
       "\n",
       "<script id=\"line-vs\" type=\"x-shader/x-vertex\">\n",
       "precision highp float;\n",
       "//Line vertex shader\n",
       "attribute vec3 aVertexPosition;\n",
       "uniform mat4 uMVMatrix;\n",
       "uniform mat4 uPMatrix;\n",
       "uniform vec4 uColour;\n",
       "varying vec4 vColour;\n",
       "void main(void)\n",
       "{\n",
       "  vec4 mvPosition = uMVMatrix * vec4(aVertexPosition, 1.0);\n",
       "  gl_Position = uPMatrix * mvPosition;\n",
       "  vColour = uColour;\n",
       "}\n",
       "</script>\n",
       "<script>\n",
       "// gl-matrix 1.3.7 - https://github.com/toji/gl-matrix/blob/master/LICENSE.md\n",
       "(function(w,D){\"object\"===typeof exports?module.exports=D(global):\"function\"===false/*OK: removed require.js support.. typeof define&&define.amd*/?define([],function(){return D(w)}):D(w)})(this,function(w){function D(a){return o=a}function G(){return o=\"undefined\"!==typeof Float32Array?Float32Array:Array}var E={};(function(){if(\"undefined\"!=typeof Float32Array){var a=new Float32Array(1),b=new Int32Array(a.buffer);E.invsqrt=function(c){a[0]=c;b[0]=1597463007-(b[0]>>1);var d=a[0];return d*(1.5-0.5*c*d*d)}}else E.invsqrt=function(a){return 1/\n",
       "Math.sqrt(a)}})();var o=null;G();var r={create:function(a){var b=new o(3);a?(b[0]=a[0],b[1]=a[1],b[2]=a[2]):b[0]=b[1]=b[2]=0;return b},createFrom:function(a,b,c){var d=new o(3);d[0]=a;d[1]=b;d[2]=c;return d},set:function(a,b){b[0]=a[0];b[1]=a[1];b[2]=a[2];return b},equal:function(a,b){return a===b||1.0E-6>Math.abs(a[0]-b[0])&&1.0E-6>Math.abs(a[1]-b[1])&&1.0E-6>Math.abs(a[2]-b[2])},add:function(a,b,c){if(!c||a===c)return a[0]+=b[0],a[1]+=b[1],a[2]+=b[2],a;c[0]=a[0]+b[0];c[1]=a[1]+b[1];c[2]=a[2]+b[2];\n",
       "return c},subtract:function(a,b,c){if(!c||a===c)return a[0]-=b[0],a[1]-=b[1],a[2]-=b[2],a;c[0]=a[0]-b[0];c[1]=a[1]-b[1];c[2]=a[2]-b[2];return c},multiply:function(a,b,c){if(!c||a===c)return a[0]*=b[0],a[1]*=b[1],a[2]*=b[2],a;c[0]=a[0]*b[0];c[1]=a[1]*b[1];c[2]=a[2]*b[2];return c},negate:function(a,b){b||(b=a);b[0]=-a[0];b[1]=-a[1];b[2]=-a[2];return b},scale:function(a,b,c){if(!c||a===c)return a[0]*=b,a[1]*=b,a[2]*=b,a;c[0]=a[0]*b;c[1]=a[1]*b;c[2]=a[2]*b;return c},normalize:function(a,b){b||(b=a);var c=\n",
       "a[0],d=a[1],e=a[2],g=Math.sqrt(c*c+d*d+e*e);if(!g)return b[0]=0,b[1]=0,b[2]=0,b;if(1===g)return b[0]=c,b[1]=d,b[2]=e,b;g=1/g;b[0]=c*g;b[1]=d*g;b[2]=e*g;return b},cross:function(a,b,c){c||(c=a);var d=a[0],e=a[1],a=a[2],g=b[0],f=b[1],b=b[2];c[0]=e*b-a*f;c[1]=a*g-d*b;c[2]=d*f-e*g;return c},length:function(a){var b=a[0],c=a[1],a=a[2];return Math.sqrt(b*b+c*c+a*a)},squaredLength:function(a){var b=a[0],c=a[1],a=a[2];return b*b+c*c+a*a},dot:function(a,b){return a[0]*b[0]+a[1]*b[1]+a[2]*b[2]},direction:function(a,\n",
       "b,c){c||(c=a);var d=a[0]-b[0],e=a[1]-b[1],a=a[2]-b[2],b=Math.sqrt(d*d+e*e+a*a);if(!b)return c[0]=0,c[1]=0,c[2]=0,c;b=1/b;c[0]=d*b;c[1]=e*b;c[2]=a*b;return c},lerp:function(a,b,c,d){d||(d=a);d[0]=a[0]+c*(b[0]-a[0]);d[1]=a[1]+c*(b[1]-a[1]);d[2]=a[2]+c*(b[2]-a[2]);return d},dist:function(a,b){var c=b[0]-a[0],d=b[1]-a[1],e=b[2]-a[2];return Math.sqrt(c*c+d*d+e*e)}},H=null,y=new o(4);r.unproject=function(a,b,c,d,e){e||(e=a);H||(H=x.create());var g=H;y[0]=2*(a[0]-d[0])/d[2]-1;y[1]=2*(a[1]-d[1])/d[3]-1;y[2]=\n",
       "2*a[2]-1;y[3]=1;x.multiply(c,b,g);if(!x.inverse(g))return null;x.multiplyVec4(g,y);if(0===y[3])return null;e[0]=y[0]/y[3];e[1]=y[1]/y[3];e[2]=y[2]/y[3];return e};var L=r.createFrom(1,0,0),M=r.createFrom(0,1,0),N=r.createFrom(0,0,1),z=r.create();r.rotationTo=function(a,b,c){c||(c=k.create());var d=r.dot(a,b);if(1<=d)k.set(O,c);else if(-0.999999>d)r.cross(L,a,z),1.0E-6>r.length(z)&&r.cross(M,a,z),1.0E-6>r.length(z)&&r.cross(N,a,z),r.normalize(z),k.fromAngleAxis(Math.PI,z,c);else{var d=Math.sqrt(2*(1+\n",
       "d)),e=1/d;r.cross(a,b,z);c[0]=z[0]*e;c[1]=z[1]*e;c[2]=z[2]*e;c[3]=0.5*d;k.normalize(c)}1<c[3]?c[3]=1:-1>c[3]&&(c[3]=-1);return c};r.str=function(a){return\"[\"+a[0]+\", \"+a[1]+\", \"+a[2]+\"]\"};var A={create:function(a){var b=new o(9);a?(b[0]=a[0],b[1]=a[1],b[2]=a[2],b[3]=a[3],b[4]=a[4],b[5]=a[5],b[6]=a[6],b[7]=a[7],b[8]=a[8]):b[0]=b[1]=b[2]=b[3]=b[4]=b[5]=b[6]=b[7]=b[8]=0;return b},createFrom:function(a,b,c,d,e,g,f,h,j){var i=new o(9);i[0]=a;i[1]=b;i[2]=c;i[3]=d;i[4]=e;i[5]=g;i[6]=f;i[7]=h;i[8]=j;return i},\n",
       "determinant:function(a){var b=a[3],c=a[4],d=a[5],e=a[6],g=a[7],f=a[8];return a[0]*(f*c-d*g)+a[1]*(-f*b+d*e)+a[2]*(g*b-c*e)},inverse:function(a,b){var c=a[0],d=a[1],e=a[2],g=a[3],f=a[4],h=a[5],j=a[6],i=a[7],m=a[8],l=m*f-h*i,C=-m*g+h*j,q=i*g-f*j,n=c*l+d*C+e*q;if(!n)return null;n=1/n;b||(b=A.create());b[0]=l*n;b[1]=(-m*d+e*i)*n;b[2]=(h*d-e*f)*n;b[3]=C*n;b[4]=(m*c-e*j)*n;b[5]=(-h*c+e*g)*n;b[6]=q*n;b[7]=(-i*c+d*j)*n;b[8]=(f*c-d*g)*n;return b},multiply:function(a,b,c){c||(c=a);var d=a[0],e=a[1],g=a[2],\n",
       "f=a[3],h=a[4],j=a[5],i=a[6],m=a[7],a=a[8],l=b[0],C=b[1],q=b[2],n=b[3],k=b[4],p=b[5],o=b[6],s=b[7],b=b[8];c[0]=l*d+C*f+q*i;c[1]=l*e+C*h+q*m;c[2]=l*g+C*j+q*a;c[3]=n*d+k*f+p*i;c[4]=n*e+k*h+p*m;c[5]=n*g+k*j+p*a;c[6]=o*d+s*f+b*i;c[7]=o*e+s*h+b*m;c[8]=o*g+s*j+b*a;return c},multiplyVec2:function(a,b,c){c||(c=b);var d=b[0],b=b[1];c[0]=d*a[0]+b*a[3]+a[6];c[1]=d*a[1]+b*a[4]+a[7];return c},multiplyVec3:function(a,b,c){c||(c=b);var d=b[0],e=b[1],b=b[2];c[0]=d*a[0]+e*a[3]+b*a[6];c[1]=d*a[1]+e*a[4]+b*a[7];c[2]=\n",
       "d*a[2]+e*a[5]+b*a[8];return c},set:function(a,b){b[0]=a[0];b[1]=a[1];b[2]=a[2];b[3]=a[3];b[4]=a[4];b[5]=a[5];b[6]=a[6];b[7]=a[7];b[8]=a[8];return b},equal:function(a,b){return a===b||1.0E-6>Math.abs(a[0]-b[0])&&1.0E-6>Math.abs(a[1]-b[1])&&1.0E-6>Math.abs(a[2]-b[2])&&1.0E-6>Math.abs(a[3]-b[3])&&1.0E-6>Math.abs(a[4]-b[4])&&1.0E-6>Math.abs(a[5]-b[5])&&1.0E-6>Math.abs(a[6]-b[6])&&1.0E-6>Math.abs(a[7]-b[7])&&1.0E-6>Math.abs(a[8]-b[8])},identity:function(a){a||(a=A.create());a[0]=1;a[1]=0;a[2]=0;a[3]=0;\n",
       "a[4]=1;a[5]=0;a[6]=0;a[7]=0;a[8]=1;return a},transpose:function(a,b){if(!b||a===b){var c=a[1],d=a[2],e=a[5];a[1]=a[3];a[2]=a[6];a[3]=c;a[5]=a[7];a[6]=d;a[7]=e;return a}b[0]=a[0];b[1]=a[3];b[2]=a[6];b[3]=a[1];b[4]=a[4];b[5]=a[7];b[6]=a[2];b[7]=a[5];b[8]=a[8];return b},toMat4:function(a,b){b||(b=x.create());b[15]=1;b[14]=0;b[13]=0;b[12]=0;b[11]=0;b[10]=a[8];b[9]=a[7];b[8]=a[6];b[7]=0;b[6]=a[5];b[5]=a[4];b[4]=a[3];b[3]=0;b[2]=a[2];b[1]=a[1];b[0]=a[0];return b},str:function(a){return\"[\"+a[0]+\", \"+a[1]+\n",
       "\", \"+a[2]+\", \"+a[3]+\", \"+a[4]+\", \"+a[5]+\", \"+a[6]+\", \"+a[7]+\", \"+a[8]+\"]\"}},x={create:function(a){var b=new o(16);a&&(b[0]=a[0],b[1]=a[1],b[2]=a[2],b[3]=a[3],b[4]=a[4],b[5]=a[5],b[6]=a[6],b[7]=a[7],b[8]=a[8],b[9]=a[9],b[10]=a[10],b[11]=a[11],b[12]=a[12],b[13]=a[13],b[14]=a[14],b[15]=a[15]);return b},createFrom:function(a,b,c,d,e,g,f,h,j,i,m,l,C,q,n,k){var p=new o(16);p[0]=a;p[1]=b;p[2]=c;p[3]=d;p[4]=e;p[5]=g;p[6]=f;p[7]=h;p[8]=j;p[9]=i;p[10]=m;p[11]=l;p[12]=C;p[13]=q;p[14]=n;p[15]=k;return p},set:function(a,\n",
       "b){b[0]=a[0];b[1]=a[1];b[2]=a[2];b[3]=a[3];b[4]=a[4];b[5]=a[5];b[6]=a[6];b[7]=a[7];b[8]=a[8];b[9]=a[9];b[10]=a[10];b[11]=a[11];b[12]=a[12];b[13]=a[13];b[14]=a[14];b[15]=a[15];return b},equal:function(a,b){return a===b||1.0E-6>Math.abs(a[0]-b[0])&&1.0E-6>Math.abs(a[1]-b[1])&&1.0E-6>Math.abs(a[2]-b[2])&&1.0E-6>Math.abs(a[3]-b[3])&&1.0E-6>Math.abs(a[4]-b[4])&&1.0E-6>Math.abs(a[5]-b[5])&&1.0E-6>Math.abs(a[6]-b[6])&&1.0E-6>Math.abs(a[7]-b[7])&&1.0E-6>Math.abs(a[8]-b[8])&&1.0E-6>Math.abs(a[9]-b[9])&&1.0E-6>\n",
       "Math.abs(a[10]-b[10])&&1.0E-6>Math.abs(a[11]-b[11])&&1.0E-6>Math.abs(a[12]-b[12])&&1.0E-6>Math.abs(a[13]-b[13])&&1.0E-6>Math.abs(a[14]-b[14])&&1.0E-6>Math.abs(a[15]-b[15])},identity:function(a){a||(a=x.create());a[0]=1;a[1]=0;a[2]=0;a[3]=0;a[4]=0;a[5]=1;a[6]=0;a[7]=0;a[8]=0;a[9]=0;a[10]=1;a[11]=0;a[12]=0;a[13]=0;a[14]=0;a[15]=1;return a},transpose:function(a,b){if(!b||a===b){var c=a[1],d=a[2],e=a[3],g=a[6],f=a[7],h=a[11];a[1]=a[4];a[2]=a[8];a[3]=a[12];a[4]=c;a[6]=a[9];a[7]=a[13];a[8]=d;a[9]=g;a[11]=\n",
       "a[14];a[12]=e;a[13]=f;a[14]=h;return a}b[0]=a[0];b[1]=a[4];b[2]=a[8];b[3]=a[12];b[4]=a[1];b[5]=a[5];b[6]=a[9];b[7]=a[13];b[8]=a[2];b[9]=a[6];b[10]=a[10];b[11]=a[14];b[12]=a[3];b[13]=a[7];b[14]=a[11];b[15]=a[15];return b},determinant:function(a){var b=a[0],c=a[1],d=a[2],e=a[3],g=a[4],f=a[5],h=a[6],j=a[7],i=a[8],m=a[9],l=a[10],C=a[11],q=a[12],n=a[13],k=a[14],a=a[15];return q*m*h*e-i*n*h*e-q*f*l*e+g*n*l*e+i*f*k*e-g*m*k*e-q*m*d*j+i*n*d*j+q*c*l*j-b*n*l*j-i*c*k*j+b*m*k*j+q*f*d*C-g*n*d*C-q*c*h*C+b*n*h*C+\n",
       "g*c*k*C-b*f*k*C-i*f*d*a+g*m*d*a+i*c*h*a-b*m*h*a-g*c*l*a+b*f*l*a},inverse:function(a,b){b||(b=a);var c=a[0],d=a[1],e=a[2],g=a[3],f=a[4],h=a[5],j=a[6],i=a[7],m=a[8],l=a[9],k=a[10],q=a[11],n=a[12],o=a[13],p=a[14],r=a[15],s=c*h-d*f,v=c*j-e*f,t=c*i-g*f,u=d*j-e*h,w=d*i-g*h,x=e*i-g*j,y=m*o-l*n,z=m*p-k*n,F=m*r-q*n,A=l*p-k*o,D=l*r-q*o,E=k*r-q*p,B=s*E-v*D+t*A+u*F-w*z+x*y;if(!B)return null;B=1/B;b[0]=(h*E-j*D+i*A)*B;b[1]=(-d*E+e*D-g*A)*B;b[2]=(o*x-p*w+r*u)*B;b[3]=(-l*x+k*w-q*u)*B;b[4]=(-f*E+j*F-i*z)*B;b[5]=\n",
       "(c*E-e*F+g*z)*B;b[6]=(-n*x+p*t-r*v)*B;b[7]=(m*x-k*t+q*v)*B;b[8]=(f*D-h*F+i*y)*B;b[9]=(-c*D+d*F-g*y)*B;b[10]=(n*w-o*t+r*s)*B;b[11]=(-m*w+l*t-q*s)*B;b[12]=(-f*A+h*z-j*y)*B;b[13]=(c*A-d*z+e*y)*B;b[14]=(-n*u+o*v-p*s)*B;b[15]=(m*u-l*v+k*s)*B;return b},toRotationMat:function(a,b){b||(b=x.create());b[0]=a[0];b[1]=a[1];b[2]=a[2];b[3]=a[3];b[4]=a[4];b[5]=a[5];b[6]=a[6];b[7]=a[7];b[8]=a[8];b[9]=a[9];b[10]=a[10];b[11]=a[11];b[12]=0;b[13]=0;b[14]=0;b[15]=1;return b},toMat3:function(a,b){b||(b=A.create());b[0]=\n",
       "a[0];b[1]=a[1];b[2]=a[2];b[3]=a[4];b[4]=a[5];b[5]=a[6];b[6]=a[8];b[7]=a[9];b[8]=a[10];return b},toInverseMat3:function(a,b){var c=a[0],d=a[1],e=a[2],g=a[4],f=a[5],h=a[6],j=a[8],i=a[9],m=a[10],l=m*f-h*i,k=-m*g+h*j,q=i*g-f*j,n=c*l+d*k+e*q;if(!n)return null;n=1/n;b||(b=A.create());b[0]=l*n;b[1]=(-m*d+e*i)*n;b[2]=(h*d-e*f)*n;b[3]=k*n;b[4]=(m*c-e*j)*n;b[5]=(-h*c+e*g)*n;b[6]=q*n;b[7]=(-i*c+d*j)*n;b[8]=(f*c-d*g)*n;return b},multiply:function(a,b,c){c||(c=a);var d=a[0],e=a[1],g=a[2],f=a[3],h=a[4],j=a[5],\n",
       "i=a[6],m=a[7],l=a[8],k=a[9],q=a[10],n=a[11],o=a[12],p=a[13],r=a[14],a=a[15],s=b[0],v=b[1],t=b[2],u=b[3];c[0]=s*d+v*h+t*l+u*o;c[1]=s*e+v*j+t*k+u*p;c[2]=s*g+v*i+t*q+u*r;c[3]=s*f+v*m+t*n+u*a;s=b[4];v=b[5];t=b[6];u=b[7];c[4]=s*d+v*h+t*l+u*o;c[5]=s*e+v*j+t*k+u*p;c[6]=s*g+v*i+t*q+u*r;c[7]=s*f+v*m+t*n+u*a;s=b[8];v=b[9];t=b[10];u=b[11];c[8]=s*d+v*h+t*l+u*o;c[9]=s*e+v*j+t*k+u*p;c[10]=s*g+v*i+t*q+u*r;c[11]=s*f+v*m+t*n+u*a;s=b[12];v=b[13];t=b[14];u=b[15];c[12]=s*d+v*h+t*l+u*o;c[13]=s*e+v*j+t*k+u*p;c[14]=s*g+\n",
       "v*i+t*q+u*r;c[15]=s*f+v*m+t*n+u*a;return c},multiplyVec3:function(a,b,c){c||(c=b);var d=b[0],e=b[1],b=b[2];c[0]=a[0]*d+a[4]*e+a[8]*b+a[12];c[1]=a[1]*d+a[5]*e+a[9]*b+a[13];c[2]=a[2]*d+a[6]*e+a[10]*b+a[14];return c},multiplyVec4:function(a,b,c){c||(c=b);var d=b[0],e=b[1],g=b[2],b=b[3];c[0]=a[0]*d+a[4]*e+a[8]*g+a[12]*b;c[1]=a[1]*d+a[5]*e+a[9]*g+a[13]*b;c[2]=a[2]*d+a[6]*e+a[10]*g+a[14]*b;c[3]=a[3]*d+a[7]*e+a[11]*g+a[15]*b;return c},translate:function(a,b,c){var d=b[0],e=b[1],b=b[2],g,f,h,j,i,m,l,k,q,\n",
       "n,o,p;if(!c||a===c)return a[12]=a[0]*d+a[4]*e+a[8]*b+a[12],a[13]=a[1]*d+a[5]*e+a[9]*b+a[13],a[14]=a[2]*d+a[6]*e+a[10]*b+a[14],a[15]=a[3]*d+a[7]*e+a[11]*b+a[15],a;g=a[0];f=a[1];h=a[2];j=a[3];i=a[4];m=a[5];l=a[6];k=a[7];q=a[8];n=a[9];o=a[10];p=a[11];c[0]=g;c[1]=f;c[2]=h;c[3]=j;c[4]=i;c[5]=m;c[6]=l;c[7]=k;c[8]=q;c[9]=n;c[10]=o;c[11]=p;c[12]=g*d+i*e+q*b+a[12];c[13]=f*d+m*e+n*b+a[13];c[14]=h*d+l*e+o*b+a[14];c[15]=j*d+k*e+p*b+a[15];return c},scale:function(a,b,c){var d=b[0],e=b[1],b=b[2];if(!c||a===c)return a[0]*=\n",
       "d,a[1]*=d,a[2]*=d,a[3]*=d,a[4]*=e,a[5]*=e,a[6]*=e,a[7]*=e,a[8]*=b,a[9]*=b,a[10]*=b,a[11]*=b,a;c[0]=a[0]*d;c[1]=a[1]*d;c[2]=a[2]*d;c[3]=a[3]*d;c[4]=a[4]*e;c[5]=a[5]*e;c[6]=a[6]*e;c[7]=a[7]*e;c[8]=a[8]*b;c[9]=a[9]*b;c[10]=a[10]*b;c[11]=a[11]*b;c[12]=a[12];c[13]=a[13];c[14]=a[14];c[15]=a[15];return c},rotate:function(a,b,c,d){var e=c[0],g=c[1],c=c[2],f=Math.sqrt(e*e+g*g+c*c),h,j,i,m,l,k,q,n,o,p,r,s,v,t,u,w,x,y,z,A;if(!f)return null;1!==f&&(f=1/f,e*=f,g*=f,c*=f);h=Math.sin(b);j=Math.cos(b);i=1-j;b=a[0];\n",
       "f=a[1];m=a[2];l=a[3];k=a[4];q=a[5];n=a[6];o=a[7];p=a[8];r=a[9];s=a[10];v=a[11];t=e*e*i+j;u=g*e*i+c*h;w=c*e*i-g*h;x=e*g*i-c*h;y=g*g*i+j;z=c*g*i+e*h;A=e*c*i+g*h;e=g*c*i-e*h;g=c*c*i+j;d?a!==d&&(d[12]=a[12],d[13]=a[13],d[14]=a[14],d[15]=a[15]):d=a;d[0]=b*t+k*u+p*w;d[1]=f*t+q*u+r*w;d[2]=m*t+n*u+s*w;d[3]=l*t+o*u+v*w;d[4]=b*x+k*y+p*z;d[5]=f*x+q*y+r*z;d[6]=m*x+n*y+s*z;d[7]=l*x+o*y+v*z;d[8]=b*A+k*e+p*g;d[9]=f*A+q*e+r*g;d[10]=m*A+n*e+s*g;d[11]=l*A+o*e+v*g;return d},rotateX:function(a,b,c){var d=Math.sin(b),\n",
       "b=Math.cos(b),e=a[4],g=a[5],f=a[6],h=a[7],j=a[8],i=a[9],m=a[10],l=a[11];c?a!==c&&(c[0]=a[0],c[1]=a[1],c[2]=a[2],c[3]=a[3],c[12]=a[12],c[13]=a[13],c[14]=a[14],c[15]=a[15]):c=a;c[4]=e*b+j*d;c[5]=g*b+i*d;c[6]=f*b+m*d;c[7]=h*b+l*d;c[8]=e*-d+j*b;c[9]=g*-d+i*b;c[10]=f*-d+m*b;c[11]=h*-d+l*b;return c},rotateY:function(a,b,c){var d=Math.sin(b),b=Math.cos(b),e=a[0],g=a[1],f=a[2],h=a[3],j=a[8],i=a[9],m=a[10],l=a[11];c?a!==c&&(c[4]=a[4],c[5]=a[5],c[6]=a[6],c[7]=a[7],c[12]=a[12],c[13]=a[13],c[14]=a[14],c[15]=\n",
       "a[15]):c=a;c[0]=e*b+j*-d;c[1]=g*b+i*-d;c[2]=f*b+m*-d;c[3]=h*b+l*-d;c[8]=e*d+j*b;c[9]=g*d+i*b;c[10]=f*d+m*b;c[11]=h*d+l*b;return c},rotateZ:function(a,b,c){var d=Math.sin(b),b=Math.cos(b),e=a[0],g=a[1],f=a[2],h=a[3],j=a[4],i=a[5],m=a[6],l=a[7];c?a!==c&&(c[8]=a[8],c[9]=a[9],c[10]=a[10],c[11]=a[11],c[12]=a[12],c[13]=a[13],c[14]=a[14],c[15]=a[15]):c=a;c[0]=e*b+j*d;c[1]=g*b+i*d;c[2]=f*b+m*d;c[3]=h*b+l*d;c[4]=e*-d+j*b;c[5]=g*-d+i*b;c[6]=f*-d+m*b;c[7]=h*-d+l*b;return c},frustum:function(a,b,c,d,e,g,f){f||\n",
       "(f=x.create());var h=b-a,j=d-c,i=g-e;f[0]=2*e/h;f[1]=0;f[2]=0;f[3]=0;f[4]=0;f[5]=2*e/j;f[6]=0;f[7]=0;f[8]=(b+a)/h;f[9]=(d+c)/j;f[10]=-(g+e)/i;f[11]=-1;f[12]=0;f[13]=0;f[14]=-(2*g*e)/i;f[15]=0;return f},perspective:function(a,b,c,d,e){a=c*Math.tan(a*Math.PI/360);b*=a;return x.frustum(-b,b,-a,a,c,d,e)},ortho:function(a,b,c,d,e,g,f){f||(f=x.create());var h=b-a,j=d-c,i=g-e;f[0]=2/h;f[1]=0;f[2]=0;f[3]=0;f[4]=0;f[5]=2/j;f[6]=0;f[7]=0;f[8]=0;f[9]=0;f[10]=-2/i;f[11]=0;f[12]=-(a+b)/h;f[13]=-(d+c)/j;f[14]=\n",
       "-(g+e)/i;f[15]=1;return f},lookAt:function(a,b,c,d){d||(d=x.create());var e,g,f,h,j,i,m,l,k=a[0],o=a[1],a=a[2];f=c[0];h=c[1];g=c[2];m=b[0];c=b[1];e=b[2];if(k===m&&o===c&&a===e)return x.identity(d);b=k-m;c=o-c;m=a-e;l=1/Math.sqrt(b*b+c*c+m*m);b*=l;c*=l;m*=l;e=h*m-g*c;g=g*b-f*m;f=f*c-h*b;(l=Math.sqrt(e*e+g*g+f*f))?(l=1/l,e*=l,g*=l,f*=l):f=g=e=0;h=c*f-m*g;j=m*e-b*f;i=b*g-c*e;(l=Math.sqrt(h*h+j*j+i*i))?(l=1/l,h*=l,j*=l,i*=l):i=j=h=0;d[0]=e;d[1]=h;d[2]=b;d[3]=0;d[4]=g;d[5]=j;d[6]=c;d[7]=0;d[8]=f;d[9]=\n",
       "i;d[10]=m;d[11]=0;d[12]=-(e*k+g*o+f*a);d[13]=-(h*k+j*o+i*a);d[14]=-(b*k+c*o+m*a);d[15]=1;return d},fromRotationTranslation:function(a,b,c){c||(c=x.create());var d=a[0],e=a[1],g=a[2],f=a[3],h=d+d,j=e+e,i=g+g,a=d*h,m=d*j,d=d*i,k=e*j,e=e*i,g=g*i,h=f*h,j=f*j,f=f*i;c[0]=1-(k+g);c[1]=m+f;c[2]=d-j;c[3]=0;c[4]=m-f;c[5]=1-(a+g);c[6]=e+h;c[7]=0;c[8]=d+j;c[9]=e-h;c[10]=1-(a+k);c[11]=0;c[12]=b[0];c[13]=b[1];c[14]=b[2];c[15]=1;return c},str:function(a){return\"[\"+a[0]+\", \"+a[1]+\", \"+a[2]+\", \"+a[3]+\", \"+a[4]+\", \"+\n",
       "a[5]+\", \"+a[6]+\", \"+a[7]+\", \"+a[8]+\", \"+a[9]+\", \"+a[10]+\", \"+a[11]+\", \"+a[12]+\", \"+a[13]+\", \"+a[14]+\", \"+a[15]+\"]\"}},k={create:function(a){var b=new o(4);a?(b[0]=a[0],b[1]=a[1],b[2]=a[2],b[3]=a[3]):b[0]=b[1]=b[2]=b[3]=0;return b},createFrom:function(a,b,c,d){var e=new o(4);e[0]=a;e[1]=b;e[2]=c;e[3]=d;return e},set:function(a,b){b[0]=a[0];b[1]=a[1];b[2]=a[2];b[3]=a[3];return b},equal:function(a,b){return a===b||1.0E-6>Math.abs(a[0]-b[0])&&1.0E-6>Math.abs(a[1]-b[1])&&1.0E-6>Math.abs(a[2]-b[2])&&1.0E-6>\n",
       "Math.abs(a[3]-b[3])},identity:function(a){a||(a=k.create());a[0]=0;a[1]=0;a[2]=0;a[3]=1;return a}},O=k.identity();k.calculateW=function(a,b){var c=a[0],d=a[1],e=a[2];if(!b||a===b)return a[3]=-Math.sqrt(Math.abs(1-c*c-d*d-e*e)),a;b[0]=c;b[1]=d;b[2]=e;b[3]=-Math.sqrt(Math.abs(1-c*c-d*d-e*e));return b};k.dot=function(a,b){return a[0]*b[0]+a[1]*b[1]+a[2]*b[2]+a[3]*b[3]};k.inverse=function(a,b){var c=a[0],d=a[1],e=a[2],g=a[3],c=(c=c*c+d*d+e*e+g*g)?1/c:0;if(!b||a===b)return a[0]*=-c,a[1]*=-c,a[2]*=-c,a[3]*=\n",
       "c,a;b[0]=-a[0]*c;b[1]=-a[1]*c;b[2]=-a[2]*c;b[3]=a[3]*c;return b};k.conjugate=function(a,b){if(!b||a===b)return a[0]*=-1,a[1]*=-1,a[2]*=-1,a;b[0]=-a[0];b[1]=-a[1];b[2]=-a[2];b[3]=a[3];return b};k.length=function(a){var b=a[0],c=a[1],d=a[2],a=a[3];return Math.sqrt(b*b+c*c+d*d+a*a)};k.normalize=function(a,b){b||(b=a);var c=a[0],d=a[1],e=a[2],g=a[3],f=Math.sqrt(c*c+d*d+e*e+g*g);if(0===f)return b[0]=0,b[1]=0,b[2]=0,b[3]=0,b;f=1/f;b[0]=c*f;b[1]=d*f;b[2]=e*f;b[3]=g*f;return b};k.add=function(a,b,c){if(!c||\n",
       "a===c)return a[0]+=b[0],a[1]+=b[1],a[2]+=b[2],a[3]+=b[3],a;c[0]=a[0]+b[0];c[1]=a[1]+b[1];c[2]=a[2]+b[2];c[3]=a[3]+b[3];return c};k.multiply=function(a,b,c){c||(c=a);var d=a[0],e=a[1],g=a[2],a=a[3],f=b[0],h=b[1],j=b[2],b=b[3];c[0]=d*b+a*f+e*j-g*h;c[1]=e*b+a*h+g*f-d*j;c[2]=g*b+a*j+d*h-e*f;c[3]=a*b-d*f-e*h-g*j;return c};k.multiplyVec3=function(a,b,c){c||(c=b);var d=b[0],e=b[1],g=b[2],b=a[0],f=a[1],h=a[2],a=a[3],j=a*d+f*g-h*e,i=a*e+h*d-b*g,k=a*g+b*e-f*d,d=-b*d-f*e-h*g;c[0]=j*a+d*-b+i*-h-k*-f;c[1]=i*a+\n",
       "d*-f+k*-b-j*-h;c[2]=k*a+d*-h+j*-f-i*-b;return c};k.scale=function(a,b,c){if(!c||a===c)return a[0]*=b,a[1]*=b,a[2]*=b,a[3]*=b,a;c[0]=a[0]*b;c[1]=a[1]*b;c[2]=a[2]*b;c[3]=a[3]*b;return c};k.toMat3=function(a,b){b||(b=A.create());var c=a[0],d=a[1],e=a[2],g=a[3],f=c+c,h=d+d,j=e+e,i=c*f,k=c*h,c=c*j,l=d*h,d=d*j,e=e*j,f=g*f,h=g*h,g=g*j;b[0]=1-(l+e);b[1]=k+g;b[2]=c-h;b[3]=k-g;b[4]=1-(i+e);b[5]=d+f;b[6]=c+h;b[7]=d-f;b[8]=1-(i+l);return b};k.toMat4=function(a,b){b||(b=x.create());var c=a[0],d=a[1],e=a[2],g=\n",
       "a[3],f=c+c,h=d+d,j=e+e,i=c*f,k=c*h,c=c*j,l=d*h,d=d*j,e=e*j,f=g*f,h=g*h,g=g*j;b[0]=1-(l+e);b[1]=k+g;b[2]=c-h;b[3]=0;b[4]=k-g;b[5]=1-(i+e);b[6]=d+f;b[7]=0;b[8]=c+h;b[9]=d-f;b[10]=1-(i+l);b[11]=0;b[12]=0;b[13]=0;b[14]=0;b[15]=1;return b};k.slerp=function(a,b,c,d){d||(d=a);var e=a[0]*b[0]+a[1]*b[1]+a[2]*b[2]+a[3]*b[3],g,f;if(1<=Math.abs(e))return d!==a&&(d[0]=a[0],d[1]=a[1],d[2]=a[2],d[3]=a[3]),d;g=Math.acos(e);f=Math.sqrt(1-e*e);if(0.001>Math.abs(f))return d[0]=0.5*a[0]+0.5*b[0],d[1]=0.5*a[1]+0.5*b[1],\n",
       "d[2]=0.5*a[2]+0.5*b[2],d[3]=0.5*a[3]+0.5*b[3],d;e=Math.sin((1-c)*g)/f;c=Math.sin(c*g)/f;d[0]=a[0]*e+b[0]*c;d[1]=a[1]*e+b[1]*c;d[2]=a[2]*e+b[2]*c;d[3]=a[3]*e+b[3]*c;return d};k.fromRotationMatrix=function(a,b){b||(b=k.create());var c=a[0]+a[4]+a[8],d;if(0<c)d=Math.sqrt(c+1),b[3]=0.5*d,d=0.5/d,b[0]=(a[7]-a[5])*d,b[1]=(a[2]-a[6])*d,b[2]=(a[3]-a[1])*d;else{d=k.fromRotationMatrix.s_iNext=k.fromRotationMatrix.s_iNext||[1,2,0];c=0;a[4]>a[0]&&(c=1);a[8]>a[3*c+c]&&(c=2);var e=d[c],g=d[e];d=Math.sqrt(a[3*c+\n",
       "c]-a[3*e+e]-a[3*g+g]+1);b[c]=0.5*d;d=0.5/d;b[3]=(a[3*g+e]-a[3*e+g])*d;b[e]=(a[3*e+c]+a[3*c+e])*d;b[g]=(a[3*g+c]+a[3*c+g])*d}return b};A.toQuat4=k.fromRotationMatrix;(function(){var a=A.create();k.fromAxes=function(b,c,d,e){a[0]=c[0];a[3]=c[1];a[6]=c[2];a[1]=d[0];a[4]=d[1];a[7]=d[2];a[2]=b[0];a[5]=b[1];a[8]=b[2];return k.fromRotationMatrix(a,e)}})();k.identity=function(a){a||(a=k.create());a[0]=0;a[1]=0;a[2]=0;a[3]=1;return a};k.fromAngleAxis=function(a,b,c){c||(c=k.create());var a=0.5*a,d=Math.sin(a);\n",
       "c[3]=Math.cos(a);c[0]=d*b[0];c[1]=d*b[1];c[2]=d*b[2];return c};k.toAngleAxis=function(a,b){b||(b=a);var c=a[0]*a[0]+a[1]*a[1]+a[2]*a[2];0<c?(b[3]=2*Math.acos(a[3]),c=E.invsqrt(c),b[0]=a[0]*c,b[1]=a[1]*c,b[2]=a[2]*c):(b[3]=0,b[0]=1,b[1]=0,b[2]=0);return b};k.str=function(a){return\"[\"+a[0]+\", \"+a[1]+\", \"+a[2]+\", \"+a[3]+\"]\"};var J={create:function(a){var b=new o(2);a?(b[0]=a[0],b[1]=a[1]):(b[0]=0,b[1]=0);return b},createFrom:function(a,b){var c=new o(2);c[0]=a;c[1]=b;return c},add:function(a,b,c){c||\n",
       "(c=b);c[0]=a[0]+b[0];c[1]=a[1]+b[1];return c},subtract:function(a,b,c){c||(c=b);c[0]=a[0]-b[0];c[1]=a[1]-b[1];return c},multiply:function(a,b,c){c||(c=b);c[0]=a[0]*b[0];c[1]=a[1]*b[1];return c},divide:function(a,b,c){c||(c=b);c[0]=a[0]/b[0];c[1]=a[1]/b[1];return c},scale:function(a,b,c){c||(c=a);c[0]=a[0]*b;c[1]=a[1]*b;return c},dist:function(a,b){var c=b[0]-a[0],d=b[1]-a[1];return Math.sqrt(c*c+d*d)},set:function(a,b){b[0]=a[0];b[1]=a[1];return b},equal:function(a,b){return a===b||1.0E-6>Math.abs(a[0]-\n",
       "b[0])&&1.0E-6>Math.abs(a[1]-b[1])},negate:function(a,b){b||(b=a);b[0]=-a[0];b[1]=-a[1];return b},normalize:function(a,b){b||(b=a);var c=a[0]*a[0]+a[1]*a[1];0<c?(c=Math.sqrt(c),b[0]=a[0]/c,b[1]=a[1]/c):b[0]=b[1]=0;return b},cross:function(a,b,c){a=a[0]*b[1]-a[1]*b[0];if(!c)return a;c[0]=c[1]=0;c[2]=a;return c},length:function(a){var b=a[0],a=a[1];return Math.sqrt(b*b+a*a)},squaredLength:function(a){var b=a[0],a=a[1];return b*b+a*a},dot:function(a,b){return a[0]*b[0]+a[1]*b[1]},direction:function(a,\n",
       "b,c){c||(c=a);var d=a[0]-b[0],a=a[1]-b[1],b=d*d+a*a;if(!b)return c[0]=0,c[1]=0,c[2]=0,c;b=1/Math.sqrt(b);c[0]=d*b;c[1]=a*b;return c},lerp:function(a,b,c,d){d||(d=a);d[0]=a[0]+c*(b[0]-a[0]);d[1]=a[1]+c*(b[1]-a[1]);return d},str:function(a){return\"[\"+a[0]+\", \"+a[1]+\"]\"}},I={create:function(a){var b=new o(4);a?(b[0]=a[0],b[1]=a[1],b[2]=a[2],b[3]=a[3]):b[0]=b[1]=b[2]=b[3]=0;return b},createFrom:function(a,b,c,d){var e=new o(4);e[0]=a;e[1]=b;e[2]=c;e[3]=d;return e},set:function(a,b){b[0]=a[0];b[1]=a[1];\n",
       "b[2]=a[2];b[3]=a[3];return b},equal:function(a,b){return a===b||1.0E-6>Math.abs(a[0]-b[0])&&1.0E-6>Math.abs(a[1]-b[1])&&1.0E-6>Math.abs(a[2]-b[2])&&1.0E-6>Math.abs(a[3]-b[3])},identity:function(a){a||(a=I.create());a[0]=1;a[1]=0;a[2]=0;a[3]=1;return a},transpose:function(a,b){if(!b||a===b){var c=a[1];a[1]=a[2];a[2]=c;return a}b[0]=a[0];b[1]=a[2];b[2]=a[1];b[3]=a[3];return b},determinant:function(a){return a[0]*a[3]-a[2]*a[1]},inverse:function(a,b){b||(b=a);var c=a[0],d=a[1],e=a[2],g=a[3],f=c*g-e*\n",
       "d;if(!f)return null;f=1/f;b[0]=g*f;b[1]=-d*f;b[2]=-e*f;b[3]=c*f;return b},multiply:function(a,b,c){c||(c=a);var d=a[0],e=a[1],g=a[2],a=a[3];c[0]=d*b[0]+e*b[2];c[1]=d*b[1]+e*b[3];c[2]=g*b[0]+a*b[2];c[3]=g*b[1]+a*b[3];return c},rotate:function(a,b,c){c||(c=a);var d=a[0],e=a[1],g=a[2],a=a[3],f=Math.sin(b),b=Math.cos(b);c[0]=d*b+e*f;c[1]=d*-f+e*b;c[2]=g*b+a*f;c[3]=g*-f+a*b;return c},multiplyVec2:function(a,b,c){c||(c=b);var d=b[0],b=b[1];c[0]=d*a[0]+b*a[1];c[1]=d*a[2]+b*a[3];return c},scale:function(a,\n",
       "b,c){c||(c=a);var d=a[1],e=a[2],g=a[3],f=b[0],b=b[1];c[0]=a[0]*f;c[1]=d*b;c[2]=e*f;c[3]=g*b;return c},str:function(a){return\"[\"+a[0]+\", \"+a[1]+\", \"+a[2]+\", \"+a[3]+\"]\"}},K={create:function(a){var b=new o(4);a?(b[0]=a[0],b[1]=a[1],b[2]=a[2],b[3]=a[3]):(b[0]=0,b[1]=0,b[2]=0,b[3]=0);return b},createFrom:function(a,b,c,d){var e=new o(4);e[0]=a;e[1]=b;e[2]=c;e[3]=d;return e},add:function(a,b,c){c||(c=b);c[0]=a[0]+b[0];c[1]=a[1]+b[1];c[2]=a[2]+b[2];c[3]=a[3]+b[3];return c},subtract:function(a,b,c){c||(c=\n",
       "b);c[0]=a[0]-b[0];c[1]=a[1]-b[1];c[2]=a[2]-b[2];c[3]=a[3]-b[3];return c},multiply:function(a,b,c){c||(c=b);c[0]=a[0]*b[0];c[1]=a[1]*b[1];c[2]=a[2]*b[2];c[3]=a[3]*b[3];return c},divide:function(a,b,c){c||(c=b);c[0]=a[0]/b[0];c[1]=a[1]/b[1];c[2]=a[2]/b[2];c[3]=a[3]/b[3];return c},scale:function(a,b,c){c||(c=a);c[0]=a[0]*b;c[1]=a[1]*b;c[2]=a[2]*b;c[3]=a[3]*b;return c},set:function(a,b){b[0]=a[0];b[1]=a[1];b[2]=a[2];b[3]=a[3];return b},equal:function(a,b){return a===b||1.0E-6>Math.abs(a[0]-b[0])&&1.0E-6>\n",
       "Math.abs(a[1]-b[1])&&1.0E-6>Math.abs(a[2]-b[2])&&1.0E-6>Math.abs(a[3]-b[3])},negate:function(a,b){b||(b=a);b[0]=-a[0];b[1]=-a[1];b[2]=-a[2];b[3]=-a[3];return b},length:function(a){var b=a[0],c=a[1],d=a[2],a=a[3];return Math.sqrt(b*b+c*c+d*d+a*a)},squaredLength:function(a){var b=a[0],c=a[1],d=a[2],a=a[3];return b*b+c*c+d*d+a*a},lerp:function(a,b,c,d){d||(d=a);d[0]=a[0]+c*(b[0]-a[0]);d[1]=a[1]+c*(b[1]-a[1]);d[2]=a[2]+c*(b[2]-a[2]);d[3]=a[3]+c*(b[3]-a[3]);return d},str:function(a){return\"[\"+a[0]+\", \"+\n",
       "a[1]+\", \"+a[2]+\", \"+a[3]+\"]\"}};w&&(w.glMatrixArrayType=o,w.MatrixArray=o,w.setMatrixArrayType=D,w.determineMatrixArrayType=G,w.glMath=E,w.vec2=J,w.vec3=r,w.vec4=K,w.mat2=I,w.mat3=A,w.mat4=x,w.quat4=k);return{glMatrixArrayType:o,MatrixArray:o,setMatrixArrayType:D,determineMatrixArrayType:G,glMath:E,vec2:J,vec3:r,vec4:K,mat2:I,mat3:A,mat4:x,quat4:k}});/*\n",
       " Javascript graphics utility library\n",
       " Helper functions, WebGL classes, Mouse input, Colours and Gradients UI\n",
       " Copyright (c) 2014, Owen Kaluza\n",
       " Released into public domain:\n",
       " This program is free software. It comes without any warranty, to\n",
       " the extent permitted by applicable law. You can redistribute it\n",
       " and/or modify it as long as this header remains intact\n",
       "*/\n",
       "var OK=function(){var a={debug_on:!1,debug:function(b){if(a.debug_on){var c=document.getElementById(\"console\");c?c.innerHTML=\"<div style=\\\"font-family: 'monospace'; font-size: 8pt;\\\">\"+b+\"</div>\"+c.innerHTML:console.log(b)}},clear:function(){var a=document.getElementById(\"console\");a&&(a.innerHTML=\"\")}};return a}();function getSearchVariable(a,b){for(var c=window.location.search.substring(1).split(\"&\"),d=0;d<c.length;d++){var e=c[d].split(\"=\");if(unescape(e[0])==a)return unescape(e[1])}return b}\n",
       "function getImageDataURL(a){var b=document.createElement(\"canvas\");b.width=a.width;b.height=a.height;b.getContext(\"2d\").drawImage(a,0,0);return b.toDataURL(\"image/png\")}window.ELEMENT||(window.ELEMENT=function(a,b){return(\"object\"==typeof b?b:document).getElementById(a)});window.STYLE||(window.STYLE=function(a){if(a=document.getElementById(a))return a.style});\n",
       "window.toggle||(window.toggle=function(a){var b=document.getElementById(a).style.display;\"none\"!=b&&b?document.getElementById(a).style.display=\"none\":document.getElementById(a).style.display=\"block\"});function setAll(a,b){for(var c=document.getElementsByClassName(b),d=0;d<c.length;d++)c[d].style.display=a}function getSourceFromElement(a){var b=document.getElementById(a);if(!b)return null;a=\"\";for(b=b.firstChild;b;)3==b.nodeType&&(a+=b.textContent),b=b.nextSibling;return a}\n",
       "function removeChildren(a){if(a.hasChildNodes())for(;0<a.childNodes.length;)a.removeChild(a.firstChild)}window.requestAnimationFrame||(window.requestAnimationFrame=function(){return window.webkitRequestAnimationFrame||window.mozRequestAnimationFrame||window.oRequestAnimationFrame||window.msRequestAnimationFrame}());\n",
       "function requestFullScreen(a){a=document.getElementById(a);a.requestFullscreen?a.requestFullscreen():a.mozRequestFullScreen?a.mozRequestFullScreen():a.webkitRequestFullScreen&&a.webkitRequestFullScreen()}function typeOf(a){var b=typeof a;\"object\"===b&&(a?\"number\"!==typeof a.length||a.propertyIsEnumerable(\"length\")||\"function\"!==typeof a.splice||(b=\"array\"):b=\"null\");return b}\n",
       "function isEmpty(a){var b,c;if(\"object\"===typeOf(a))for(b in a)if(c=a[b],void 0!==c&&\"function\"!==typeOf(c))return!1;return!0}\n",
       "function ajaxReadFile(a,b,c,d,e){var f=new XMLHttpRequest,g=0;void 0!=d&&(\"number\"==typeof d?g=d:f.onprogress=d);f.onreadystatechange=function(){if(0<g&&2<f.readyState){var c=parseInt(f.responseText.length);d&&setProgress(c/g*100)}4==f.readyState&&(200==f.status?(d&&setProgress(100),OK.debug(\"RECEIVED: \"+a),b&&b(f.responseText,a)):b?b(\"Error: \"+f.status+\" : \"+a):OK.debug(\"Ajax Read File Error: returned status code \"+f.status+\" \"+f.statusText))};c?f.open(\"GET\",a+\"?d=\"+(new Date).getTime(),!0):f.open(\"GET\",\n",
       "a,!0);for(var h in e)f.setRequestHeader(h,e[h]);f.send(null)}function readURL(a,b,c){var d=new XMLHttpRequest,e=0;void 0!=c&&(\"number\"==typeof c?e=c:d.onprogress=c);d.onreadystatechange=function(){if(0<e&&2<d.readyState){var a=parseInt(d.responseText.length);c&&setProgress(a/e*100)}};b?d.open(\"GET\",a+\"?d=\"+(new Date).getTime(),!1):d.open(\"GET\",a,!1);d.overrideMimeType(\"text/plain; charset=x-user-defined\");d.send(null);if(200!=d.status)return\"\";c&&setProgress(100);return d.responseText}\n",
       "function updateProgress(a){a.lengthComputable&&(setProgress(a.loaded/a.total*100),OK.debug(a.loaded+\" / \"+a.total))}function setProgress(a){a=Math.round(a);document.getElementById(\"progressbar\").style.width=3*a+\"px\";document.getElementById(\"progressstatus\").innerHTML=a+\"%\"}\n",
       "function ajaxPost(a,b,c,d,e){var f=new XMLHttpRequest;void 0!=d&&(f.upload.onprogress=d);f.onreadystatechange=function(){4==f.readyState&&(200==f.status?(d&&setProgress(100),OK.debug(\"POST: \"+a),c&&c(f.responseText)):c?c(\"Error, status:\"+f.status):OK.debug(\"Ajax Post Error: returned status code \"+f.status+\" \"+f.statusText))};f.open(\"POST\",a,!0);\"string\"==typeof b&&(f.setRequestHeader(\"Content-type\",\"application/x-www-form-urlencoded\"),f.setRequestHeader(\"Content-length\",b.length));if(e)for(key in e)f.setRequestHeader(key,\n",
       "e[key]);f.send(b)}var defaultMouse,dragMouse;function MouseEventHandler(a,b,c,d,e,f,g){this.click=a;this.wheel=b;this.move=c;this.down=d;this.up=e;this.leave=f;this.pinch=g}\n",
       "function Mouse(a,b,c){this.element=a;this.handler=b;this.isdown=this.disabled=!1;this.button=null;this.dragged=!1;this.lastY=this.lastX=this.absoluteY=this.absoluteX=this.x=this.x=0;this.slider=null;this.spin=0;this.moveUpdate=!1;this.enableContext=c?!0:!1;a.addEventListener(\"onwheel\"in document?\"wheel\":\"mousewheel\",handleMouseWheel,!1);a.onmousedown=handleMouseDown;a.onmouseout=handleMouseLeave;document.onmouseup=handleMouseUp;document.onmousemove=handleMouseMove;a.addEventListener(\"touchstart\",\n",
       "touchHandler,!0);a.addEventListener(\"touchmove\",touchHandler,!0);a.addEventListener(\"touchend\",touchHandler,!0);a.oncontextmenu=function(){return this.mouse.enableContext}}Mouse.prototype.setDefault=function(){defaultMouse=document.mouse=this};Mouse.prototype.update=function(a){a||(a=window.event);var b=mousePageCoord(a);this.x=b[0];this.y=b[1];this.absoluteX=this.x;this.absoluteY=this.y;b=findElementPos(this.element);this.x-=b[0];this.y-=b[1];this.clientx=a.clientX-b[0];this.clienty=a.clientY-b[1]};\n",
       "function mousePageCoord(a){var b;a.pageX||a.pageY?(b=a.pageX,a=a.pageY):(b=a.clientX+document.body.scrollLeft+document.documentElement.scrollLeft,a=a.clientY+document.body.scrollTop+document.documentElement.scrollTop);return[b,a]}function elementRelativeCoord(a,b){var c=findElementPos(a);b[0]-=c[0];b[1]-=c[1]}function findElementPos(a){var b=curtop=0;do b+=a.offsetLeft,curtop+=a.offsetTop;while(a=a.offsetParent);return[b,curtop]}\n",
       "function getMouse(a){a||(a=window.event);var b=a.target.mouse;if(b)return b;for(a=a.target;a!=document;)if(a=a.parentNode,a.mouse)return a.mouse;return null}function handleMouseDown(a){var b=getMouse(a);if(!b||b.disabled)return!0;b.target=(a||window.event).target;b.dragged=!1;b.update(a);b.isdown||(b.lastX=b.absoluteX,b.lastY=b.absoluteY);b.isdown=!0;dragMouse=b;b.button=a.button;document.mouse=b;var c=!0;b.handler.down&&(c=b.handler.down(a,b));!c&&a.preventDefault&&a.preventDefault();return c}\n",
       "function handleMouseUp(a){var b=document.mouse;if(!b||b.disabled)return!0;var c=!0;b.isdown&&(b.update(a),b.handler.click&&(c=b.handler.click(a,b)),b.isdown=!1,dragMouse=null,b.button=null,b.dragged=!1);b.handler.up&&(c=c&&b.handler.up(a,b));document.mouse=defaultMouse;!c&&a.preventDefault&&a.preventDefault();return c}\n",
       "function handleMouseMove(a){var b=dragMouse?dragMouse:getMouse(a);if(!b||b.disabled)return!0;b.update(a);b.deltaX=b.absoluteX-b.lastX;b.deltaY=b.absoluteY-b.lastY;var c=!0;!b.dragged&&b.isdown&&3<Math.abs(b.deltaX)+Math.abs(b.deltaY)&&(b.dragged=!0);b.handler.move&&(c=b.handler.move(a,b));b.moveUpdate&&(b.lastX=b.absoluteX,b.lastY=b.absoluteY);!c&&a.preventDefault&&a.preventDefault();return c}\n",
       "function handleMouseWheel(a){var b=getMouse(a);if(!b||b.disabled)return!0;b.update(a);var c=!1;a.spin=0<(a.deltaY?-a.deltaY:a.wheelDelta)?1:-1;b.handler.wheel&&(c=b.handler.wheel(a,b));!c&&a.preventDefault&&a.preventDefault();return c}function handleMouseLeave(a){var b=getMouse(a);if(!b||b.disabled)return!0;var c=!0;b.handler.leave&&(c=b.handler.leave(a,b));!c&&a.preventDefault&&a.preventDefault();return a.returnValue=c}\n",
       "function touchHandler(a){var b=a.changedTouches[0],c=null,d=getMouse(a);switch(a.type){case \"touchstart\":2==a.touches.length?(d.isdown=!1,d.scaling=0):c=\"mousedown\";break;case \"touchmove\":if(null!=d.scaling&&2==a.touches.length){var e=Math.sqrt((a.touches[0].pageX-a.touches[1].pageX)*(a.touches[0].pageX-a.touches[1].pageX)+(a.touches[0].pageY-a.touches[1].pageY)*(a.touches[0].pageY-a.touches[1].pageY));0<d.scaling?(a.distance=e-d.scaling,d.handler.pinch&&d.handler.pinch(a,d),a.returnValue=!0):d.scaling=\n",
       "e}else c=\"mousemove\";break;case \"touchend\":null!=d.scaling?d.scaling=0==d.scaling?null:0:c=\"mouseup\";break;default:return}1<a.touches.length&&(c=null);c&&(d=document.createEvent(\"MouseEvent\"),d.initMouseEvent(c,!0,!0,window,1,b.screenX,b.screenY,b.clientX,b.clientY,a.ctrlKey,a.altKey,a.shiftKey,a.metaKey,0,null),b.target.dispatchEvent(d),a.preventDefault())}function Viewport(a,b,c,d){this.x=a;this.y=b;this.width=c;this.height=d}\n",
       "function WebGL(a,b){this.program=null;this.modelView=new ViewMatrix;this.perspective=new ViewMatrix;this.textures=[];this.timer=null;if(!window.WebGLRenderingContext)throw\"No browser WebGL support\";try{this.gl=a.getContext(\"webgl\",b)||a.getContext(\"experimental-webgl\",b)}catch(c){throw OK.debug(\"detectGL exception: \"+c),\"No context\";}this.viewport=new Viewport(0,0,a.width,a.height);if(!this.gl)throw\"Failed to get context\";}\n",
       "WebGL.prototype.setMatrices=function(){this.gl.uniformMatrix4fv(this.program.mvMatrixUniform,!1,this.modelView.matrix);this.gl.uniformMatrix4fv(this.program.pMatrixUniform,!1,this.perspective.matrix);if(this.program.nMatrixUniform){var a=mat4.create(this.modelView.matrix);mat4.inverse(a);mat4.transpose(a);this.gl.uniformMatrix4fv(this.program.nMatrixUniform,!1,a)}};\n",
       "WebGL.prototype.initDraw2d=function(){this.gl.viewport(this.viewport.x,this.viewport.y,this.viewport.width,this.viewport.height);this.gl.enableVertexAttribArray(this.program.attributes.aVertexPosition);this.gl.bindBuffer(this.gl.ARRAY_BUFFER,this.vertexPositionBuffer);this.gl.vertexAttribPointer(this.program.attributes.aVertexPosition,this.vertexPositionBuffer.itemSize,this.gl.FLOAT,!1,0,0);this.program.attributes.aTextureCoord&&(this.gl.enableVertexAttribArray(this.program.attributes.aTextureCoord),\n",
       "this.gl.bindBuffer(this.gl.ARRAY_BUFFER,this.textureCoordBuffer),this.gl.vertexAttribPointer(this.program.attributes.aTextureCoord,this.textureCoordBuffer.itemSize,this.gl.FLOAT,!1,0,0));this.setMatrices()};WebGL.prototype.updateTexture=function(a,b,c){void 0==c&&(c=this.gl.TEXTURE0);this.gl.activeTexture(c);this.gl.bindTexture(this.gl.TEXTURE_2D,a);this.gl.texImage2D(this.gl.TEXTURE_2D,0,this.gl.RGBA,this.gl.RGBA,this.gl.UNSIGNED_BYTE,b);this.gl.bindTexture(this.gl.TEXTURE_2D,null)};\n",
       "WebGL.prototype.init2dBuffers=function(a){void 0==a&&(a=this.gl.TEXTURE0);this.vertexPositionBuffer=this.gl.createBuffer();this.gl.bindBuffer(this.gl.ARRAY_BUFFER,this.vertexPositionBuffer);this.gl.bufferData(this.gl.ARRAY_BUFFER,new Float32Array([1,1,-1,1,1,-1,-1,-1]),this.gl.STATIC_DRAW);this.vertexPositionBuffer.itemSize=2;this.vertexPositionBuffer.numItems=4;this.gl.activeTexture(a);this.gradientTexture=this.gl.createTexture();this.gl.bindTexture(this.gl.TEXTURE_2D,this.gradientTexture);this.gl.texParameteri(this.gl.TEXTURE_2D,\n",
       "this.gl.TEXTURE_MAG_FILTER,this.gl.NEAREST);this.gl.texParameteri(this.gl.TEXTURE_2D,this.gl.TEXTURE_MIN_FILTER,this.gl.NEAREST);this.textureCoordBuffer=this.gl.createBuffer();this.gl.bindBuffer(this.gl.ARRAY_BUFFER,this.textureCoordBuffer);this.gl.bufferData(this.gl.ARRAY_BUFFER,new Float32Array([1,1,0,1,1,0,0,0]),this.gl.STATIC_DRAW);this.textureCoordBuffer.itemSize=2;this.textureCoordBuffer.numItems=4};\n",
       "WebGL.prototype.loadTexture=function(a,b,c,d){void 0==b&&(b=this.gl.NEAREST);void 0==c&&(c=this.gl.RGBA);this.texid=this.textures.length;this.textures.push(this.gl.createTexture());this.gl.bindTexture(this.gl.TEXTURE_2D,this.textures[this.texid]);d&&this.gl.pixelStorei(this.gl.UNPACK_FLIP_Y_WEBGL,!0);this.gl.texImage2D(this.gl.TEXTURE_2D,0,c,c,this.gl.UNSIGNED_BYTE,a);this.gl.texParameteri(this.gl.TEXTURE_2D,this.gl.TEXTURE_MAG_FILTER,b);this.gl.texParameteri(this.gl.TEXTURE_2D,this.gl.TEXTURE_MIN_FILTER,\n",
       "b);this.gl.texParameteri(this.gl.TEXTURE_2D,this.gl.TEXTURE_WRAP_S,this.gl.CLAMP_TO_EDGE);this.gl.texParameteri(this.gl.TEXTURE_2D,this.gl.TEXTURE_WRAP_T,this.gl.CLAMP_TO_EDGE);this.gl.bindTexture(this.gl.TEXTURE_2D,null);return this.textures[this.texid]};WebGL.prototype.setPerspective=function(a,b,c,d){this.perspective.matrix=mat4.perspective(a,b,c,d)};WebGL.prototype.use=function(a){this.program=a;this.program.program&&this.gl.useProgram(this.program.program)};\n",
       "function WebGLProgram(a,b,c){this.program=null;0>b.indexOf(\"main\")&&(b=getSourceFromElement(b));0>c.indexOf(\"main\")&&(c=getSourceFromElement(c));this.gl=a;this.program&&this.gl.isProgram(this.program)&&(this.gl.isShader(this.vshader)&&(this.gl.detachShader(this.program,this.vshader),this.gl.deleteShader(this.vshader)),this.gl.isShader(this.fshader)&&(this.gl.detachShader(this.program,this.fshader),this.gl.deleteShader(this.fshader)),this.gl.deleteProgram(this.program));this.program=this.gl.createProgram();\n",
       "this.vshader=this.compileShader(b,this.gl.VERTEX_SHADER);this.fshader=this.compileShader(c,this.gl.FRAGMENT_SHADER);this.gl.attachShader(this.program,this.vshader);this.gl.attachShader(this.program,this.fshader);this.gl.linkProgram(this.program);if(!this.gl.getProgramParameter(this.program,this.gl.LINK_STATUS))throw\"Could not initialise shaders: \"+this.gl.getProgramInfoLog(this.program);}\n",
       "WebGLProgram.prototype.compileShader=function(a,b){var c=this.gl.createShader(b);this.gl.shaderSource(c,a);this.gl.compileShader(c);if(!this.gl.getShaderParameter(c,this.gl.COMPILE_STATUS))throw this.gl.getShaderInfoLog(c);return c};\n",
       "WebGLProgram.prototype.setup=function(a,b,c){if(this.program){void 0==a&&(a=[\"aVertexPosition\",\"aTextureCoord\"]);this.attributes={};for(var d in a)this.attributes[a[d]]=this.gl.getAttribLocation(this.program,a[d]),c||this.gl.enableVertexAttribArray(this.attributes[a[d]]);this.uniforms={};for(d in b)this.uniforms[b[d]]=this.gl.getUniformLocation(this.program,b[d]);this.mvMatrixUniform=this.gl.getUniformLocation(this.program,\"uMVMatrix\");this.pMatrixUniform=this.gl.getUniformLocation(this.program,\"uPMatrix\");\n",
       "this.nMatrixUniform=this.gl.getUniformLocation(this.program,\"uNMatrix\")}};function ViewMatrix(){this.matrix=mat4.create();mat4.identity(this.matrix);this.stack=[]}ViewMatrix.prototype.toString=function(){return JSON.stringify(this.toArray())};ViewMatrix.prototype.toArray=function(){return JSON.parse(mat4.str(this.matrix))};ViewMatrix.prototype.push=function(a){a?(this.stack.push(mat4.create(a)),this.matrix=mat4.create(a)):this.stack.push(mat4.create(this.matrix))};\n",
       "ViewMatrix.prototype.pop=function(){if(0==this.stack.length)throw\"Matrix stack underflow\";return this.matrix=this.stack.pop()};ViewMatrix.prototype.mult=function(a){mat4.multiply(this.matrix,a)};ViewMatrix.prototype.identity=function(){mat4.identity(this.matrix)};ViewMatrix.prototype.scale=function(a){mat4.scale(this.matrix,a)};ViewMatrix.prototype.translate=function(a){mat4.translate(this.matrix,a)};ViewMatrix.prototype.rotate=function(a,b){mat4.rotate(this.matrix,a*Math.PI/180,b)};\n",
       "function Palette(a,b){this.premultiply=b;this.background=new Colour(\"rgba(0,0,0,0)\");this.colours=[];this.slider=new Image;this.slider.src=\"data:image/png;base64,iVBORw0KGgoAAAANSUhEUgAAAAkAAAAPCAYAAAA2yOUNAAAAj0lEQVQokWNIjHT8/+zZs//Pnj37/+TJk/9XLp/+f+bEwf9HDm79v2Prqv9aKrz/GUYVEaeoMDMQryJXayWIoi0bFmFV1NWS+z/E1/Q/AwMDA0NVcez/LRsWoSia2luOUAADVcWx/xfO6/1/5fLp/1N7y//HhlmhKoCBgoyA/w3Vyf8jgyyxK4CBUF8zDAUAAJRXY0G1eRgAAAAASUVORK5CYII=\";if(a){var c=!1;if(\"string\"==typeof a)for(var d=a.split(/[\\n;]/),e,f=0;f<\n",
       "d.length;f++){var g=d[f].trim();if(g){var h=g.split(\"=\");if(\"Background\"==h[0])this.background=new Colour(h[1]);else if(\"P\"==h[0][0])e=parseFloat(h[1]);else if(\"C\"==h[0][0]){if(this.colours.push(new ColourPos(h[1],e)),1==e)break}else 2==h.length?this.colours.push(new ColourPos(h[1],h[0])):(c=!0,this.colours.push(new ColourPos(g)))}}else{for(d=0;d<a.length;d++)void 0==a[d].position&&(c=!0),this.colours.push(new ColourPos(a[d].colour,a[d].position));a.background&&(this.background=new Colour(a.background))}if(c)for(d=\n",
       "0;d<this.colours.length;d++)this.colours[d].position=1/(this.colours.length-1)*d;this.sort();c=!1;for(d=0;d<this.colours.length;d++)0<this.colours[d].colour.alpha&&(c=!0),1<this.colours[d].colour.alpha&&(this.colours[d].colour.alpha=1);if(!c)for(d=0;d<this.colours.length;d++)this.colours[d].colour.alpha=1}else this.colours.push(new ColourPos(\"rgba(255,255,255,1)\",0)),this.colours.push(new ColourPos(\"rgba(0,0,0,1)\",1))}\n",
       "Palette.prototype.sort=function(){this.colours.sort(function(a,b){return a.position-b.position})};Palette.prototype.newColour=function(a,b){var c=new ColourPos(b,a);this.colours.push(c);this.sort();for(c=1;c<this.colours.length-1;c++)if(this.colours[c].position==a)return c;return-1};Palette.prototype.inRange=function(a,b,c){for(var d=0;d<this.colours.length;d++){var e=this.colours[d].position*c;if(a==e||1<b&&a>=e-b/2&&a<=e+b/2)return d}return-1};\n",
       "Palette.prototype.inDragRange=function(a,b,c){for(var d=1;d<this.colours.length-1;d++){var e=this.colours[d].position*c;if(a==e||1<b&&a>=e-b/2&&a<=e+b/2)return d}return 0};Palette.prototype.remove=function(a){this.colours.splice(a,1)};Palette.prototype.toString=function(){for(var a=\"Background=\"+this.background.html(),b=0;b<this.colours.length;b++)a+=\"\\n\"+this.colours[b].position.toFixed(6)+\"=\"+this.colours[b].colour.html();return a};\n",
       "Palette.prototype.get=function(){var a={};a.background=this.background.html();a.colours=[];for(var b=0;b<this.colours.length;b++)a.colours.push({position:this.colours[b].position,colour:this.colours[b].colour.html()});return a};Palette.prototype.toJSON=function(){return JSON.stringify(this.get())};\n",
       "Palette.prototype.draw=function(a,b){if(!this.slider.width&&b){var c=this;setTimeout(function(){c.draw(a,b)},150)}else if(a){var d=/webkit/.test(navigator.userAgent.toLowerCase());0==this.colours.length&&(this.background=new Colour(\"#ffffff\"),this.colours.push(new ColourPos(\"#000000\",0)),this.colours.push(new ColourPos(\"#ffffff\",1)));list=this.colours.slice(0);list.sort(function(a,b){return a.position-b.position});if(a.getContext){var e=a.width,f=a.height,g=a.getContext(\"2d\");g.clearRect(0,0,e,f);\n",
       "if(d)for(var h=0,d=1;d<list.length;d++){var k=Math.round(e*list[d].position);g.fillStyle=g.createLinearGradient(h,0,k,0);var l=list[d-1].colour,m=list[d].colour;this.premultiply&&!b&&(l=this.background.blend(l),m=this.background.blend(m));g.fillStyle.addColorStop(0,l.html());g.fillStyle.addColorStop(1,m.html());g.fillRect(h,0,k-h,f);h=k}else{g.fillStyle=g.createLinearGradient(0,0,e,0);for(d=0;d<list.length;d++)h=list[d].colour,this.premultiply&&!b&&(h=this.background.blend(h)),g.fillStyle.addColorStop(list[d].position,\n",
       "h.html());g.fillRect(0,0,e,f)}if(f=document.getElementById(\"backgroundCUR\"))f.style.background=this.background.html();if(b)for(d=1;d<list.length-1;d++)f=Math.floor(e*list[d].position)+.5,50<list[d].colour.HSV().V?g.strokeStyle=\"black\":g.strokeStyle=\"white\",g.beginPath(),g.moveTo(f,0),g.lineTo(f,a.height),g.closePath(),g.stroke(),f-=this.slider.width/2,g.drawImage(this.slider,f,0)}else alert(\"getContext failed!\")}else alert(\"Invalid canvas!\")};\n",
       "function ColourPos(a,b){this.position=void 0==b?0:parseFloat(b);if(0<=this.position&&1>=this.position)this.colour=a?\"object\"==typeof a?a:new Colour(a):new Colour(\"#000000\");else throw\"Invalid Colour Position: \"+b;}\n",
       "function Colour(a){\"undefined\"==typeof a?this.set(\"#ffffff\"):\"string\"==typeof a?this.set(a):\"object\"==typeof a?\"undefined\"!=typeof a.H?this.setHSV(a):\"undefined\"!=typeof a.red?(this.red=a.red,this.green=a.green,this.blue=a.blue,this.alpha=a.alpha):a.R?(this.red=a.R,this.green=a.G,this.blue=a.B,this.alpha=\"undefined\"==typeof a.A?1:a.A):(this.red=a[0],this.green=a[1],this.blue=a[2],1>=this.red&&1>=this.green&&1>=this.blue&&(this.red=Math.round(255*this.red),this.green=Math.round(255*this.green),this.blue=\n",
       "Math.round(255*this.blue)),this.alpha=\"undefined\"==typeof a[3]?1:a[3]):this.fromInt(a)}\n",
       "Colour.prototype.set=function(a){a||(a=\"#ffffff\");var b=/^rgba?\\((\\d{1,3})\\s*,\\s*(\\d{1,3})\\s*,\\s*(\\d{1,3})\\s*,?\\s*(\\d\\.?\\d*)?\\)$/.exec(a);b?(this.red=parseInt(b[1]),this.green=parseInt(b[2]),this.blue=parseInt(b[3]),this.alpha=\"undefined\"==typeof b[4]?1:parseFloat(b[4])):\"#\"==a.charAt(0)?(a=a.substring(1,7),this.alpha=1,this.red=parseInt(a.substring(0,2),16),this.green=parseInt(a.substring(2,4),16),this.blue=parseInt(a.substring(4,6),16)):this.fromInt(parseInt(a))};\n",
       "Colour.prototype.fromInt=function(a){this.red=a&255;this.green=(a&65280)>>>8;this.blue=(a&16711680)>>>16;this.alpha=((a&4278190080)>>>24)/255};Colour.prototype.toInt=function(){var a=this.red,a=a+(this.green<<8),a=a+(this.blue<<16);return a+=Math.round(255*this.alpha)<<24};Colour.prototype.toString=function(){return this.html()};Colour.prototype.html=function(){return\"rgba(\"+this.red+\",\"+this.green+\",\"+this.blue+\",\"+this.alpha.toFixed(2)+\")\"};\n",
       "Colour.prototype.rgbaGL=function(){return new Float32Array([this.red/255,this.green/255,this.blue/255,this.alpha])};Colour.prototype.rgbaGLSL=function(){var a=this.rgbaGL();return\"rgba(\"+a[0].toFixed(4)+\",\"+a[1].toFixed(4)+\",\"+a[2].toFixed(4)+\",\"+a[3].toFixed(4)+\")\"};Colour.prototype.rgba=function(){return[this.red/255,this.green/255,this.blue/255,this.alpha]};Colour.prototype.rgbaObj=function(){return{R:this.red,G:this.green,B:this.blue,A:this.alpha}};Colour.prototype.print=function(){OK.debug(this.printString(!0))};\n",
       "Colour.prototype.printString=function(a){return\"R:\"+this.red+\" G:\"+this.green+\" B:\"+this.blue+(a?\" A:\"+this.alpha:\"\")};Colour.prototype.HEX=function(a){a=Math.round(Math.min(Math.max(0,a),255));return\"0123456789ABCDEF\".charAt((a-a%16)/16)+\"0123456789ABCDEF\".charAt(a%16)};Colour.prototype.htmlHex=function(a){return\"#\"+this.HEX(this.red)+this.HEX(this.green)+this.HEX(this.blue)};Colour.prototype.hex=function(a){return this.HEX(this.red)+this.HEX(this.green)+this.HEX(this.blue)+this.HEX(255*this.alpha)};\n",
       "Colour.prototype.hexGL=function(a){return this.HEX(255*this.alpha)+this.HEX(this.blue)+this.HEX(this.green)+this.HEX(this.red)};\n",
       "Colour.prototype.setHSV=function(a){var b,c,d,e,f;f=a.S/100;var g=a.V/100,h=a.H/360;if(0<f){1<=h&&(h=0);h*=6;F=h-Math.floor(h);d=Math.round(255*g*(1-f));e=Math.round(255*g*(1-f*F));f=Math.round(255*g*(1-f*(1-F)));g=Math.round(255*g);switch(Math.floor(h)){case 0:b=g;c=f;e=d;break;case 1:b=e;c=g;e=d;break;case 2:b=d;c=g;e=f;break;case 3:b=d;c=e;e=g;break;case 4:b=f;c=d;e=g;break;case 5:b=g,c=d}this.red=b?b:0;this.green=c?c:0;this.blue=e?e:0}else this.blue=this.green=this.red=g=Math.round(255*g);this.alpha=\n",
       "\"undefined\"==typeof a.A?1:a.A};Colour.prototype.HSV=function(){var a=this.red/255,b=this.green/255,c=this.blue/255,d=Math.min(a,b,c),e=Math.max(a,b,c);deltaMax=e-d;var f,g,h,k;0==deltaMax?d=f=0:(d=deltaMax/e,g=((e-a)/6+deltaMax/2)/deltaMax,h=((e-b)/6+deltaMax/2)/deltaMax,k=((e-c)/6+deltaMax/2)/deltaMax,a==e?f=k-h:b==e?f=1/3+g-k:c==e&&(f=2/3+h-g),0>f&&(f+=1),1<f&&(f-=1));return{H:360*f,S:100*d,V:100*e}};Colour.prototype.HSVA=function(){var a=this.HSV();a.A=this.alpha;return a};\n",
       "Colour.prototype.interpolate=function(a,b){this.red=Math.round(this.red+b*(a.red-this.red));this.green=Math.round(this.green+b*(a.green-this.green));this.blue=Math.round(this.blue+b*(a.blue-this.blue));this.alpha=Math.round(this.alpha+b*(a.alpha-this.alpha))};Colour.prototype.blend=function(a){return new Colour([Math.round((1-a.alpha)*this.red+a.alpha*a.red),Math.round((1-a.alpha)*this.green+a.alpha*a.green),Math.round((1-a.alpha)*this.blue+a.alpha*a.blue),(1-a.alpha)*this.alpha+a.alpha*a.alpha])};\n",
       "function MoveWindow(a){if(a){this.element=document.getElementById(a);if(!this.element)return alert(\"No such element: \"+a),null;this.mouse=new Mouse(this.element,this);this.mouse.moveUpdate=!0;this.element.mouse=this.mouse}}\n",
       "MoveWindow.prototype.open=function(a,b){var c=this.element.style;0>a&&(a=0);0>b&&(b=0);void 0!=a&&(c.left=a+\"px\");void 0!=b&&(c.top=b+\"px\");c.display=\"block\";var d=this.element.offsetWidth,e=this.element.offsetHeight;a+d>window.innerWidth-20&&(c.left=window.innerWidth-d-20+\"px\");b+e>window.innerHeight-20&&(c.top=window.innerHeight-e-20+\"px\")};MoveWindow.prototype.close=function(){this.element.style.display=\"none\"};\n",
       "MoveWindow.prototype.move=function(a,b){if(b.isdown&&!(0<b.button)){var c=b.element.style;c.left=parseInt(c.left)+b.deltaX+\"px\";c.top=parseInt(c.top)+b.deltaY+\"px\"}};MoveWindow.prototype.down=function(a,b){return!1};function scale(a,b,c,d){return clamp(d*a/b,c,d)}function clamp(a,b,c){return Math.max(b,Math.min(c,a))}\n",
       "function ColourPicker(a,b){function c(a,b,c){var d=document.createElement(\"div\");d.id=a;b&&(d.innerHTML=b);c&&(d.style.cssText=c);return d}var d=document.getElementById(\"picker\");if(d&&d.picker)return d.picker.savefn=a,d.picker.abortfn=b,d.picker;d=document.body;this.element=c(\"picker\",null,\"display:none; top: 58px; z-index: 20; background: #0d0d0d; color: #aaa; cursor: move; font-family: arial; font-size: 11px; padding: 7px 10px 11px 10px; position: fixed; width: 248px; border-radius: 5px; border: 1px solid #444;\");\n",
       "var e=c(\"pickCURBG\",null,'background-image: url(\"data:image/png;base64,iVBORw0KGgoAAAANSUhEUgAAABAAAAAQCAYAAAAf8/9hAAAAIElEQVQ4jWP4TwAcOHAAL2YYNWBYGEBIASEwasCwMAAALvidroqDalkAAAAASUVORK5CYII=\"); float: left; width: 12px; height: 12px; margin-right: 3px;');e.appendChild(c(\"pickCUR\",null,\"float: left; width: 12px; height: 12px; background: #fff; margin-right: 3px;\"));this.element.appendChild(e);e=c(\"pickRGB\",\"R: 255 G: 255 B: 255\",\"float: left; position: relative; top: -1px;\");e.onclick=\"colours.picker.updateString()\";\n",
       "this.element.appendChild(e);this.element.appendChild(c(\"pickCLOSE\",\"X\",\"float: right; cursor: pointer; margin: 0 8px 3px;\"));this.element.appendChild(c(\"pickOK\",\"OK\",\"float: right; cursor: pointer; margin: 0 8px 3px;\"));e=c(\"SV\",null,\"position: relative; cursor: crosshair; float: left; height: 170px; width: 170px; margin-right: 10px; background: url('data:image/png;base64,iVBORw0KGgoAAAANSUhEUgAAABAAAAAQCAYAAAAf8/9hAAAEG0lEQVQ4jQEQBO/7APz8/Pz7+/vx+/v75Pr6+tb6+vrF+Pj4tPf396H4+PiO9/f3e/X19Wfz8/NU8PDwQuvr6zLi4uIjzs7OFZmZmQoA8PDw/O/v7/Ht7e3l7Ozs2Ozs7Mjq6uq35ubmpeXl5ZLf39+A3NzcbtXV1VvMzMxLvr6+O6ioqCyEhIQfQEBAFADk5OT84eHh8uDg4Obe3t7Z3Nzcy9nZ2brV1dWq0NDQmcrKyofCwsJ2uLi4ZKqqqlSYmJhFfX19N1lZWSsnJychANPT0/zT09Pz0NDQ6c3NzdzKysrNx8fHv8DAwK+6urqfsrKyj6mpqX+cnJxvjIyMX3l5eVBeXl5EPz8/ORsbGy8Aw8PD/MHBwfS+vr7qurq63ra2ttKxsbHErKystaOjo6eampqXj4+PiYODg3lycnJrXl5eX0hISFIuLi5IEBAQPwCwsLD9r6+v9aysrOynp6fioqKi1p2dncmVlZW8jo6OroODg6F5eXmUa2trhl1dXXlLS0ttNzc3YiIiIlkNDQ1RAJ6env2bm5v2l5eX7pSUlOWPj4/aiIiIz4GBgcN5eXm3cHBwq2RkZJ5XV1eSSkpKhzk5OX0qKipzGBgYawgICGMAioqK/YeHh/eDg4PvgICA6Hp6et90dHTVbW1ty2VlZcBcXFy1UVFRqkZGRqA6OjqWLS0tjSEhIYQSEhJ9BgYGdwB2dnb+c3Nz+HFxcfJra2vrZmZm42JiYttaWlrRUlJSyUtLS79CQkK2Nzc3rS0tLaQiIiKdGBgYlQ4ODo8EBASKAGNjY/5gYGD5XV1d9FpaWu5VVVXnTk5O4UlJSdlCQkLRPDw8yTQ0NMEqKiq7IiIisxkZGa0RERGmCgoKoQMDA5wAUFBQ/k9PT/pKSkr3R0dH8kNDQ+w+Pj7mOTk54DMzM9otLS3TJycnzSAgIMgZGRnBExMTvA0NDbcHBweyAwMDrwA9PT3+PDw8+zo6Ovg2Njb0MzMz8DAwMOwqKirnJSUl4iEhId4cHBzYFxcX1BISEtAODg7KCQkJxwQEBMQBAQHBAC0tLf4rKyv9Kioq+iYmJvclJSX0ISEh8R4eHu4aGhrqFhYW5xMTE+MQEBDgDQ0N3AgICNkGBgbWBAQE0wAAANEAHh4e/h0dHf0bGxv7Ghoa+hgYGPcWFhb2FBQU8xEREfEPDw/uDAwM7AoKCuoICAjoBgYG5gMDA+MBAQHiAAAA4QARERH+EBAQ/g8PD/0NDQ38DQ0N+wsLC/kKCgr4CAgI9wcHB/YFBQX0BAQE8wICAvIBAQHwAQEB7wAAAO8AAADuAAUFBf4FBQX+BAQE/gQEBP4DAwP+AwMD/QMDA/0CAgL8AQEB/AEBAfsAAAD7AAAA+wAAAPoAAAD6AAAA+QAAAPmq2NbsCl2m4wAAAABJRU5ErkJggg==') no-repeat; background-size: 100%;\");\n",
       "e.appendChild(c(\"SVslide\",null,\"background: url('data:image/png;base64,iVBORw0KGgoAAAANSUhEUgAAAAkAAAAJCAYAAADgkQYQAAAALUlEQVQYlWNgQAX/kTBW8B8ZYFMIk0ARQFaIoQCbQuopIspNRPsOrpABSzgBAFHzU61KjdKlAAAAAElFTkSuQmCC'); height: 9px; width: 9px; position: absolute; cursor: crosshair\"));this.element.appendChild(e);e=c(\"H\",null,'cursor: crosshair; float: left; height: 170px; position: relative; width: 19px; padding: 0;background-image: url(\"data:image/png;base64,iVBORw0KGgoAAAANSUhEUgAAABAAAAAQCAYAAAAf8/9hAAAAIElEQVQ4jWP4TwAcOHAAL2YYNWBYGEBIASEwasCwMAAALvidroqDalkAAAAASUVORK5CYII=\");');\n",
       "e.appendChild(c(\"Hmodel\",null,\"position: relative;\"));e.appendChild(c(\"Hslide\",null,'top: 0px; left: -5px; background: url(\"data:image/png;base64,iVBORw0KGgoAAAANSUhEUgAAAB0AAAAFCAYAAAC5Fuf5AAAAKklEQVQokWP4////fwY6gv////9n+A8F9LIQxVJaW4xiz4D5lB4WIlsMAPjER7mTpG/OAAAAAElFTkSuQmCC\"); height: 5px; width: 29px; position: absolute; '));this.element.appendChild(e);e=c(\"O\",null,'cursor: crosshair; float: left; height: 170px; position: relative; width: 19px; padding: 0;background-image: url(\"data:image/png;base64,iVBORw0KGgoAAAANSUhEUgAAABAAAAAQCAYAAAAf8/9hAAAAIElEQVQ4jWP4TwAcOHAAL2YYNWBYGEBIASEwasCwMAAALvidroqDalkAAAAASUVORK5CYII=\");border: 1px solid #888; left: 9px;');\n",
       "e.appendChild(c(\"Omodel\",null,\"position: relative;\"));e.appendChild(c(\"Oslide\",null,'top: 0px; left: -5px; background: url(\"data:image/png;base64,iVBORw0KGgoAAAANSUhEUgAAAB0AAAAFCAYAAAC5Fuf5AAAAKklEQVQokWP4////fwY6gv////9n+A8F9LIQxVJaW4xiz4D5lB4WIlsMAPjER7mTpG/OAAAAAElFTkSuQmCC\"); height: 5px; width: 29px; position: absolute; '));this.element.appendChild(e);d.appendChild(this.element);d=document.createElement(\"style\");d.styleSheet?d.styleSheet.cssText=\"#pickRGB:hover {color: #FFD000;} #pickCLOSE:hover {color: #FFD000;} #pickOK:hover {color: #FFD000;}\":\n",
       "d.appendChild(document.createTextNode(\"#pickRGB:hover {color: #FFD000;} #pickCLOSE:hover {color: #FFD000;} #pickOK:hover {color: #FFD000;}\"));document.getElementsByTagName(\"head\")[0].appendChild(d);MoveWindow.call(this,\"picker\");this.savefn=a;this.abortfn=b;this.size=170;this.sv=5;this.oh=2;this.picked={H:360,S:100,V:100,A:1};this.max={H:360,S:100,V:100,A:1};this.colour=new Colour;for(var e=\"\",f,d=0;d<=this.size;d++)f=new Colour({H:Math.round(360/this.size*d),S:100,V:100,A:1}),e+=\"<div class='hue' style='height: 1px; width: 19px; margin: 0; padding: 0; background: \"+\n",
       "f.htmlHex()+\";'> </div>\";document.getElementById(\"Hmodel\").innerHTML=e;e=\"\";for(d=0;d<=this.size;d++)f=1-d/this.size,e+=\"<div class='opacity' style='height: 1px; width: 19px; margin: 0; padding: 0; background: #000;opacity: \"+f.toFixed(2)+\";'> </div>\";document.getElementById(\"Omodel\").innerHTML=e;this.element.picker=this}ColourPicker.prototype=new MoveWindow;ColourPicker.prototype.constructor=MoveWindow;\n",
       "ColourPicker.prototype.pick=function(a,b,c){this.update(a.HSVA());\"block\"!=this.element.style.display&&MoveWindow.prototype.open.call(this,b,c)};ColourPicker.prototype.select=function(a,b,c){if(!b||!c){var d=findElementPos(a);b=b?b:d[0]+32;c=c?c:d[1]+32}d=new Colour(a.style.backgroundColor);this.update(d.HSVA());\"block\"!=this.element.style.display&&(MoveWindow.prototype.open.call(this,b,c),this.target=a)};\n",
       "ColourPicker.prototype.click=function(a,b){if(\"pickCLOSE\"==b.target.id)this.abortfn&&this.abortfn(),toggle(\"picker\");else if(\"pickOK\"==b.target.id){this.savefn&&this.savefn(this.picked);if(this.target){var c=new Colour(this.picked);this.target.style.backgroundColor=c.html()}toggle(\"picker\")}else\"SV\"==b.target.id?this.setSV(b):\"Hslide\"==b.target.id||\"hue\"==b.target.className?this.setHue(b):\"Oslide\"!=b.target.id&&\"opacity\"!=b.target.className||this.setOpacity(b)};\n",
       "ColourPicker.prototype.move=function(a,b){b.isdown&&0==b.button&&(\"picker\"==b.target.id||\"pickCUR\"==b.target.id||\"pickRGB\"==b.target.id?MoveWindow.prototype.move.call(this,a,b):b.target&&this.click(a,b))};ColourPicker.prototype.wheel=function(a,b){this.incHue(-a.spin)};\n",
       "ColourPicker.prototype.setSV=function(a){var b=a.clientx-parseInt(document.getElementById(\"SV\").offsetLeft);a=a.clienty-parseInt(document.getElementById(\"SV\").offsetTop);this.picked.S=scale(b,this.size,0,this.max.S);this.picked.V=this.max.V-scale(a,this.size,0,this.max.V);this.update(this.picked)};ColourPicker.prototype.setHue=function(a){parseInt(document.getElementById(\"H\").offsetLeft);a=a.clienty-parseInt(document.getElementById(\"H\").offsetTop);this.picked.H=scale(a,this.size,0,this.max.H);this.update(this.picked)};\n",
       "ColourPicker.prototype.incHue=function(a){this.picked.H+=a;this.picked.H=clamp(this.picked.H,0,this.max.H);this.update(this.picked)};ColourPicker.prototype.setOpacity=function(a){parseInt(document.getElementById(\"O\").offsetLeft);a=a.clienty-parseInt(document.getElementById(\"O\").offsetTop);this.picked.A=1-clamp(a/this.size,0,1);this.update(this.picked)};ColourPicker.prototype.updateString=function(a){a||(a=prompt(\"Edit colour:\",this.colour.html()));a&&(this.colour=new Colour(a),this.update(this.colour.HSV()))};\n",
       "ColourPicker.prototype.update=function(a){this.picked=a;this.colour=new Colour(a);rgba=this.colour.rgbaObj();rgbaStr=this.colour.html();bgcol=new Colour({H:a.H,S:100,V:100,A:255});document.getElementById(\"pickRGB\").innerHTML=this.colour.printString();document.getElementById(\"pickCUR\").style.background=rgbaStr;document.getElementById(\"pickCUR\").style.backgroundColour=rgbaStr;document.getElementById(\"SV\").style.backgroundColor=bgcol.htmlHex();document.getElementById(\"Hslide\").style.top=a.H/360*this.size-\n",
       "this.oh+\"px\";document.getElementById(\"SVslide\").style.top=Math.round(this.size-a.V/100*this.size-this.sv)+\"px\";document.getElementById(\"SVslide\").style.left=Math.round(a.S/100*this.size-this.sv)+\"px\";document.getElementById(\"Oslide\").style.top=this.size*(1-a.A)-this.oh-1+\"px\"};\n",
       "function GradientEditor(a,b,c,d,e){this.canvas=a;this.callback=b;this.premultiply=c;this.changed=!0;this.inserting=!1;this.element=this.editing=null;this.spin=0;this.scrollable=e;d||(this.picker=new ColourPicker(this.save.bind(this),this.cancel.bind(this)));this.palette=new Palette(null,c);this.canvas.mouse=new Mouse(this.canvas,this);this.canvas.oncontextmenu=\"return false;\";this.canvas.oncontextmenu=function(){return!1}}\n",
       "GradientEditor.prototype.read=function(a){this.palette=new Palette(a,this.premultiply);this.reset();this.update(!0)};GradientEditor.prototype.update=function(a){this.changed=!0;this.palette.draw(this.canvas,!0);!a&&this.callback&&this.callback(this)};GradientEditor.prototype.get=function(a,b){if(b&&!this.changed)return!1;this.changed=!1;this.palette.draw(a,!1);return!0};\n",
       "GradientEditor.prototype.insert=function(a,b,c){this.inserting=!0;var d=new Colour;this.editing=this.palette.newColour(a,d);this.picker=new ColourPicker(this.save.bind(this),this.cancel.bind(this));this.picker.pick(d,b,c)};GradientEditor.prototype.editBackground=function(a){this.editing=-1;var b=findElementPos(a);this.element=a;this.picker=new ColourPicker(this.save.bind(this),this.cancel.bind(this));this.picker.pick(this.palette.background,b[0]+32,b[1]+32)};\n",
       "GradientEditor.prototype.edit=function(a,b,c){this.picker=new ColourPicker(this.save.bind(this),this.cancel.bind(this));\"number\"==typeof a?(this.editing=a,this.picker.pick(this.palette.colours[a].colour,b,c)):\"object\"==typeof a&&(this.cancel(),this.element=a,b=new Colour(a.style.backgroundColor),a=findElementPos(a),this.picker.pick(b,a[0]+32,a[1]+32));this.update()};\n",
       "GradientEditor.prototype.save=function(a){null!=this.editing&&(0<=this.editing?this.palette.colours[this.editing].colour.setHSV(a):this.palette.background.setHSV(a));if(this.element){var b=new Colour(0);b.setHSV(a);this.element.style.backgroundColor=b.html();if(this.element.onchange)this.element.onchange()}this.reset();this.update()};GradientEditor.prototype.cancel=function(){0<=this.editing&&this.inserting&&this.palette.remove(this.editing);this.reset();this.update()};\n",
       "GradientEditor.prototype.reset=function(){this.inserting=!1;this.element=this.editing=null};\n",
       "GradientEditor.prototype.click=function(a,b){if(a.ctrlKey){for(var c=0;c<this.palette.colours.length;c++)this.palette.colours[c].position=1-this.palette.colours[c].position;this.update();return!1}this.scrollable||(b.x=b.clientx);if(null!=b.slider)return b.slider=null,this.palette.sort(),this.update(),!1;var d=this.canvas;if(d.getContext){this.cancel();d.getContext(\"2d\");var e=findElementPos(d)[1]+30,c=this.palette.inRange(b.x,this.palette.slider.width,d.width);0<=c?0==a.button?this.edit(c,a.clientX-\n",
       "128,e):2==a.button&&(this.palette.remove(c),this.update()):this.insert(b.x/d.width,a.clientX-128,e)}return!1};GradientEditor.prototype.down=function(a,b){return!1};\n",
       "GradientEditor.prototype.move=function(a,b){if(!b.isdown)return!0;this.scrollable||(b.x=b.clientx);if(null==b.slider){var c=this.palette.inDragRange(b.x,this.palette.slider.width,this.canvas.width);0<c&&(b.slider=c)}null==b.slider?b.isdown=!1:(1>b.x&&(b.x=1),b.x>this.canvas.width-1&&(b.x=this.canvas.width-1),this.palette.colours[b.slider].position=b.x/this.canvas.width,this.update(!0))};\n",
       "GradientEditor.prototype.wheel=function(a,b){this.timer?clearTimeout(this.timer):this.canvas.style.cursor=\"wait\";this.spin+=.01*a.spin;var c=this;this.timer=setTimeout(function(){c.cycle(c.spin);c.spin=0},150)};GradientEditor.prototype.leave=function(a,b){};\n",
       "GradientEditor.prototype.cycle=function(a){this.canvas.style.cursor=\"default\";this.timer=null;for(var b=1;b<this.palette.colours.length-1;b++){var c=this.palette.colours[b].position,c=c+a;0>=c&&(c+=1);1<=c&&(c-=1);this.palette.colours[b].position=c}this.palette.sort();this.update()};\n",
       "//Bounding box only in WebGL\n",
       "function initBox(el, cmd_callback) {\n",
       "  //console.log(\"INITBOX: \" + el.id);\n",
       "  var canvas = document.createElement(\"canvas\");\n",
       "  canvas.id = \"canvas\";\n",
       "\n",
       "  if (!el) el = document.body.firstChild;\n",
       "  el.parentElement.appendChild(canvas);\n",
       "  //canvas.style.cssText = \"position: absolute; z-index: 0; margin: 0px; padding: 0px; border: none; display: block;\"\n",
       "  //canvas.style.cssText = \"position: absolute; width: 100%; height: 100%; margin: auto; top: 0; left: 0; bottom: 0; right: 0; z-index: 51; border: none;\"\n",
       "  canvas.style.cssText = \"position: absolute; width: 100%; height: 100%; margin: 0px; padding: 0px; top: 0; left: 0; bottom: 0; right: 0; z-index: 11; border: none;\"\n",
       "  viewer = new Viewer(canvas);\n",
       "\n",
       "  //Canvas event handling\n",
       "  canvas.mouse = new Mouse(canvas, new MouseEventHandler(canvasMouseClick, canvasMouseWheel, canvasMouseMove, canvasMouseDown, null, null, canvasMousePinch));\n",
       "  //Following two settings should probably be defaults?\n",
       "  canvas.mouse.moveUpdate = true; //Continual update of deltaX/Y\n",
       "  //canvas.mouse.setDefault();\n",
       "  canvas.mouse.wheelTimer = true; //Accumulate wheel scroll (prevents too many events backing up)\n",
       "  defaultMouse = document.mouse = canvas.mouse;\n",
       "\n",
       "  //Attach viewer object to canvas\n",
       "  canvas.viewer = viewer;\n",
       "\n",
       "  //Command callback function\n",
       "  viewer.command = cmd_callback;\n",
       "\n",
       "  return viewer;\n",
       "}\n",
       "\n",
       "function updateBox(viewer, loaderfn) {\n",
       "  //Loader callback\n",
       "  loaderfn(function(data) {viewer.loadFile(data);});\n",
       "}\n",
       "\n",
       "function canvasMouseClick(event, mouse) {\n",
       "  if (mouse.element.viewer.rotating)\n",
       "    mouse.element.viewer.command('' + mouse.element.viewer.getRotationString());\n",
       "  else\n",
       "    mouse.element.viewer.command('' + mouse.element.viewer.getTranslationString());\n",
       "\n",
       "  if (mouse.element.viewer.rotating) {\n",
       "    mouse.element.viewer.rotating = false;\n",
       "    //mouse.element.viewer.reload = true;\n",
       "  }\n",
       "\n",
       "  //Clear the webgl box\n",
       "  mouse.element.viewer.clear();\n",
       "\n",
       "  return false;\n",
       "}\n",
       "\n",
       "function canvasMouseDown(event, mouse) {\n",
       "  return false;\n",
       "}\n",
       "\n",
       "function canvasMouseMove(event, mouse) {\n",
       "  if (!mouse.isdown || !mouse.element.viewer) return true;\n",
       "  mouse.element.viewer.rotating = false;\n",
       "\n",
       "  //Switch buttons for translate/rotate\n",
       "  var button = mouse.button;\n",
       "\n",
       "  //console.log(mouse.deltaX + \",\" + mouse.deltaY);\n",
       "  switch (button)\n",
       "  {\n",
       "    case 0:\n",
       "      mouse.element.viewer.rotateY(mouse.deltaX/5);\n",
       "      mouse.element.viewer.rotateX(mouse.deltaY/5);\n",
       "      mouse.element.viewer.rotating = true;\n",
       "      break;\n",
       "    case 1:\n",
       "      mouse.element.viewer.rotateZ(Math.sqrt(mouse.deltaX*mouse.deltaX + mouse.deltaY*mouse.deltaY)/5);\n",
       "      mouse.element.viewer.rotating = true;\n",
       "      break;\n",
       "    case 2:\n",
       "      var adjust = mouse.element.viewer.modelsize / 1000;   //1/1000th of size\n",
       "      mouse.element.viewer.translate[0] += mouse.deltaX * adjust;\n",
       "      mouse.element.viewer.translate[1] -= mouse.deltaY * adjust;\n",
       "      break;\n",
       "  }\n",
       "\n",
       "  mouse.element.viewer.draw();\n",
       "\n",
       "  return false;\n",
       "}\n",
       "\n",
       "var zoomTimer;\n",
       "var zoomClipTimer;\n",
       "var zoomFactor = 0;\n",
       "\n",
       "function canvasMouseWheel(event, mouse) {\n",
       "  if (event.shiftKey) {\n",
       "    var factor = event.spin * 0.01;\n",
       "    if (window.navigator.platform.indexOf(\"Mac\") >= 0)\n",
       "      factor *= 0.1;\n",
       "    if (zoomClipTimer) clearTimeout(zoomClipTimer);\n",
       "    zoomClipTimer = setTimeout(function () {mouse.element.viewer.zoomClip(factor);}, 100 );\n",
       "  } else {\n",
       "    var factor = event.spin * 0.05;\n",
       "    if (window.navigator.platform.indexOf(\"Mac\") >= 0)\n",
       "      factor *= 0.1;\n",
       "    if (zoomTimer) clearTimeout(zoomTimer);\n",
       "    zoomFactor += factor;\n",
       "    zoomTimer = setTimeout(function () {mouse.element.viewer.zoom(zoomFactor); zoomFactor = 0;}, 100 );\n",
       "    //Clear the box after a second\n",
       "    setTimeout(function() {mouse.element.viewer.clear();}, 1000);\n",
       "  }\n",
       "  return false; //Prevent default\n",
       "}\n",
       "\n",
       "function canvasMousePinch(event, mouse) {\n",
       "  if (event.distance != 0) {\n",
       "    var factor = event.distance * 0.0001;\n",
       "    mouse.element.viewer.zoom(factor);\n",
       "    //Clear the box after a second\n",
       "    setTimeout(function() {mouse.element.viewer.clear();}, 1000);\n",
       "  }\n",
       "  return false; //Prevent default\n",
       "}\n",
       "\n",
       "//This object encapsulates a vertex buffer and shader set\n",
       "function Renderer(gl, colour) {\n",
       "  this.gl = gl;\n",
       "  if (colour) this.colour = colour;\n",
       "\n",
       "    //Line renderer\n",
       "    this.attributes = [\"aVertexPosition\"],\n",
       "    this.uniforms = [\"uColour\"]\n",
       "    this.attribSizes = [3 * Float32Array.BYTES_PER_ELEMENT];\n",
       "\n",
       "  this.elements = 0;\n",
       "  this.elementSize = 0;\n",
       "  for (var i=0; i<this.attribSizes.length; i++)\n",
       "    this.elementSize += this.attribSizes[i];\n",
       "}\n",
       "\n",
       "Renderer.prototype.init = function() {\n",
       "  //Compile the shaders\n",
       "  this.program = new WebGLProgram(this.gl, \"line-vs\", \"line-fs\");\n",
       "  if (this.program.errors) console.log(this.program.errors);\n",
       "  //Setup attribs/uniforms (flag set to skip enabling attribs)\n",
       "  this.program.setup(this.attributes, this.uniforms, true);\n",
       "\n",
       "  return true;\n",
       "}\n",
       "\n",
       "Renderer.prototype.updateBuffers = function(view) {\n",
       "  //Create buffer if not yet allocated\n",
       "  if (this.vertexBuffer == undefined) {\n",
       "    //Init shaders etc...\n",
       "    if (!this.init()) return;\n",
       "    this.vertexBuffer = this.gl.createBuffer();\n",
       "    this.indexBuffer = this.gl.createBuffer();\n",
       "  }\n",
       "\n",
       "  //Bind buffers\n",
       "  this.gl.bindBuffer(this.gl.ARRAY_BUFFER, this.vertexBuffer);\n",
       "  this.gl.bindBuffer(this.gl.ELEMENT_ARRAY_BUFFER, this.indexBuffer);\n",
       "\n",
       "  this.box(view.min, view.max);\n",
       "  this.elements = 24;\n",
       "}\n",
       "\n",
       "Renderer.prototype.box = function(min, max) {\n",
       "  var vertices = new Float32Array(\n",
       "        [\n",
       "          min[0], min[1], max[2],\n",
       "          min[0], max[1], max[2],\n",
       "          max[0], max[1], max[2],\n",
       "          max[0], min[1], max[2],\n",
       "          min[0], min[1], min[2],\n",
       "          min[0], max[1], min[2],\n",
       "          max[0], max[1], min[2],\n",
       "          max[0], min[1], min[2]\n",
       "        ]);\n",
       "\n",
       "  var indices = new Uint16Array(\n",
       "        [\n",
       "          0, 1, 1, 2, 2, 3, 3, 0,\n",
       "          4, 5, 5, 6, 6, 7, 7, 4,\n",
       "          0, 4, 3, 7, 1, 5, 2, 6\n",
       "        ]\n",
       "     );\n",
       "  this.gl.bufferData(this.gl.ARRAY_BUFFER, vertices, this.gl.STATIC_DRAW);\n",
       "  this.gl.bufferData(this.gl.ELEMENT_ARRAY_BUFFER, indices, this.gl.STATIC_DRAW);\n",
       "}\n",
       "\n",
       "Renderer.prototype.draw = function(webgl) {\n",
       "  if (!this.elements) return;\n",
       "\n",
       "  if (this.program.attributes[\"aVertexPosition\"] == undefined) return; //Require vertex buffer\n",
       "\n",
       "  webgl.use(this.program);\n",
       "  webgl.setMatrices();\n",
       "\n",
       "  //Bind buffers\n",
       "  this.gl.bindBuffer(this.gl.ARRAY_BUFFER, this.vertexBuffer);\n",
       "  this.gl.bindBuffer(this.gl.ELEMENT_ARRAY_BUFFER, this.indexBuffer);\n",
       "\n",
       "  //Enable attributes\n",
       "  for (var key in this.program.attributes)\n",
       "    this.gl.enableVertexAttribArray(this.program.attributes[key]);\n",
       "\n",
       "  if (this.colour)\n",
       "    this.gl.uniform4f(this.program.uniforms[\"uColour\"], this.colour[0], this.colour[1], this.colour[2], this.colour[3]);\n",
       " \n",
       "  //Line box render\n",
       "  this.gl.vertexAttribPointer(this.program.attributes[\"aVertexPosition\"], 3, this.gl.FLOAT, false, 0, 0);\n",
       "  this.gl.drawElements(this.gl.LINES, this.elements, this.gl.UNSIGNED_SHORT, 0);\n",
       "\n",
       "  //Disable attribs\n",
       "  for (var key in this.program.attributes)\n",
       "    this.gl.disableVertexAttribArray(this.program.attributes[key]);\n",
       "\n",
       "  this.gl.bindBuffer(this.gl.ARRAY_BUFFER, null);\n",
       "  this.gl.bindBuffer(this.gl.ELEMENT_ARRAY_BUFFER, null);\n",
       "  this.gl.useProgram(null);\n",
       "}\n",
       "\n",
       "//This object holds the viewer details and calls the renderers\n",
       "function Viewer(canvas) {\n",
       "  this.canvas = canvas;\n",
       "  if (!canvas) {alert(\"Invalid Canvas\"); return;}\n",
       "  try {\n",
       "    this.webgl = new WebGL(this.canvas, {antialias: true, premultipliedAlpha: false});\n",
       "    this.gl = this.webgl.gl;\n",
       "  } catch(e) {\n",
       "    //No WebGL\n",
       "    console.log(\"No WebGL: \" + e);\n",
       "  }\n",
       "\n",
       "  this.vis = {};\n",
       "  this.view = 0; //Active view\n",
       "\n",
       "  this.rotating = false;\n",
       "  this.translate = [0,0,0];\n",
       "  this.rotate = quat4.create();\n",
       "  quat4.identity(this.rotate);\n",
       "  this.fov = 45;\n",
       "  this.focus = [0,0,0];\n",
       "  this.centre = [0,0,0];\n",
       "  this.near_clip = this.far_clip = 0.0;\n",
       "  this.modelsize = 1;\n",
       "  this.scale = [1, 1, 1];\n",
       "  this.orientation = 1.0; //1.0 for RH, -1.0 for LH\n",
       "\n",
       "  if (!this.gl) return;\n",
       "\n",
       "  //Create the renderers\n",
       "  this.border = new Renderer(this.gl, [0.5,0.5,0.5,1]);\n",
       "\n",
       "  this.gl.enable(this.gl.DEPTH_TEST);\n",
       "  this.gl.depthFunc(this.gl.LEQUAL);\n",
       "  //this.gl.depthMask(this.gl.FALSE);\n",
       "  this.gl.enable(this.gl.BLEND);\n",
       "  //this.gl.blendFunc(this.gl.SRC_ALPHA, this.gl.ONE_MINUS_SRC_ALPHA);\n",
       "  //this.gl.blendFuncSeparate(this.gl.SRC_ALPHA, this.gl.ONE_MINUS_SRC_ALPHA, this.gl.ZERO, this.gl.ONE);\n",
       "  this.gl.blendFuncSeparate(this.gl.SRC_ALPHA, this.gl.ONE_MINUS_SRC_ALPHA, this.gl.ONE, this.gl.ONE_MINUS_SRC_ALPHA);\n",
       "}\n",
       "\n",
       "Viewer.prototype.checkPointMinMax = function(coord) {\n",
       "  for (var i=0; i<3; i++) {\n",
       "    this.vis.views[this.view].min[i] = Math.min(coord[i], this.vis.views[this.view].min[i]);\n",
       "    this.vis.views[this.view].max[i] = Math.max(coord[i], this.vis.views[this.view].max[i]);\n",
       "  }\n",
       "  //console.log(JSON.stringify(this.vis.views[this.view].min) + \" -- \" + JSON.stringify(this.vis.views[this.view].max));\n",
       "}\n",
       "\n",
       "Viewer.prototype.loadFile = function(source) {\n",
       "  //Skip update to rotate/translate etc if in process of updating\n",
       "  //if (document.mouse.isdown) return;\n",
       "\n",
       "  //Replace data\n",
       "  this.vis = JSON.parse(source);\n",
       "\n",
       "  //Always set a bounding box, get from objects if not in view\n",
       "  var objbb = false;\n",
       "  if (!this.vis.views[this.view].min || !this.vis.views[this.view].max) {\n",
       "    this.vis.views[this.view].min = [Number.MAX_VALUE, Number.MAX_VALUE, Number.MAX_VALUE];\n",
       "    this.vis.views[this.view].max = [-Number.MAX_VALUE, -Number.MAX_VALUE, -Number.MAX_VALUE];\n",
       "    objbb = true;\n",
       "  }\n",
       "  //console.log(JSON.stringify(this.vis.views[this.view],null, 2));\n",
       "\n",
       "  if (this.vis.views[this.view]) {\n",
       "    this.near_clip = this.vis.views[this.view].near || 0;\n",
       "    this.far_clip = this.vis.views[this.view].far || 0;\n",
       "    this.orientation = this.vis.views[this.view].orientation || 1;\n",
       "    this.axes = this.vis.views[this.view].axis == undefined ? true : this.vis.views[this.view].axis;\n",
       "  }\n",
       "\n",
       "  if (this.vis.properties.resolution && this.vis.properties.resolution[0] && this.vis.properties.resolution[1]) {\n",
       "    this.width = this.vis.properties.resolution[0];\n",
       "    this.height = this.vis.properties.resolution[1];\n",
       "    //this.canvas.style.width = \"\";\n",
       "    //this.canvas.style.height = \"\";\n",
       "  } else {\n",
       "    //Autosize when img loaded\n",
       "    this.width = 0;\n",
       "    this.height = 0;\n",
       "  }\n",
       "\n",
       "  //Process object data\n",
       "  for (var id in this.vis.objects) {\n",
       "    //Apply object bounding box\n",
       "    if (objbb && this.vis.objects[id].min)\n",
       "      this.checkPointMinMax(this.vis.objects[id].min);\n",
       "    if (objbb && this.vis.objects[id].max)\n",
       "      this.checkPointMinMax(this.vis.objects[id].max);\n",
       "  }\n",
       "\n",
       "  this.updateDims(this.vis.views[this.view]);\n",
       "\n",
       "  //Update display\n",
       "  if (!this.gl) return;\n",
       "  this.draw();\n",
       "  this.clear();\n",
       "}\n",
       "\n",
       "\n",
       "Viewer.prototype.clear = function() {\n",
       "  if (!this.gl) return;\n",
       "  this.gl.clear(this.gl.COLOR_BUFFER_BIT | this.gl.DEPTH_BUFFER_BIT);\n",
       "}\n",
       "\n",
       "Viewer.prototype.draw = function() {\n",
       "  if (!this.canvas) return;\n",
       "\n",
       "  //Get the dimensions from the current canvas\n",
       "  if (this.width != this.canvas.offsetWidth || this.height != this.canvas.offsetHeight) {\n",
       "    this.width = this.canvas.offsetWidth;\n",
       "    this.height = this.canvas.offsetHeight;\n",
       "    //Need to set this too for some reason\n",
       "    this.canvas.width = this.width;\n",
       "    this.canvas.height = this.height;\n",
       "    if (this.gl) {\n",
       "      this.gl.viewportWidth = this.width;\n",
       "      this.gl.viewportHeight = this.height;\n",
       "      this.webgl.viewport = new Viewport(0, 0, this.width, this.height);\n",
       "    }\n",
       "  }\n",
       "  if (!this.gl) return;\n",
       "\n",
       "  this.gl.viewport(0, 0, this.gl.viewportWidth, this.gl.viewportHeight);\n",
       "  //this.gl.clearColor(1, 1, 1, 0);\n",
       "  this.gl.clearColor(0.5, 0.5, 0.5, 0);\n",
       "  this.gl.clear(this.gl.COLOR_BUFFER_BIT | this.gl.DEPTH_BUFFER_BIT);\n",
       "\n",
       "  this.webgl.setPerspective(this.fov, this.gl.viewportWidth / this.gl.viewportHeight, this.near_clip, this.far_clip);\n",
       "\n",
       "  //Apply translation to origin, any rotation and scaling (inverse of zoom factor)\n",
       "  this.webgl.modelView.identity()\n",
       "  this.webgl.modelView.translate(this.translate)\n",
       "  // Adjust centre of rotation, default is same as focal point so this does nothing...\n",
       "  var adjust = [this.scale[0]*(this.focus[0] - this.centre[0]), this.scale[1]*(this.focus[1] - this.centre[1]), this.scale[2]*(this.focus[2] - this.centre[2])];\n",
       "  this.webgl.modelView.translate([-adjust[0], -adjust[1], -adjust[2]]);\n",
       "\n",
       "  // rotate model \n",
       "  var rotmat = quat4.toMat4(this.rotate);\n",
       "  this.webgl.modelView.mult(rotmat);\n",
       "\n",
       "  // Adjust back for rotation centre\n",
       "  this.webgl.modelView.translate(adjust);\n",
       "\n",
       "  // Translate back by centre of model to align eye with model centre\n",
       "  this.webgl.modelView.translate([-this.focus[0]*this.scale[0], -this.focus[1]*this.scale[1], -this.focus[2]*this.scale[2] * this.orientation]);\n",
       "\n",
       "  // Apply scaling factors (including orientation switch if required)\n",
       "  var scaling = [this.scale[0], this.scale[1], this.scale[2] * this.orientation];\n",
       "  this.webgl.modelView.scale(scaling);\n",
       "  //console.log(JSON.stringify(this.webgl.modelView));\n",
       "\n",
       "   // Set default polygon front faces\n",
       "   if (this.orientation == 1.0)\n",
       "      this.gl.frontFace(this.gl.CCW);\n",
       "   else\n",
       "      this.gl.frontFace(this.gl.CW);\n",
       "\n",
       "  //Render objects\n",
       "  this.border.draw(this.webgl);\n",
       "\n",
       "}\n",
       "\n",
       "Viewer.prototype.rotateX = function(deg) {\n",
       "  this.rotation(deg, [1,0,0]);\n",
       "}\n",
       "\n",
       "Viewer.prototype.rotateY = function(deg) {\n",
       "  this.rotation(deg, [0,1,0]);\n",
       "}\n",
       "\n",
       "Viewer.prototype.rotateZ = function(deg) {\n",
       "  this.rotation(deg, [0,0,1]);\n",
       "}\n",
       "\n",
       "Viewer.prototype.rotation = function(deg, axis) {\n",
       "  //Quaterion rotate\n",
       "  var arad = deg * Math.PI / 180.0;\n",
       "  var rotation = quat4.fromAngleAxis(arad, axis);\n",
       "  rotation = quat4.normalize(rotation);\n",
       "  this.rotate = quat4.multiply(rotation, this.rotate);\n",
       "}\n",
       "\n",
       "Viewer.prototype.getRotation = function() {\n",
       "  return [this.rotate[0], this.rotate[1], this.rotate[2], this.rotate[3]];\n",
       "}\n",
       "\n",
       "Viewer.prototype.getRotationString = function() {\n",
       "  //Return current rotation quaternion as string\n",
       "  var q = this.getRotation();\n",
       "  return 'rotation ' + q[0] + ' ' + q[1] + ' ' + q[2] + ' ' + q[3];\n",
       "}\n",
       "\n",
       "Viewer.prototype.getTranslationString = function() {\n",
       "  return 'translation ' + this.translate[0] + ' ' + this.translate[1] + ' ' + this.translate[2];\n",
       "}\n",
       "\n",
       "Viewer.prototype.reset = function() {\n",
       "  if (this.gl) {\n",
       "    this.updateDims(this.vis.views[this.view]);\n",
       "    this.draw();\n",
       "  }\n",
       "\n",
       "  this.command('reset');\n",
       "}\n",
       "\n",
       "Viewer.prototype.zoom = function(factor) {\n",
       "  if (this.gl) {\n",
       "    this.translate[2] += factor * this.modelsize;\n",
       "    this.draw();\n",
       "  }\n",
       "\n",
       "  this.command('' + this.getTranslationString());\n",
       "  //this.command('zoom ' + factor);\n",
       "}\n",
       "\n",
       "Viewer.prototype.zoomClip = function(factor) {\n",
       "  if (this.gl) {\n",
       "     var near_clip = this.near_clip + factor * this.modelsize;\n",
       "     if (near_clip >= this.modelsize * 0.001)\n",
       "       this.near_clip = near_clip;\n",
       "    this.draw();\n",
       "  }\n",
       "\n",
       "  this.command('zoomclip ' + factor);\n",
       "}\n",
       "\n",
       "Viewer.prototype.updateDims = function(view) {\n",
       "  if (!view) return;\n",
       "  var oldsize = this.modelsize;\n",
       "  this.dims = [view.max[0] - view.min[0], view.max[1] - view.min[1], view.max[2] - view.min[2]];\n",
       "  this.modelsize = Math.sqrt(this.dims[0]*this.dims[0] + this.dims[1]*this.dims[1] + this.dims[2]*this.dims[2]);\n",
       "\n",
       "  this.focus = [view.min[0] + 0.5*this.dims[0], view.min[1] + 0.5*this.dims[1], view.min[2] + 0.5*this.dims[2]];\n",
       "  this.centre = [this.focus[0],this.focus[1],this.focus[2]];\n",
       "\n",
       "  this.translate = [0,0,0];\n",
       "  if (this.modelsize != oldsize) this.translate[2] = -this.modelsize*1.25;\n",
       "\n",
       "  if (this.near_clip == 0.0) this.near_clip = this.modelsize / 10.0;   \n",
       "  if (this.far_clip == 0.0) this.far_clip = this.modelsize * 10.0;\n",
       "\n",
       "  quat4.identity(this.rotate);\n",
       "\n",
       "  if (view) {\n",
       "    //Initial rotation\n",
       "    if (view.rotate) {\n",
       "      if (view.rotate.length == 3) {\n",
       "        this.rotateZ(-view.rotate[2]);\n",
       "        this.rotateY(-view.rotate[1]);\n",
       "        this.rotateX(-view.rotate[0]);\n",
       "      } else if (view.rotate.length == 4) {\n",
       "        this.rotate = quat4.create(view.rotate);\n",
       "      }\n",
       "    }\n",
       "\n",
       "    //Translate\n",
       "    if (view.translate) {\n",
       "      this.translate[0] = view.translate[0];\n",
       "      this.translate[1] = view.translate[1];\n",
       "      this.translate[2] = view.translate[2];\n",
       "    }\n",
       "\n",
       "    //Scale\n",
       "    if (view.scale) {\n",
       "      this.scale[0] = view.scale[0];\n",
       "      this.scale[1] = view.scale[1];\n",
       "      this.scale[2] = view.scale[2];\n",
       "    }\n",
       "\n",
       "    //Focal point\n",
       "    if (view.focus) {\n",
       "      this.focus[0] = this.centre[0] = view.focus[0];\n",
       "      this.focus[1] = this.centre[1] = view.focus[1];\n",
       "      this.focus[2] = this.centre[2] = view.focus[2];\n",
       "    }\n",
       "\n",
       "  }\n",
       "\n",
       "  //console.log(\"DIMS: \" + min[0] + \" to \" + max[0] + \",\" + min[1] + \" to \" + max[1] + \",\" + min[2] + \" to \" + max[2]);\n",
       "  //console.log(\"New model size: \" + this.modelsize + \", Focal point: \" + this.focus[0] + \",\" + this.focus[1] + \",\" + this.focus[2]);\n",
       "  //console.log(\"Translate: \" + this.translate[0] + \",\" + this.translate[1] + \",\" + this.translate[2]);\n",
       "\n",
       "  if (!this.gl) return;\n",
       " \n",
       "  //Create the bounding box vertex buffer\n",
       "  this.border.updateBuffers(this.vis.views[this.view]);\n",
       "}\n",
       "\n",
       "var kernel;\n",
       "//Maintain a list of interactor instances opened by id\n",
       "var instances = [];\n",
       "\n",
       "function initLoad() {\n",
       "  if (parent.IPython) {\n",
       "    kernel = parent.IPython.notebook.kernel;\n",
       "    //This ensures we have imported the lavavu module in notebook scope\n",
       "    //required for control event pass-back\n",
       "    //(NOTE: this looks a bit hacky because it is, but it seems kernel.execute loops only work as a one liners)\n",
       "    kernel.execute('lavavu = None if not \"lavavu\" in globals() else lavavu');\n",
       "    kernel.execute('import sys');\n",
       "    kernel.execute('modules = dict(sys.modules)');\n",
       "    kernel.execute('for m in modules: lavavu = modules[m].lavavu if \"lavavu\" in dir(modules[m]) else lavavu');\n",
       "  }\n",
       "}\n",
       "\n",
       "function getUrl() {\n",
       "  var loc = window.location;\n",
       "  var baseUrl = loc.protocol + \"//\" + loc.hostname + (loc.port ? \":\" + loc.port : \"\");\n",
       "  return baseUrl;\n",
       "}\n",
       "\n",
       "function do_action(id, val, element) {\n",
       "  //Get instance id from parent element, next level up or just use 0\n",
       "  //console.log(\"DO_ACTION \" + id + \" ( \" + val + \" ) \" + element.id);\n",
       "  var inst_id = element.parentElement.dataset.id;\n",
       "  if (inst_id == undefined)\n",
       "    inst_id = element.parentElement.parentElement.dataset.id;\n",
       "  if (inst_id == undefined)\n",
       "    inst_id = 0;\n",
       "  else\n",
       "    inst_id = parseInt(inst_id);\n",
       "\n",
       "  //if (inst_id-1 > instances.length) return;\n",
       "  if (inst_id+1 > instances.length) {console.log(\"Invalid ID for action instance: \" + (inst_id+1) + ' > ' + instances.length); return;}\n",
       "  if (!instances[inst_id]) {console.log(\"NO ACTION INSTANCE: [\" + inst_id + \"] \" + instances[inst_id]); return;}\n",
       "\n",
       "  //Call action on interactor which owns control\n",
       "  instances[inst_id].do_action(id, val);\n",
       "}\n",
       "\n",
       "function redisplay(id) {\n",
       "  //If instance doesn't exist yet, try again in 0.5 seconds... only seems to be needed in chrome\n",
       "  if (id+1 > instances.length || !instances[id] || instances[id].box === undefined) {\n",
       "    console.log(\"Delaying redisplay \" + id);\n",
       "    setTimeout(function() {redisplay(id);}, 500); \n",
       "    if (id+1 > instances.length) console.log(\" -- Invalid ID \" + (id+1) + ' > ' + instances.length);\n",
       "    else if (!instances[id]) console.log(\" -- No instance: [\" + id + \"] \" + instances[id]);\n",
       "    else if (!instances[id].box) console.log(\" -- No box viewer: [\" + id + \"] \" + instances[id]);\n",
       "    return;\n",
       "  }\n",
       "\n",
       "  //Call get_image\n",
       "  instances[id].get_image();\n",
       "    //Update the box size by getting state\n",
       "    var that = instances[id];\n",
       "    updateBox(that.box, function(onget) {that.get_state(onget);});\n",
       "}\n",
       "\n",
       "function WindowInteractor(id) {\n",
       "  //Always check for lavavu module loaded, in case IPython notebook has been reloaded\n",
       "  initLoad();\n",
       "  //Check instances list valid, wipe if adding initial interactor\n",
       "  if (!instances || id==0) instances = [];\n",
       "  //Store self in list and save id\n",
       "  this.id = id;\n",
       "  instances[id] = this;\n",
       "  \n",
       "  console.log(\"New interactor: \" + this.id + \" : \" + instances.length + \" :: \" + instances[this.id]);\n",
       "  //Interactor class, handles javascript side of window control\n",
       "  //Takes viewer id\n",
       "  // - set as active target for commands\n",
       "  // - init webgl bounding box\n",
       "  // - display initial image\n",
       "  this.img = document.getElementById(\"imgtarget_\" + this.id);\n",
       "\n",
       "  //No window\n",
       "  if (!this.img) return;\n",
       "\n",
       "  //Initial image\n",
       "  //(Init WebGL bounding box interaction on load)\n",
       "  var that = this;\n",
       "  this.get_image(function() {\n",
       "    //console.log('In image loaded callback 0');\n",
       "    //Init on image load with callback function to execute commands\n",
       "    that.box = initBox(that.img, function(cmd) {that.execute(cmd, true);});\n",
       "    //console.log(\"Box init on \" + that.id);\n",
       "    //Update the box size by getting state\n",
       "    updateBox(that.box, function(onget) {that.get_state(onget);});\n",
       "    //Clear onload\n",
       "    that.img.onload = null;\n",
       "  });\n",
       "}\n",
       "\n",
       "WindowInteractor.prototype.execute = function(cmd, instant) { //, viewer_id) {\n",
       "  //console.log(\"execute: \" + cmd);\n",
       "  if (kernel) {\n",
       "    kernel.execute('lavavu.control.windows[' + this.id + '].commands(\"' + cmd + '\")');\n",
       "    this.get_image();\n",
       "  } else {\n",
       "    //HTTP interface\n",
       "    //Replace newlines with semi-colon first\n",
       "    cmd = cmd.replace(/\\n/g,';');\n",
       "    if (instant && this.img) {\n",
       "      var url = getUrl() + \"/icommand=\" + cmd + \"?\" + new Date().getTime();\n",
       "      this.img.onload = null;\n",
       "      this.img.src = url;\n",
       "    } else {\n",
       "      var url = getUrl() + \"/command=\" + cmd + \"?\" + new Date().getTime()\n",
       "      x = new XMLHttpRequest();\n",
       "      x.open('GET', url, true);\n",
       "      x.send();\n",
       "      this.get_image();\n",
       "    }\n",
       "\n",
       "  }\n",
       "  return false;\n",
       "}\n",
       "\n",
       "WindowInteractor.prototype.set_prop = function(obj, prop, val) {\n",
       "  this.execute(\"select \" + obj + \"; \" + prop + \"=\" + val);\n",
       "  this.get_image();\n",
       "}\n",
       "\n",
       "WindowInteractor.prototype.do_action = function(id, val) {\n",
       "  if (kernel) {\n",
       "    //Non-numeric, add quotes and strip newlines\n",
       "    if (typeof(val) == 'string' && (\"\" + parseFloat(val) !== val)) {\n",
       "      val = val.replace(/\\n/g,';');\n",
       "      val = '\"' + val + '\"';\n",
       "    }\n",
       "    kernel.execute('cmds = lavavu.control.action(' + id + ',' + val + ')');\n",
       "    kernel.execute('if len(cmds): lavavu.control.windows[' + this.id + '].commands(cmds)');\n",
       "    /*/Debug callback\n",
       "    var callbacks = {'output' : function(out) {\n",
       "        if (!out.content.data) {alert(\"NO DATA\"); return;}\n",
       "        data = out.content.data['text/plain']\n",
       "          alert(\"RESULT: \" + data);\n",
       "      }\n",
       "    };*/\n",
       "    //kernel.execute('len(lavavu.control.actions)', {iopub: callbacks}, {silent: false});\n",
       "    //kernel.execute('str(lavavu.control.actions[' + id + '])', {iopub: callbacks}, {silent: false});\n",
       "    //kernel.execute('lavavu.control.action(' + id + ',' + val + ')', {iopub: callbacks}, {silent: false});\n",
       "    //kernel.execute('str(lavavu.control.actions[' + id + '][\"args\"][0])', {iopub: callbacks}, {silent: false});\n",
       "    //kernel.execute('cmds', {iopub: callbacks}, {silent: false});\n",
       "    this.get_image();\n",
       "  } else {\n",
       "    //HTML control actions via http\n",
       "    actions[id](val);\n",
       "  }\n",
       "\n",
       "  //Reload state\n",
       "  var that = this;\n",
       "  updateBox(this.box, function(onget) {that.get_state(onget);});\n",
       "}\n",
       "\n",
       "WindowInteractor.prototype.get_image = function(onload) {\n",
       "  //console.log(\"get_img: \" + this.id);\n",
       "  if (kernel) {\n",
       "    var that = this;\n",
       "    var callbacks = {'output' : function(out) {\n",
       "        //Skip first message we get without data\n",
       "        //if (!out.content.data) {console.log(JSON.stringify(out)); return;}\n",
       "        if (!out.content.data) return;\n",
       "        data = out.content.data['text/plain']\n",
       "        data = data.substring(1, data.length-1)\n",
       "        //console.log(\"Got image: \" + data.length);\n",
       "        if (that.img) {\n",
       "          that.img.onload = onload;\n",
       "          that.img.src = data;\n",
       "        }\n",
       "      }\n",
       "    };\n",
       "\n",
       "    kernel.execute('lavavu.control.windows[' + this.id + '].frame()', {iopub: callbacks}, {silent: false});\n",
       "  } else {\n",
       "    //if (!this.img) this.img = document.getElementById('imgtarget_0');\n",
       "    var url = getUrl() + \"/image?\" + new Date().getTime();\n",
       "    if (this.img) {\n",
       "      this.img.onload = onload;\n",
       "      this.img.src = url;\n",
       "    }\n",
       "  }\n",
       "}\n",
       "\n",
       "WindowInteractor.prototype.get_state = function(onget) {\n",
       "  //console.log(\"get_state: \" + this.id);\n",
       "  if (kernel) {\n",
       "    var callbacks = {'output' : function(out) {\n",
       "        if (!out.content.data) return;\n",
       "        data = out.content.data['text/plain']\n",
       "        data = data.replace(/(?:\\\\n)+/g, \"\");\n",
       "        data = data.substring(1, data.length-1)\n",
       "        onget(data);\n",
       "      }\n",
       "    };\n",
       "    kernel.execute('lavavu.control.windows[' + this.id + '].getState()', {iopub: callbacks}, {silent: false});\n",
       "  }\n",
       "  else {\n",
       "    var url = getUrl() + \"/getstate\"\n",
       "    x = new XMLHttpRequest();\n",
       "    x.onload = function() { \n",
       "      if(x.status == 200)\n",
       "        onget(x.response);\n",
       "      else  \n",
       "        console.log(\"Ajax Request Error: \" + url + \", returned status code \" + x.status + \" \" + x.statusText);\n",
       "    } \n",
       "    x.open('GET', url, true);\n",
       "    x.send();\n",
       "  }\n",
       "}\n",
       "\n",
       "\n",
       "</script>\n"
      ],
      "text/plain": [
       "<IPython.core.display.HTML object>"
      ]
     },
     "metadata": {},
     "output_type": "display_data"
    },
    {
     "data": {
      "text/html": [
       "<img src='data:image/png;base64,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'>"
      ],
      "text/plain": [
       "<IPython.core.display.HTML object>"
      ]
     },
     "metadata": {},
     "output_type": "display_data"
    }
   ],
   "source": [
    "fig = glucifer.Figure()\n",
    "fig.append( glucifer.objects.Surface(mesh, temperatureField) )\n",
    "fig.show()"
   ]
  },
  {
   "cell_type": "markdown",
   "metadata": {},
   "source": [
    "Create boundary conditions\n",
    "----------\n",
    "\n",
    "Set temperature boundary conditions on the bottom ( ``MinJ`` ) and top ( ``MaxJ`` )."
   ]
  },
  {
   "cell_type": "code",
   "execution_count": 18,
   "metadata": {
    "collapsed": true
   },
   "outputs": [],
   "source": [
    "for index in mesh.specialSets[\"MinJ_VertexSet\"]:\n",
    "    temperatureField.data[index] = tempMax\n",
    "for index in mesh.specialSets[\"MaxJ_VertexSet\"]:\n",
    "    temperatureField.data[index] = tempMin"
   ]
  },
  {
   "cell_type": "markdown",
   "metadata": {},
   "source": [
    "Construct sets for the both horizontal and vertical walls. Combine the sets of vertices to make the ``I`` (left and right side walls) and ``J`` (top and bottom walls) sets."
   ]
  },
  {
   "cell_type": "code",
   "execution_count": 19,
   "metadata": {
    "collapsed": true
   },
   "outputs": [],
   "source": [
    "iWalls = mesh.specialSets[\"MinI_VertexSet\"] + mesh.specialSets[\"MaxI_VertexSet\"]\n",
    "jWalls = mesh.specialSets[\"MinJ_VertexSet\"] + mesh.specialSets[\"MaxJ_VertexSet\"]\n",
    "\n",
    "freeslipBC = uw.conditions.DirichletCondition( variable        = velocityField, \n",
    "                                               indexSetsPerDof = (iWalls, jWalls) )\n",
    "tempBC     = uw.conditions.DirichletCondition( variable        = temperatureField, \n",
    "                                               indexSetsPerDof = (jWalls,) )"
   ]
  },
  {
   "cell_type": "markdown",
   "metadata": {},
   "source": [
    "System setup\n",
    "-----\n",
    "\n",
    "**Setup a Stokes system**\n"
   ]
  },
  {
   "cell_type": "code",
   "execution_count": 20,
   "metadata": {
    "collapsed": true
   },
   "outputs": [],
   "source": [
    "stokes = uw.systems.Stokes(    velocityField = velocityField, \n",
    "                               pressureField = pressureField,\n",
    "                               conditions    = [freeslipBC,],\n",
    "                               fn_viscosity  = viscosity, \n",
    "                               fn_bodyforce  = buoyancyFn )\n",
    "# get the default stokes equation solver\n",
    "solver = uw.systems.Solver( stokes )"
   ]
  },
  {
   "cell_type": "markdown",
   "metadata": {},
   "source": [
    "**Create an advection diffusion system**\n"
   ]
  },
  {
   "cell_type": "code",
   "execution_count": 21,
   "metadata": {
    "collapsed": true
   },
   "outputs": [],
   "source": [
    "advDiff = uw.systems.AdvectionDiffusion( phiField       = temperatureField, \n",
    "                                         phiDotField    = temperatureDotField, \n",
    "                                         velocityField  = velocityField, \n",
    "                                         fn_diffusivity = thermalDiffusion, \n",
    "                                         conditions     = [tempBC,] )"
   ]
  },
  {
   "cell_type": "markdown",
   "metadata": {},
   "source": [
    "Analysis tools\n",
    "-----"
   ]
  },
  {
   "cell_type": "markdown",
   "metadata": {
    "collapsed": true
   },
   "source": [
    "**Nusselt number**\n",
    "\n",
    "The Nusselt number is the ratio between convective and conductive heat transfer\n",
    "\n",
    "\\\\[\n",
    "Nu = -h \\frac{ \\int_0^l \\partial_z T (x, z=h) dx}{ \\int_0^l T (x, z=0) dx}\n",
    "\\\\]\n",
    "\n",
    "\n",
    "\n"
   ]
  },
  {
   "cell_type": "code",
   "execution_count": 22,
   "metadata": {
    "collapsed": false
   },
   "outputs": [],
   "source": [
    "nuTop    = uw.utils.Integral( fn=temperatureField.fn_gradient[1], \n",
    "                              mesh=mesh, integrationType='Surface', \n",
    "                              surfaceIndexSet=mesh.specialSets[\"MaxJ_VertexSet\"])\n",
    "\n",
    "nuBottom = uw.utils.Integral( fn=temperatureField - tempMin,               \n",
    "                              mesh=mesh, integrationType='Surface', \n",
    "                              surfaceIndexSet=mesh.specialSets[\"MinJ_VertexSet\"])"
   ]
  },
  {
   "cell_type": "code",
   "execution_count": 23,
   "metadata": {
    "collapsed": false
   },
   "outputs": [
    {
     "name": "stdout",
     "output_type": "stream",
     "text": [
      "Nusselt number = 1.000000\n"
     ]
    }
   ],
   "source": [
    "nu = - boxHeight * nuTop.evaluate()[0]/nuBottom.evaluate()[0]\n",
    "print('Nusselt number = {0:.6f}'.format(nu))"
   ]
  },
  {
   "cell_type": "markdown",
   "metadata": {},
   "source": [
    "**RMS velocity**\n",
    "\n",
    "The root mean squared velocity is defined by intergrating over the entire simulation domain via\n",
    "\n",
    "\\\\[\n",
    "\\begin{aligned}\n",
    "v_{rms}  =  \\sqrt{ \\frac{ \\int_V (\\mathbf{v}.\\mathbf{v}) dV } {\\int_V dV} }\n",
    "\\end{aligned}\n",
    "\\\\]\n",
    "\n",
    "where $V$ denotes the volume of the box."
   ]
  },
  {
   "cell_type": "code",
   "execution_count": 24,
   "metadata": {
    "collapsed": false
   },
   "outputs": [
    {
     "name": "stdout",
     "output_type": "stream",
     "text": [
      "Initial vrms = 0.000\n"
     ]
    }
   ],
   "source": [
    "intVdotV = uw.utils.Integral( fn.math.dot( velocityField, velocityField ), mesh )\n",
    "\n",
    "vrms = boxHeight / thermalDiffusion * math.sqrt( boxHeight / (boxHeight * boxLength) * intVdotV.evaluate()[0] )\n",
    "print('Initial vrms = {0:.3f}'.format(vrms))"
   ]
  },
  {
   "cell_type": "markdown",
   "metadata": {},
   "source": [
    "Main simulation loop\n",
    "-----"
   ]
  },
  {
   "cell_type": "markdown",
   "metadata": {},
   "source": [
    "If the initial conditions are loaded from file then this loop will only take a single step. If you would like to run the entire simulation from a small perturbation then change the ``LoadFromFile`` variable above to equal ``False``. Warning: the simulation will take a long time to get to steady state."
   ]
  },
  {
   "cell_type": "code",
   "execution_count": 25,
   "metadata": {
    "collapsed": true
   },
   "outputs": [],
   "source": [
    "#initialise time, step, output arrays\n",
    "time = 0.\n",
    "step = 0\n",
    "timeVal = []\n",
    "vrmsVal = []\n",
    "\n",
    "# starting from steady state == True\n",
    "if(LoadFromFile == True):\n",
    "    step_end = 1\n",
    "else:\n",
    "    step_end = 5000\n",
    "\n",
    "# output frequency\n",
    "step_output = max(1,min(100, step_end/10))\n",
    "epsilon    = 1.e-8\n",
    "\n",
    "velplotmax = 0.0\n",
    "nuLast     = -1.0"
   ]
  },
  {
   "cell_type": "code",
   "execution_count": 26,
   "metadata": {
    "collapsed": false
   },
   "outputs": [],
   "source": [
    "# define an update function\n",
    "def update():\n",
    "    # Determining the maximum timestep for advancing the a-d system.\n",
    "    dt = advDiff.get_max_dt()\n",
    "    # Advect using this timestep size. \n",
    "    advDiff.integrate(dt)\n",
    "    return time+dt, step+1"
   ]
  },
  {
   "cell_type": "code",
   "execution_count": 27,
   "metadata": {
    "collapsed": false
   },
   "outputs": [
    {
     "name": "stdout",
     "output_type": "stream",
     "text": [
      "steps =      0; time = 0.000e+00; v_rms = 17.899; Nu = 1.000; Rel change = 2.000e+00\n",
      "steps =     50; time = 5.881e-03; v_rms = 59.163; Nu = 1.642; Rel change = 1.707e-02\n",
      "steps =    100; time = 9.550e-03; v_rms = 84.441; Nu = 3.874; Rel change = 1.491e-02\n",
      "steps =    150; time = 1.276e-02; v_rms = 75.248; Nu = 6.527; Rel change = 5.836e-03\n",
      "steps =    200; time = 1.661e-02; v_rms = 50.758; Nu = 7.178; Rel change = 1.391e-03\n",
      "steps =    250; time = 2.217e-02; v_rms = 31.025; Nu = 5.943; Rel change = 5.075e-03\n",
      "steps =    300; time = 2.828e-02; v_rms = 24.925; Nu = 4.675; Rel change = 4.297e-03\n",
      "steps =    350; time = 3.438e-02; v_rms = 26.421; Nu = 3.932; Rel change = 2.567e-03\n",
      "steps =    400; time = 4.048e-02; v_rms = 33.302; Nu = 3.673; Rel change = 6.008e-05\n",
      "steps =    450; time = 4.651e-02; v_rms = 43.571; Nu = 3.952; Rel change = 2.701e-03\n",
      "steps =    500; time = 5.174e-02; v_rms = 50.362; Nu = 4.608; Rel change = 3.022e-03\n",
      "steps =    550; time = 5.658e-02; v_rms = 50.648; Nu = 5.194; Rel change = 1.632e-03\n",
      "steps =    600; time = 6.157e-02; v_rms = 46.424; Nu = 5.393; Rel change = 5.932e-05\n",
      "steps =    650; time = 6.703e-02; v_rms = 41.629; Nu = 5.208; Rel change = 1.167e-03\n",
      "steps =    700; time = 7.294e-02; v_rms = 39.186; Nu = 4.880; Rel change = 1.264e-03\n",
      "steps =    750; time = 7.901e-02; v_rms = 39.654; Nu = 4.654; Rel change = 5.706e-04\n",
      "steps =    800; time = 8.492e-02; v_rms = 41.773; Nu = 4.620; Rel change = 2.245e-04\n",
      "steps =    850; time = 9.057e-02; v_rms = 43.792; Nu = 4.729; Rel change = 6.120e-04\n",
      "steps =    900; time = 9.604e-02; v_rms = 44.604; Nu = 4.872; Rel change = 5.224e-04\n",
      "steps =    950; time = 1.015e-01; v_rms = 44.158; Nu = 4.960; Rel change = 1.762e-04\n",
      "steps =   1000; time = 1.070e-01; v_rms = 43.131; Nu = 4.959; Rel change = 1.501e-04\n",
      "steps =   1050; time = 1.126e-01; v_rms = 42.302; Nu = 4.901; Rel change = 2.831e-04\n",
      "steps =   1100; time = 1.183e-01; v_rms = 42.071; Nu = 4.838; Rel change = 2.105e-04\n",
      "steps =   1150; time = 1.240e-01; v_rms = 42.365; Nu = 4.807; Rel change = 4.218e-05\n",
      "steps =   1200; time = 1.297e-01; v_rms = 42.839; Nu = 4.815; Rel change = 9.284e-05\n",
      "steps =   1250; time = 1.353e-01; v_rms = 43.166; Nu = 4.844; Rel change = 1.293e-04\n",
      "steps =   1300; time = 1.409e-01; v_rms = 43.210; Nu = 4.871; Rel change = 8.062e-05\n",
      "steps =   1350; time = 1.465e-01; v_rms = 43.043; Nu = 4.881; Rel change = 3.237e-06\n",
      "steps =   1400; time = 1.521e-01; v_rms = 42.830; Nu = 4.874; Rel change = 4.976e-05\n",
      "steps =   1450; time = 1.577e-01; v_rms = 42.708; Nu = 4.860; Rel change = 5.674e-05\n",
      "steps =   1500; time = 1.634e-01; v_rms = 42.714; Nu = 4.849; Rel change = 2.926e-05\n",
      "steps =   1550; time = 1.690e-01; v_rms = 42.801; Nu = 4.847; Rel change = 5.451e-06\n",
      "steps =   1600; time = 1.746e-01; v_rms = 42.893; Nu = 4.851; Rel change = 2.529e-05\n",
      "steps =   1650; time = 1.802e-01; v_rms = 42.936; Nu = 4.857; Rel change = 2.412e-05\n",
      "steps =   1700; time = 1.859e-01; v_rms = 42.923; Nu = 4.862; Rel change = 9.748e-06\n",
      "steps =   1750; time = 1.915e-01; v_rms = 42.879; Nu = 4.862; Rel change = 5.245e-06\n",
      "steps =   1800; time = 1.971e-01; v_rms = 42.841; Nu = 4.860; Rel change = 1.219e-05\n",
      "steps =   1850; time = 2.027e-01; v_rms = 42.827; Nu = 4.857; Rel change = 9.902e-06\n",
      "steps =   1900; time = 2.083e-01; v_rms = 42.838; Nu = 4.855; Rel change = 2.796e-06\n",
      "steps =   1950; time = 2.140e-01; v_rms = 42.858; Nu = 4.855; Rel change = 3.478e-06\n",
      "steps =   2000; time = 2.196e-01; v_rms = 42.874; Nu = 4.857; Rel change = 5.659e-06\n",
      "steps =   2050; time = 2.252e-01; v_rms = 42.877; Nu = 4.858; Rel change = 3.906e-06\n",
      "steps =   2100; time = 2.308e-01; v_rms = 42.871; Nu = 4.858; Rel change = 5.442e-07\n",
      "steps =   2150; time = 2.365e-01; v_rms = 42.862; Nu = 4.858; Rel change = 1.984e-06\n",
      "steps =   2200; time = 2.421e-01; v_rms = 42.856; Nu = 4.858; Rel change = 2.535e-06\n",
      "steps =   2250; time = 2.477e-01; v_rms = 42.855; Nu = 4.857; Rel change = 1.468e-06\n",
      "steps =   2300; time = 2.533e-01; v_rms = 42.859; Nu = 4.857; Rel change = 6.574e-08\n",
      "steps =   2350; time = 2.589e-01; v_rms = 42.863; Nu = 4.857; Rel change = 1.042e-06\n",
      "steps =   2400; time = 2.646e-01; v_rms = 42.865; Nu = 4.857; Rel change = 1.099e-06\n",
      "steps =   2450; time = 2.702e-01; v_rms = 42.865; Nu = 4.858; Rel change = 5.162e-07\n",
      "steps =   2486; time = 2.742e-01; v_rms = 42.863; Nu = 4.858; Rel change = 9.493e-09\n"
     ]
    }
   ],
   "source": [
    "# Perform steps.\n",
    "while step<=step_end:\n",
    "    # Solving the Stokes system.\n",
    "    solver.solve()\n",
    "    \n",
    "    # Calculate & store the RMS velocity and Nusselt number.\n",
    "    vrms = math.sqrt( intVdotV.evaluate()[0] )\n",
    "    nu   = - nuTop.evaluate()[0]/nuBottom.evaluate()[0]\n",
    "    vrmsVal.append(vrms)\n",
    "    timeVal.append(time)\n",
    "    velplotmax = max(vrms, velplotmax)\n",
    "\n",
    "    # print output statistics \n",
    "    if step%(step_end/step_output) == 0:\n",
    "        if(uw.rank()==0):\n",
    "            print('steps = {0:6d}; time = {1:.3e}; v_rms = {2:.3f}; Nu = {3:.3f}; Rel change = {4:.3e}'\n",
    "              .format(step, time, vrms, nu, abs((nu - nuLast)/nu)))\n",
    "    # Check loop break conditions.\n",
    "    if(abs((nu - nuLast)/nu) < epsilon):\n",
    "        if(uw.rank()==0):\n",
    "            print('steps = {0:6d}; time = {1:.3e}; v_rms = {2:.3f}; Nu = {3:.3f}; Rel change = {4:.3e}'\n",
    "              .format(step, time, vrms, nu, abs((nu - nuLast)/nu)))\n",
    "        break\n",
    "    nuLast = nu\n",
    "    \n",
    "    # update\n",
    "    time, step = update()"
   ]
  },
  {
   "cell_type": "code",
   "execution_count": 28,
   "metadata": {
    "collapsed": false
   },
   "outputs": [
    {
     "data": {
      "text/html": [
       "<img src='data:image/png;base64,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'>"
      ],
      "text/plain": [
       "<IPython.core.display.HTML object>"
      ]
     },
     "metadata": {},
     "output_type": "display_data"
    }
   ],
   "source": [
    "fig.show()"
   ]
  },
  {
   "cell_type": "markdown",
   "metadata": {},
   "source": [
    "Post analysis\n",
    "-----\n",
    "\n",
    "**Benchmark values**\n",
    "\n",
    "The time loop above outputs $v_{rms}$ and $Nu$ as general statistics for the system. For comparison, the benchmark values for the RMS velocity and Nusselt number are shown below for different Rayleigh numbers. All benchmark values shown below were determined in Blankenbach *et al.* 1989 by extroplation of numerical results. \n",
    "\n",
    "\n",
    "| $Ra$          | $v_{rms}$   | $Nu$  |   $q_1$  | $q_2$  |\n",
    "| ------------- |:-------------:|:-----:|:-----:|:-----:|\n",
    "| 10$^4$ | 42.865 |  4.884 | 8.059 | 0.589 |\n",
    "| 10$^5$ | 193.215 | 10.535 | 19.079 | 0.723 |\n",
    "| 10$^6$ | 833.990 | 21.972 | 45.964 | 0.877 |\n",
    "\n",
    "\n",
    "For practicality, quick tests can be run to see that the results are close enough. Tests run using underworld gave\n",
    "\n",
    "| $Ra$          | $v_{rms}$   | $Nu$  |\n",
    "| ------------- |:-------------:|:-----:|\n",
    "| 10$^4$ | 42.858 |  4.848 |\n",
    "| 10$^5$ | 193.449 | 10.248 |\n",
    "| 10$^6$ | 844.218 | 19.660 |\n"
   ]
  },
  {
   "cell_type": "markdown",
   "metadata": {},
   "source": [
    "**Resulting pressure field**\n",
    "\n",
    "Use the same method as above to plot the new temperature field. This can also be used to plot the pressure field, or any other data structures of interest."
   ]
  },
  {
   "cell_type": "code",
   "execution_count": null,
   "metadata": {
    "collapsed": true
   },
   "outputs": [],
   "source": [
    "figtemp = glucifer.Figure()\n",
    "figtemp.append( glucifer.objects.Surface( mesh, pressureField ) )\n",
    "figtemp.show()"
   ]
  },
  {
   "cell_type": "markdown",
   "metadata": {},
   "source": [
    "**Plot the velocity vector field**\n",
    "\n",
    "For this example the velocity field is interesting to see. This is visualised in two ways, firstly plotting a surface colour map of the velocity magnitude, and secondly the velocity vectors at points on the mesh. For aesthetics the vector arrows are scaled by a little more than the maximum $v_{rms}$ value found in the time loop above."
   ]
  },
  {
   "cell_type": "code",
   "execution_count": null,
   "metadata": {
    "collapsed": true
   },
   "outputs": [],
   "source": [
    "fig2 = glucifer.Figure()\n",
    "velmagfield = uw.function.math.sqrt( uw.function.math.dot( velocityField, velocityField ) )\n",
    "fig2.append( glucifer.objects.VectorArrows(mesh, velocityField/(2.5*velplotmax), arrowHead=0.2, scaling=0.1) )\n",
    "fig2.append( glucifer.objects.Surface(mesh, temperatureField) )\n",
    "fig2.show()"
   ]
  },
  {
   "cell_type": "markdown",
   "metadata": {},
   "source": [
    "Parallel friendly post analysis\n",
    "----\n",
    "\n",
    "When running underworld in parallel the data of each mesh variable is spread across all the processors. However often we will want to calculate a quantity based on data at specific points that may not all be on the same processor.\n",
    "\n",
    "A solution is presented here which consists of saving the data from all processors to file, then reloading the mesh variable data using a new non-partitioned mesh. This enables all the data to be available to each processor. We will the carry out the post analysis using the first processor."
   ]
  },
  {
   "cell_type": "markdown",
   "metadata": {},
   "source": [
    "**Save temperature, pressure and velocity data**\n",
    "\n",
    "Save the basic mesh variable data to files using the HDF5 format. This is the same file type as is loaded above."
   ]
  },
  {
   "cell_type": "code",
   "execution_count": null,
   "metadata": {
    "collapsed": true
   },
   "outputs": [],
   "source": [
    "mesh.save(outputPath+\"mesh.h5\")\n",
    "temperatureField.save(outputPath+'tempfield.h5')\n",
    "pressureField.save(outputPath+'presfield.h5')\n",
    "velocityField.save(outputPath+'velfield.h5')"
   ]
  },
  {
   "cell_type": "markdown",
   "metadata": {},
   "source": [
    "**Construct new mesh and variable on non-partitioned mesh**\n",
    "\n",
    "Read saved mesh variable data into a new mesh variable where the information is not partitioned across multiple processors. This means that we can use a single processor to access all the data and calculate some quantities of interest."
   ]
  },
  {
   "cell_type": "code",
   "execution_count": null,
   "metadata": {
    "collapsed": true
   },
   "outputs": [],
   "source": [
    "# build a non-partitioned mesh with same box size\n",
    "mesh0 = uw.mesh.FeMesh_Cartesian( elementType = (\"Q1/dQ0\"), \n",
    "                                  elementRes  = (res, res), \n",
    "                                  minCoord    = (0., 0.), \n",
    "                                  maxCoord    = (boxLength, boxHeight),\n",
    "                                  partitioned = False ) \n",
    "# load previous mesh coordinate data onto new non-partitioned mesh\n",
    "mesh0.load(outputPath+'mesh.h5')\n",
    "\n",
    "# load T, P and V data onto the new mesh\n",
    "# note that pressure is always on the submesh\n",
    "temperatureField0  = uw.mesh.MeshVariable( mesh=mesh0, nodeDofCount=1 ) \n",
    "pressureField0     = uw.mesh.MeshVariable( mesh=mesh0.subMesh, nodeDofCount=1 ) \n",
    "velocityField0     = uw.mesh.MeshVariable( mesh=mesh0, nodeDofCount=2 ) \n",
    "temperatureField0.load(outputPath+\"tempfield.h5\")\n",
    "pressureField0.load(outputPath+\"presfield.h5\")\n",
    "velocityField0.load(outputPath+\"velfield.h5\")"
   ]
  },
  {
   "cell_type": "markdown",
   "metadata": {},
   "source": [
    "**Temperature gradient**\n",
    "\n",
    "The final benchmarks in the Blankenbach paper involve the temperature gradient in the vertical direction ($\\frac{\\partial T}{\\partial z}$). This is easy to find using the underworld functions, as shown below.\n"
   ]
  },
  {
   "cell_type": "code",
   "execution_count": null,
   "metadata": {
    "collapsed": true
   },
   "outputs": [],
   "source": [
    "if(uw.rank()==0):\n",
    "    tempgradField = temperatureField0.fn_gradient\n",
    "    vertTGradField = - boxHeight * tempgradField[1] / tempMax # scaled for direct benchmarking below"
   ]
  },
  {
   "cell_type": "markdown",
   "metadata": {},
   "source": [
    "**More benchmark values**\n",
    "\n",
    "\n",
    "The vertical temperature gradient (above) is set up to be non-dimensional as per Blankenbach et al 1989. To compare to the benchmark values in their work the gradient is compared at the corners of the simulation box: $q_1$ at $x = 0$, $z = h$; $q_2$ at $x = l$, $z = h$; $q_3$ at $x = l$, $z = 0$; $q_4$ at $x = 0$, $z = 0$. Where $h$ = Box_Height and $l$ = Box_Length and the non-dimensional gradient field is given by\n",
    "\\\\[\n",
    "q = \\frac{-h}{\\Delta T} \\left( \\frac{\\partial T}{\\partial z} \\right)\n",
    "\\\\]\n",
    "\n",
    "Provided the simulation is run to steady-state with sufficent resolution then the $q$ values should be close to the benchmark values given again below for different Rayleigh numbers.\n",
    "\n",
    "| $Ra$          |    $q_1$  | $q_2$  |\n",
    "| ------------- |:-----:|:-----:|\n",
    "| 10$^4$ | 8.059 | 0.589 |\n",
    "| 10$^5$ | 19.079 | 0.723 |\n",
    "| 10$^6$ | 45.964 | 0.877 |\n",
    "\n",
    "The underworld values for $128\\times128$ close to convergence are\n",
    "\n",
    "| $Ra$          |    $q_1$  | $q_2$  |\n",
    "| ------------- |:-----:|:-----:|\n",
    "| 10$^4$ | 8.020 | 0.589 |\n",
    "| 10$^5$ | 18.409 | 0.719 |\n",
    "| 10$^6$ | 36.769 | 0.831 |\n"
   ]
  },
  {
   "cell_type": "code",
   "execution_count": null,
   "metadata": {
    "collapsed": true
   },
   "outputs": [],
   "source": [
    "if(uw.rank()==0):\n",
    "    q1 = vertTGradField.evaluate( (0., boxHeight))[0][0]\n",
    "    q2 = vertTGradField.evaluate( (boxLength, boxHeight))[0][0]\n",
    "    q3 = vertTGradField.evaluate( (boxLength, 0.))[0][0]\n",
    "    q4 = vertTGradField.evaluate( (0., 0.))[0][0]\n",
    "\n",
    "    print('Rayleigh number = {0:.1e}'.format(Ra))\n",
    "    print('q1 = {0:.3f}; q2 = {1:.3f}'.format(q1, q2))\n",
    "    print('q3 = {0:.3f}; q4 = {1:.3f}'.format(q3, q4))"
   ]
  },
  {
   "cell_type": "markdown",
   "metadata": {},
   "source": [
    "**Save time and rms values**\n",
    "\n",
    "The following command uses the ``numpy`` package save to text file function to output all $v_{RMS}$ values as a function of time. This is particularly useful if you have run the simulation from the perturbed initial condition rather than the saved data file, as you can see the system coming to steady state.\n",
    "\n",
    "The format for this text file is:\n",
    "\n",
    "    timeVal[0], vrmsVal[0]\n",
    "    timeVal[1], vrmsVal[1]\n",
    "    ...\n",
    "    timeVal[N], vrmsVal[N]"
   ]
  },
  {
   "cell_type": "code",
   "execution_count": null,
   "metadata": {
    "collapsed": true
   },
   "outputs": [],
   "source": [
    "if(uw.rank()==0):\n",
    "    np.savetxt(outputPath+'vrms.txt', np.c_[timeVal, vrmsVal], header=\"Time, VRMS\" )"
   ]
  },
  {
   "cell_type": "markdown",
   "metadata": {},
   "source": [
    "**Calculate stress values for benchmark comparison**\n",
    "\n",
    "\n",
    "Determine stress field for whole box in dimensionless units (King 2009)\n",
    "\\begin{equation}\n",
    "\\tau_{ij} = \\eta \\frac{1}{2} \\left[ \\frac{\\partial v_j}{\\partial x_i} + \\frac{\\partial v_i}{\\partial x_j}\\right]\n",
    "\\end{equation}\n",
    "which for vertical normal stress becomes\n",
    "\\begin{equation}\n",
    "\\tau_{zz} = \\eta \\frac{1}{2} \\left[ \\frac{\\partial v_z}{\\partial z} + \\frac{\\partial v_z}{\\partial z}\\right] = \\eta \\frac{\\partial v_z}{\\partial z}\n",
    "\\end{equation}\n",
    "which is implemented for the whole box in the functions defined below."
   ]
  },
  {
   "cell_type": "code",
   "execution_count": null,
   "metadata": {
    "collapsed": true
   },
   "outputs": [],
   "source": [
    "# get topography from non-partitioned stress tensor\n",
    "if(uw.rank()==0):\n",
    "    stresstensorFn = 2.* stokes.fn_viscosity*fn.tensor.symmetric( velocityField0.fn_gradient ) - (1.,1.,0.)*pressureField0\n",
    "    verticalStressFn  = stresstensorFn[1]\n",
    "    stress_zz_top     = -verticalStressFn.evaluate(mesh0.specialSets[\"MaxJ_VertexSet\"])\n",
    "\n",
    "# subtract the average value for benchmark.\n",
    "    mean_sigma_zz_top = np.mean(stress_zz_top)\n",
    "    sigma_zz_top      = stress_zz_top - mean_sigma_zz_top"
   ]
  },
  {
   "cell_type": "markdown",
   "metadata": {},
   "source": [
    "Dimensionalise the stress from the vertical normal stress at the top of the box (King 2009)\n",
    "\n",
    "$$\n",
    "    \\sigma_{t} = \\frac{\\eta_0 \\kappa}{\\rho g h^2}\\tau _{zz} \\left( x, z=h\\right)\n",
    "$$\n",
    "\n",
    "where all constants have been defined above. Finally calculate the topography, defined using $h = \\sigma_{top} / (\\rho g)$."
   ]
  },
  {
   "cell_type": "code",
   "execution_count": null,
   "metadata": {
    "collapsed": true
   },
   "outputs": [],
   "source": [
    "# Set parameters in SI units\n",
    "if(uw.rank()==0):\n",
    "    grav = 10        # m.s^-2\n",
    "    height = 1.e6    # m \n",
    "    rho  = 4.0e3     # g.m^-3\n",
    "    kappa  = 1.0e-6  # m^2.s^-1\n",
    "\n",
    "# dimensionalise \n",
    "    dim_sigma_zz_top  = (eta0 * kappa / (height*height)) * sigma_zz_top\n",
    "\n",
    "# find topography in [m]\n",
    "    topography        = dim_sigma_zz_top / (rho * grav) "
   ]
  },
  {
   "cell_type": "markdown",
   "metadata": {},
   "source": [
    "**Calculate x-coordinate at zero stress**\n",
    "\n",
    "Calculate the zero point for the stress along the x-axis at the top of the box using the **interpolation function** from ``numpy``. Note that ``numpy`` requires that the first array input for ``np.interp`` must be increasing, so the negative of the topography is used."
   ]
  },
  {
   "cell_type": "code",
   "execution_count": null,
   "metadata": {
    "collapsed": true
   },
   "outputs": [],
   "source": [
    "if(uw.rank()==0):\n",
    "    xCoordFn = fn.input()[0]\n",
    "    x = xCoordFn.evaluate(mesh0.specialSets[\"MinJ_VertexSet\"])\n",
    "    xIntercept = np.interp(0.0,-1.0*topography[:, 0],x[:, 0])"
   ]
  },
  {
   "cell_type": "markdown",
   "metadata": {},
   "source": [
    "**Topography comparison**\n",
    "\n",
    "Topography of the top boundary calculated in the left and right corners as given in Table 9 of Blankenbach et al 1989.\n",
    "\n",
    "| $Ra$          |    $\\xi_1$  | $\\xi_2$  |  $x$ ($\\xi = 0$) |\n",
    "| ------------- |:-----------:|:--------:|:--------------:|\n",
    "| 10$^4$  | 2254.02   | -2903.23  | 0.539372          |\n",
    "| 10$^5$  | 1460.99   | -2004.20  | 0.529330          |\n",
    "| 10$^6$  | 931.96   | -1283.80  | 0.506490          |\n",
    "\n",
    "Underworld values for an \"almost\" converged $128\\times128$ benchmark run\n",
    "\n",
    "| $Ra$          |    $\\xi_1$  | $\\xi_2$  |  $x$ ($\\xi = 0$) |\n",
    "| ------------- |:-----------:|:--------:|:--------------:|\n",
    "| 10$^4$  | 2243.93   | -2909.12  | 0.540373          |\n",
    "| 10$^5$  | 1451.52   | -2005.83  | 0.530246          |\n",
    "| 10$^6$  | 911.30    | -1282.47  | 0.509696          |\n"
   ]
  },
  {
   "cell_type": "code",
   "execution_count": null,
   "metadata": {
    "collapsed": true
   },
   "outputs": [],
   "source": [
    "if(uw.rank()==0):\n",
    "    e1 = float(topography[0])\n",
    "    e2 = float(topography[len(topography)-1])\n",
    "    print('Rayleigh number = {0:.1e}'.format(Ra))\n",
    "    print('Topography[x=0],[x=max] = {0:.2f}, {1:.2f}'.format(e1, e2))\n",
    "    print('x(topo=0) = {0:.6f}'.format(xIntercept))\n",
    "    # output a summary file with benchmark values (useful for parallel runs)\n",
    "    np.savetxt(outputPath+'summary.txt', [Ra, e1, e2, xIntercept, q1, q2, q3, q4])"
   ]
  }
 ],
 "metadata": {
  "kernelspec": {
   "display_name": "Python 2",
   "language": "python2",
   "name": "python2"
  },
  "language_info": {
   "codemirror_mode": {
    "name": "ipython",
    "version": 2
   },
   "file_extension": ".py",
   "mimetype": "text/x-python",
   "name": "python",
   "nbconvert_exporter": "python",
   "pygments_lexer": "ipython2",
   "version": "2.7.13"
  }
 },
 "nbformat": 4,
 "nbformat_minor": 0
}
