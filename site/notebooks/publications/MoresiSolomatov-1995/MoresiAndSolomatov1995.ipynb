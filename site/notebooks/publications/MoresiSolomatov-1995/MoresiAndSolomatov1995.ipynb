{
 "cells": [
  {
   "cell_type": "markdown",
   "metadata": {},
   "source": [
    "Benchmark: Moresi and Solomatov 1995\n",
    "=======\n",
    "\n",
    "Stagnant lid convection model\n",
    "------\n",
    "\n",
    "**This example covers the concepts of:**\n",
    "1. Changing rheologies, specifically temperature dependent viscosity function.\n",
    "2. Stokes solver options.\n",
    "3. Saving and loading FE variables.\n",
    "\n",
    "**Keywords:** particle swarms, Stokes system, advective diffusive systems\n",
    "\n",
    "**References**\n",
    "\n",
    "Moresi, L. N., and V. S. Solomatov (1995), Numerical investigation of 2d convection with extremely large viscosity variations, Phys. Fluids, 7, 2154–2162.\n",
    "\n",
    "<!--\n",
    "1. Louis Moresi and Viatcheslav Solomatov, Mantle convection with a brittle lithosphere: thoughts on the global tectonic styles of the Earth and Venus. Geophys. J. Int. (1998) 133 (3): 669-682.  \n",
    "http://gji.oxfordjournals.org/content/133/3/669.short\n",
    "--> \n"
   ]
  },
  {
   "cell_type": "code",
   "execution_count": 21,
   "metadata": {},
   "outputs": [],
   "source": [
    "%matplotlib inline\n",
    "import matplotlib.pyplot as pyplot\n",
    "import matplotlib.pylab as pylab\n",
    "import numpy as np\n",
    "import underworld as uw\n",
    "import math\n",
    "from underworld import function as fn\n",
    "import glucifer\n",
    "import time"
   ]
  },
  {
   "cell_type": "markdown",
   "metadata": {},
   "source": [
    "Setup parameters\n",
    "-----\n"
   ]
  },
  {
   "cell_type": "code",
   "execution_count": 22,
   "metadata": {},
   "outputs": [],
   "source": [
    "dim = 2\n",
    "boxLength = 1.0\n",
    "boxHeight = 1.0\n",
    "tempMin = 0.0\n",
    "tempMax = 1.0\n",
    "# Set the resolution.\n",
    "res = 32\n",
    "# Set the Rayleigh number.\n",
    "Ra=1.e6"
   ]
  },
  {
   "cell_type": "markdown",
   "metadata": {},
   "source": [
    "**Input/output paths**\n",
    "\n",
    "Set input and output file directory paths. For this example the input directory contains near steady state snapshots of the velocity, pressure and temperature fields. It also constains a summary of the Nusselt and $v_{RMS}$ values against time from the simulation used to make these snapshots."
   ]
  },
  {
   "cell_type": "code",
   "execution_count": 23,
   "metadata": {},
   "outputs": [],
   "source": [
    "inputPath  = 'MandS_Input/'\n",
    "outputPath = 'MandS_Output/'\n",
    "# Make output directory if necessary\n",
    "import os\n",
    "if not os.path.exists(outputPath):\n",
    "    os.makedirs(outputPath)"
   ]
  },
  {
   "cell_type": "markdown",
   "metadata": {},
   "source": [
    "Create mesh and finite element variables\n",
    "------\n",
    "\n",
    "In this case the mesh type used is different. For more information on the different mesh types see the user guide."
   ]
  },
  {
   "cell_type": "code",
   "execution_count": 24,
   "metadata": {},
   "outputs": [],
   "source": [
    "mesh = uw.mesh.FeMesh_Cartesian( elementType = (\"Q2/dPc1\"), \n",
    "                                 elementRes  = (res, res), \n",
    "                                 minCoord    = (0., 0.), \n",
    "                                 maxCoord    = (boxLength, boxHeight) )\n",
    " \n",
    "velocityField    = uw.mesh.MeshVariable( mesh=mesh,    nodeDofCount=dim )\n",
    "pressureField    = uw.mesh.MeshVariable( mesh=mesh.subMesh,    nodeDofCount=1 )\n",
    "temperatureField = uw.mesh.MeshVariable( mesh=mesh, nodeDofCount=1 )\n",
    "tempDotField     = uw.mesh.MeshVariable( mesh=mesh, nodeDofCount=1 )"
   ]
  },
  {
   "cell_type": "markdown",
   "metadata": {},
   "source": [
    "Set initial conditions and boundary conditions\n",
    "----------\n",
    "\n",
    "**Initial and boundary conditions**\n",
    "\n",
    "Either set by perturbation function or load data from file."
   ]
  },
  {
   "cell_type": "code",
   "execution_count": 25,
   "metadata": {},
   "outputs": [],
   "source": [
    "LoadFromFile = False"
   ]
  },
  {
   "cell_type": "markdown",
   "metadata": {},
   "source": [
    "**If loading from file**\n",
    "\n",
    "Read 32\\*32 resolution data for $P$, $v$ and $T$ fields as well as existing summary statistics data. These are converted into lists so that the main time loop below will append with new values.\n"
   ]
  },
  {
   "cell_type": "code",
   "execution_count": 26,
   "metadata": {},
   "outputs": [],
   "source": [
    "if(LoadFromFile == True):\n",
    "# set up mesh for 32*32 data file\n",
    "    mesh32 = uw.mesh.FeMesh_Cartesian( elementType = (\"Q2/dPc1\"), \n",
    "                                               elementRes = (32, 32), \n",
    "                                                 minCoord = (0., 0.), \n",
    "                                                 maxCoord = (boxLength, boxHeight)  )\n",
    "    temperatureField32 = uw.mesh.MeshVariable( mesh=mesh32,         nodeDofCount=1 )\n",
    "    pressureField32    = uw.mesh.MeshVariable( mesh=mesh32.subMesh, nodeDofCount=1 )\n",
    "    velocityField32    = uw.mesh.MeshVariable( mesh=mesh32,         nodeDofCount=dim )\n",
    "\n",
    "    temperatureField32.load(inputPath+'Arrhenius_32_T.inp')\n",
    "    velocityField32.load(inputPath+'Arrhenius_32_v.inp')\n",
    "    pressureField32.load(inputPath+'Arrhenius_32_P.inp')\n",
    "    \n",
    "    temperatureField.data[:] = temperatureField32.evaluate(mesh)\n",
    "    pressureField.data[:] = pressureField32.evaluate(mesh.subMesh)\n",
    "    velocityField.data[:] = velocityField32.evaluate(mesh)\n",
    "    # load summary statistics into arrays\n",
    "    data = np.loadtxt(inputPath+'ArrSumary.txt', unpack=True )\n",
    "    timeVal, vrmsVal, nuVal = data[0].tolist(), data[1].tolist(), data[2].tolist()\n",
    "    "
   ]
  },
  {
   "cell_type": "markdown",
   "metadata": {},
   "source": [
    "**If _not_ loading from file: Initialise data**\n",
    "\n",
    "Start with a perturbed temperature gradient to speed up the convergence to the benchmark steady state solution."
   ]
  },
  {
   "cell_type": "code",
   "execution_count": 27,
   "metadata": {},
   "outputs": [],
   "source": [
    "if(LoadFromFile == False):\n",
    "    velocityField.data[:] = [0.,0.]\n",
    "    pressureField.data[:] = 0.\n",
    "    temperatureField.data[:] = 0.\n",
    "    pertStrength = 0.1\n",
    "    deltaTemp = tempMax - tempMin\n",
    "    for index, coord in enumerate(mesh.data):\n",
    "        pertCoeff = math.cos( math.pi * coord[0]/boxLength ) * math.sin( math.pi * coord[1]/boxLength )\n",
    "        temperatureField.data[index] = tempMin + deltaTemp*(boxHeight - coord[1]) + pertStrength * pertCoeff\n",
    "        temperatureField.data[index] = max(tempMin, min(tempMax, temperatureField.data[index]))\n",
    "# initialise summary statistics arrays\n",
    "    timeVal = []\n",
    "    vrmsVal = []\n",
    "    nuVal = []"
   ]
  },
  {
   "cell_type": "markdown",
   "metadata": {},
   "source": [
    "**Boundary conditions**\n",
    "\n",
    "This step is to ensure that the temperature boundary conditions are satisfied, as the initial conditions above may have been set to different values on the boundaries."
   ]
  },
  {
   "cell_type": "code",
   "execution_count": 28,
   "metadata": {},
   "outputs": [],
   "source": [
    "for index in mesh.specialSets[\"MinJ_VertexSet\"]:\n",
    "    temperatureField.data[index] = tempMax\n",
    "for index in mesh.specialSets[\"MaxJ_VertexSet\"]:\n",
    "    temperatureField.data[index] = tempMin"
   ]
  },
  {
   "cell_type": "markdown",
   "metadata": {},
   "source": [
    "**Conditions on the boundaries**\n",
    "\n",
    "Construct sets for the both horizontal and vertical walls. Combine the sets of vertices to make the I (left and right side walls) and J (top and bottom walls) sets. Note that both sets contain the corners of the box."
   ]
  },
  {
   "cell_type": "code",
   "execution_count": 29,
   "metadata": {},
   "outputs": [],
   "source": [
    "iWalls = mesh.specialSets[\"MinI_VertexSet\"] + mesh.specialSets[\"MaxI_VertexSet\"]\n",
    "jWalls = mesh.specialSets[\"MinJ_VertexSet\"] + mesh.specialSets[\"MaxJ_VertexSet\"]\n",
    "allWalls = iWalls + jWalls\n",
    "\n",
    "freeslipBC = uw.conditions.DirichletCondition( variable      = velocityField, \n",
    "                                               indexSetsPerDof = (allWalls,jWalls) )\n",
    "tempBC     = uw.conditions.DirichletCondition( variable      = temperatureField, \n",
    "                                               indexSetsPerDof = (jWalls,) )"
   ]
  },
  {
   "cell_type": "markdown",
   "metadata": {},
   "source": [
    "**Plot initial conditions**\n",
    "\n",
    "Automatically scale the size of the vector arrows for the velocity field maximum."
   ]
  },
  {
   "cell_type": "code",
   "execution_count": 30,
   "metadata": {
    "scrolled": false
   },
   "outputs": [
    {
     "data": {
      "text/html": [
       "<img src='data:image/png;base64,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'>"
      ],
      "text/plain": [
       "<IPython.core.display.HTML object>"
      ]
     },
     "metadata": {},
     "output_type": "display_data"
    }
   ],
   "source": [
    "velmax = np.amax(velocityField.data[:])\n",
    "if(velmax==0.0): velmax = 1.0\n",
    "figtemp = glucifer.Figure()\n",
    "tempminmax = fn.view.min_max(temperatureField)\n",
    "figtemp.append( glucifer.objects.Surface(mesh, tempminmax) )\n",
    "figtemp.append( glucifer.objects.VectorArrows(mesh, velocityField, scaling=0.1/velmax, arrowHead=0.2 ) )\n",
    "figtemp.show()"
   ]
  },
  {
   "cell_type": "markdown",
   "metadata": {},
   "source": [
    "Set up material parameters and functions\n",
    "-----"
   ]
  },
  {
   "cell_type": "code",
   "execution_count": 31,
   "metadata": {},
   "outputs": [],
   "source": [
    "# Rheology\n",
    "\n",
    "delta_Eta = 1.0e6\n",
    "activationEnergy = np.log(delta_Eta)\n",
    "Ra = 1.e6\n",
    "fn_viscosity = delta_Eta * fn.math.exp( - activationEnergy * temperatureField )\n",
    "\n",
    "densityFn = Ra*temperatureField\n",
    "# Define our vertical unit vector using a python tuple (this will be automatically converted to a function)\n",
    "z_hat = ( 0.0, 1.0 )\n",
    "# Now create a buoyancy force fn using the density.\n",
    "buoyancyFn = z_hat*densityFn"
   ]
  },
  {
   "cell_type": "markdown",
   "metadata": {},
   "source": [
    "**Plot the viscosity**\n"
   ]
  },
  {
   "cell_type": "code",
   "execution_count": 32,
   "metadata": {},
   "outputs": [
    {
     "data": {
      "text/html": [
       "<img src='data:image/png;base64,iVBORw0KGgoAAAANSUhEUgAAAoAAAAHgCAIAAAC6s0uzAABKfklEQVR4AeyVf3bcus2GB/6+NrnuVrrKnm6yS/Fx0rdxNCPxBwCClGiOc97nj3tjDgAClMRHANwIIYQQ8rlQwIQQQsgCKGBCCCFkARQwIYQQsgAKmBBCCFkABUwIIYQsgAImhBBCFkABE0IIIQuggAkhhJAFUMCEEELIAihgQgghZAEUMCGEELIACpgQQghZAAVMCCGELIACJoQQQhZAARNCCCELoIAJIYSQBVDAhBBCyAIoYEIIIWQBFDAhhBCyAAqYEEIIWQAFTAghhCyAAiaEEEIWQAETQgghC6CACSGEkAVQwIQQQsgCKGBCCCFkARQwIYQQsgAKmBBCCFkABUwIIYQsgAImhBBCFkABE0IIIQuggAkhhJAFUMCEEELIAijgKYjI6hYIIeQyaIoZ/P/qBv5Y8K9/rm5hxlRffMvp/T9tt/jybXz1p/nEezaRf/9ndQt/JhTwLPD6urqFCZfBkwh4ahvAyvT2pFhfavbgmKCm2eNfWf4pJUwmQAFP4x8nBHzlBzjbB5dueu0tOVztysRY3AWJuOI54AkGmZSoVpqputn1L/6Kn7LVPx0KeBqvf51KX/85nL/pLrkru7xyiYR+pVg5GKoW7wlXdjtwzzrOGKwWTvky9YPgmgqXs/5iIQcU8Czw+vpMXwsuyMWnpOPMlXo6Uvmxq3/32kWzgfheaJdtt4Geyq0zxLkKg90ORR4hl0Ze89lhkSxp5gVQwNO4RMAbWJKME5UQS/z0MMTvXFyTaOZhbm7H+KPVbrFTwujbBW+Ma7b4WIy91hj9jj4/8dTdQA1/KhTwNP76Npg48RPA6Bawr8ihSXBd2FgMBuZF4NzqmEu3Q8BaGBg/Vqd92oi9JBE1ItDkJQcSfEbBF+BClWK6ECng1VDAs8C379M+kkvVjXjimL/tLMQ6j3SIoMvRsbsa4G4kXkpkIveEYR8iYhd3XQGNB9PdPLoUgo4XY+x5DWx06w9rvJ4D5sZ0IdK+TwAFPI3v385WwPw0dCbqN3hnSxgLaxVBU8DocDasTb02totW2kX8ueAdDBC4rOE94pEGYiMgppCRJ4UOf1+5xW00LPCF4Mz3clqWtO0TQAFPwxLw7PceJz64rtyOYDjL7YrO/YtIV/C2c243RLaz94NzaAjM4kyHwJhBr2Nwdk/28B5xxwMyjsXp4Xzx0OcZCEPsu8PYt3bFJUIBPwEU8CygCniZfSOSC+cOqjSSDm9rxO/WiA/Q2B2xyOSf0qcHxCaqFhEw38dfGPINAgdVyTvo48ZpI+z40YfVW9Z8qdG5btdqfHqYdXWAcl4PBTyNb98bAVNecoxuEUzE4DcMLRqxc9FzY9XMsGB76Mrd/idmbrCam4vmdNBUelEz0OR95kiHzrk7t31WdlhN32jBN/y6rzIIJfsEUMCz+O/f/u79/Fz2PfGpB64YKe7rRjr0FUQW6wLwFrWrU3ov2Wq0rTNRR0NzRXVAHgZ1fBiDNx1zYQ+BxOEdo+MYEh1OHCulv8sY/QTCYUFo3+eAAp7F++3/vJ9lyqaJPLY/Tn5n0HtOlkWsjCoXqphDCnf1D+U47dtKygXrjszsIl4PUJ/qhz1QNAZza1gxalhiJrNUHlFU87YzlFnEwOgTzrzh3duV6yYju9thCLj/FshS3z0E1HehqoPQwU8ABTyLd7HPtv/Vl3EPD9W3K8j+K/JgqIVQZrk3i5QVVGsmWoMxAvLt0jBRpCXNy1GUq/neLTJRiCbnpJfUCtAOAaGVpi/Rsr6/XdOImd/dnpWY1uDN82lOFz9k5bkEZRl8fIHcLg0Hm4xDE6+DAp7Fu3O2fTrtDd9Bb6LEvk5Ro8X6C/5iuiBGx9K4JI5JpXXTiDZOYTDpu6KyAaFNCkXKqjgrOem60iQErVt0CRgdjoGhauWo8sVyHDTiizBdveio4ITpJnaevr6RhD4jxPx3bRh5LijgWfy45mwD35MY5oDtx5iZxRew1QPUX+H62jW37Itw0u2VSq57KH4pH5UyPxJqg+6Jkvcn+VW9/bpNK6rGsotbc1hzBTGJ1pKArediF7j2VQQMbVBNZnq86g9tEW7/A4cZmf0W6BPa+xNppv2hXxtGnggKeBbvEjhbjPwmQYmKGyURHUJdFyNBvMpIPNrYN6+T9WDMfsSIWyoNkFSikt2skqw3zlhSv5WJido1bcBQlOW8dMVyUlNshaFhCQzlCwjD9L1TqOM35y2nsNQLr+dIh10aVnt+HJ74ozW2mBZGngkKeBbvkbP17ndEw6UdJuHdJehgaa8U1cTQcLP+nqj4VZQ6eQyKxnYlp/HI6++3J6pua/en1dTEh4YN80Fz883yayGw2hxwE2uzwhWk08Zw/2isN/svZm8Obi6imlGdPZCozf7xMiDShrE4FkYNfyko4Fm8/ZBzBRRvtCoiKuCIeqXwlOFjMQyqh0miQJj2NRK9XNEFnHUnmQUlO1XJ3ZyfpGiCb00kZaJkZ3gcJHKVinOfSr2I2hOKEUWxCbQ3B/fQvZFdb8Wjkkfbv/+RHBTKUVwrC34nW8JD9eIdU6aJcO2o+tL2PRz1xkT+CCsfpzpmQ/bWMmJhg0Hkc6CAZ/H28+WiStX9WyPa/xrCvalysLNQ+6wMs6tlUpT7zd3os6omj/tdqt8M+5bm2aUp2slJIEyrv7tUzLBMcpKbabPeJjFJr0fxLs37pV8/o49KolzuWRsoj1SJ3kwj1dP8aBn32fFwMx6Ru25lr1OMXyqqHNsYE5rwZMS+0LVXHgPadoS6WOZIsIG2IhFzKKjarwIFPIu3H+cF/Lidbsq17hCw6U0zqeV005eV5Fz73v+HfQ4JtnEkJsVEry+WvUSUnzLFGmFqWTmcIUmEE1Yc4N18u7uTf2krD9FI8q9jsvR0kfx+XPSyb4rsWCT/Mz+KW75p5hPJlpIYSYpv/3w5RCW1an7pW/Z5El9KWunxn8PxR7SYrq09pJqp0iHsMFu0+sqjKfF3942uxwbDun8mnwkFPIu3n6Yugx4NBuYaQ7yW2JuIJ1nkFslDA9X2cpJd+lqi6IllrpRFpPpfIl1omqyTrLDctocR7TBJFZr2mdq3PmTJCiLTW3YwePg1v+XvFZFtKsUzlOwkj8q7KiUvXrT+cq8vykPE8aClFJQkKt4kiuodwOHgw/FJ0n3ATG+ovgJon4YTBjfME60XBqeZdMWRI2L6BC37laCAZ/H248X6SbqLIWZKs7ayKobztL8l+7g1cYstUT1su7WldpHTSdqGFNo0TJznIosSRdhZb9VcVeKuK8nasMOUarlQ5S5b0cIymW06kmQx93ei7e3fv/qB5mnJU/aWEt1V9ZPRXpywxMHWFL8b2CSK5Bzq4beAdHlXLzKj5+6BumL7GHZiQLRerlUweRa6nk2ZBsNaiWQdFPAs3n6anu0XcKxU9gea+WJcc+4dmN/g4lXzNi1VhGZjRq5+xYvem+TShaFY0dyp6Sfx7l5NEWc7TA5HPrQipasKted1dhNn3aL2vZRHhM3K6chVHaUZSV34cog8bwPpG5NujWMFD/veTVy/D/VrsKlyN3cq4ywUgZXCoDgv2sCKtRjq9hZyalSylPFKHgL+H3vloh5JikPpOPPt+z/w9FSedWZw0RWIdIZdvYu6usompCMhQP+2T9t///ef7NN1AI9i9BfO0YwV1mZutON0RS3htJizCPCW6UNwsQV68oWFNSS0iADA0g264Mytf0RQcJDUcZoVYPD8i5AGA0VNViqun1IMAQn59QQp6j0KMMymL/eX6B9y403/0Pp9J11BdKzpB8dU9fvf0NDqKmxsV8UIdA+BJPZGt5ItNoIiQi+ylzuFtPf9DkQ3gH/TNoDvsn8eE87iO+rIFpC9qDgdZhi2bl0f76pJpkGq4VoZcPgM0aX1z/+ZwbLzXMIDmX7shiDp1K0XhjCpwjP7xuGxKtyOyA2KRIB0GwaG+s5hqu8b3jcOszOjb9B1RvubUFHJ5oSOw/iK1QNqB8XYE5Lk6qkxeWTuvaDWhpyFtK96Dk5c4unm7l9hG8B32T9/3iQsvuGB4UNELpKCExN9RMGxWpzxHI9cLwMyzk+3iHBukEExLILN4VEX68f1x2oLboUoyByKkEORxTbCbUKTsubMwDbRb4EBesf6fmtPp0Y/U62WKndPIBw+ULhQ3T3224viZi4aDZGP7ka3CVmMQzISANfejl4zckBSFkH7WtYwjE3iv8M2gO+yfx74TjjedfVjYy6LGYYDN4fh62pQP9ITbi0w5jcStXSUB+NeoEgzQzEMLXSiBk2GI8ZVcfM6Gp8d/GanGGwTGSwL/0bVmhCIMgSqEcA101ckbu6IwG/2/uyPu40m0J5/QxobtYUXm2CrtPvDdKJkoTtMbYwBjBCc4YUn5z5STebIwYpN3b/GNoDvsn/+/Of7IsEbWwM1km+YhYd6gmHMIItRJSE+9XB3khiWYTAQZkTQCMo6W1LYpLGbQyYdGCL0KlrAt6szUrv1X/s6NQvj+h3DjLdwC4nrqzXwfukLdiLh9FTfwdWDX6O9hkN1Q5ShkEiZ7vR4UbMiSB1C2RNdmYe6/iD0I/DHfShzbmjwHt329CuC55Pc/hX6bhb/pm0A32X//YOpDy7ouYeDJSks5Eb2EeEo4ILbitr5Oz0vB4GCchyMGsS8bMObHurObaUwSIZFvB+pKTe4biD0Px1HauhykZra75efmuOVYqv6ho5QkG7w5FQftrYz2h4xbCWRmhDs5Tdm1sJjcFZG2yvBjr1WlMGtqmr4Ql8JIq/wHXEA6YjBY6Jv3v5ltgF8l/3zwHuBmHxJXhCG8BvmWwq0E4Mzt1U1ZFKhmgrsozRlcAzjmhQDN4HqvIz6Lx0bkmrnbi4jrNvrX0p0hbAM3OR+oQqDPWIm6NX6FUea64dRc5tCpyYcXMO7cU3f91ag1R+6/R6pFRBCc7Qh3V5gyJdq2kj6xcFLsYt2hYPA442BsO0HbQP4Lvvz+ORVr1q89LCwwvj1QARlLFEzHDTIYTnGuSijkwWjjDFLsjLUgEZjvO8bDBISoi9VMsQJdEFTBpv6MVErbVylmmQwIpReZHCHq1K2DF7UH/UWAdHDyzBYSRddi/x9DgKRPrchdJdpndsm8d9gG8B32f9uAfAFD6z74gq5cQ2uA8E5g3EF3hcYTIWhxSGLwTwNOCQBIP7iAqpHDDaFZURXMPP1O+WrVOtRCE4hUht1Q6qNSDZicLI7y+DJKaOscgxU75YxOLqHz0CP4TlikT1Wrrya0DaGf9c2gO+yiwDm1GPyrN4GMGxyDAuDY106NTDj9PN/mnm1BOCzMJhBZxmcAziFt5+hkA3CQHaRwTERkVE/RK8ubMZgVdg0OzylpvpwHIJn5LBaxEzt28SUwZpqKYNf3fB0tP7xpsJDTC9VguGmH9xtxM82fG9Yc9vQ/ZttA/guuwJgTh/FXAvXHhgSb6wELoRccMtGWw7gUeCAweUXimE+m7CI51rGmxEAKqzGnKhFfv3LoIwBg8dMDXf09KcUhk60rK8ZOSS6PrgXDtPalhm8eAQwZ+HQiHQlcSv9GWE4ZXB+w7HAV7WFWsaVWbEx/DfYBvBddgXAS4bPARirgUyGwzwdluheWYhkQiFNkY0wDGoLZ+5gRne1jsNjNNxTXC26YUj0GaUCOFUAaJz7QCTMXqCaZTwGDO6c0Iz3G6c5SpvdM9hvExnzZm7QcA3BHLnlGaNFc6kQP8wVDNsyNob/PbYBfJctA5iLrwDj58Xlh3esPvXvBML9tOK2DGD2qZgPRx8YwXXOmFhtAU6rbh4nnhMaPytuIzgVN6puQVGzxb2jHxI9LeOIGGyOqQbijW3masNrsHw3ED2KWRn2qrYFXn5iYRm5+YzHtl+yDeC77M9j0RGXZMsj46Io31DDQm3DQCo3DjYM76bQRa02DFQzkX0CuvHX5xSkSxuKdKOTbmr5gtHVMHGz2HtV6yCUuykMQLsZfHakeTUqoIumwcIYEbk9MmGP73RD4BYn7W5IWYilMry+U8AUwAG5GQKY9p34LWg8tpfiAwOOIniHwcsE3wHw9RG07YO2AXyX/XmsXWvlxbk7L6li8BlJwiSGSpdD4SbB4exQbvR0hysHw8CSmboIBGWg7qjPX5ffrCu8UAy7KGndAu38pZ6wsLxHTwpdHgNgPLcGhYSvSHqWh2oIty9C+g+64MMWTJFOLPpqI8ixNSSGXIeoohMMNRM6BitcwuobbvGdcZcH2VvzaubW5S8Uybt9F8lrU2bbt20D+C77w7XLT/nPJARrrwprSTEBtCkRlsKDB089ViZu1KM1YV6s/xUreEY3lIWzVmOHJQ140zJeK70bUt9O/IJe5Wan7ctN8h7aLcCPQSDMCKblsQEVdGEJ8ODZqbAqWie2HLtJPCOlF9Yh2kvqR48RHVWHc31GhfkupW4xttXR+HXoy3AYg7s36VPy13cZwIuQ3naHbQDfZX8ey65YfQUB3pZeVBSQvPlIBEFgHmuxxuHgOPdON7DsRGMUGMQa9EKMPb1fqCyHZyQTVAgoMYZ952XmdmiSwfG+x1qQK/pSjWlQ98aQ6enAvqegNpa/QvjBHqXhN0I32B5epi+Dc7dEl4sZC9f1R5BGqC83HtBXlx34uOcB90s4IDB89otk3QD+RdsAvsv+cPlic9URC48GgXTg3ccHLj5LGgQGHqh/DcaHpTiUj/xaeAb9laPxJLCNNnx9A3UWO2pNLjVJ0+F+YhsDQkOei0dvK4wd5MXRgKG3hMDLV/fBsPDka4jeVJ8xvcb0hem8Y+QRuUk8O8ipczQtla0Y6A/pu+g2gXRK31Nf31HMyH3keE6e9Kfoyw3lH7MN4Lvsz+OKNy66cFHJ6DJ41bxWVJ+qaSDUSCLTySJXGU6uUw4mndZv2PPFI+ClKp6au60MZKXCBWqCInPTzIbuIZ1+rx/OrcCGbpuHVrNAhWY8HQDQOVr0XX9kMtqMsiRVw/OHsBU64yGOUul7OvJsjS6PcaCqnxFEl+gbFaaQrPTVNYa66ind7YtCdBnjdzQbEFd4vOn7c7YBfJf94ZV73N5LEnTl/QxyiKfKeUz61BerLehFALSkjBjAtIh2ZSABcAsSs1aOphZIO8igD0aWijxQu3GkrzYFp3+4QDY3aHwJN/ZNMRn0zx/KT4VO0RZgIMcxNqDp60CFMNBnHLlZ+grZsy+l1iFEr2LVbzOjr7p++sLD3l/h5vUTmCJ6mUPmJm6Jber+im0A32UPvhU2jMLai1mEuMIY0mowEOK4DEOxuAJNU9rJBU1LRpOFSXloaoAmvWUqEt63L7Abt2hpgWhNQ+hWFhsPBSy7mwqk2gIEqyi7VLFEtaMuWHBbQSUhDbP3s/SY97q8nlSiF6oMNrFArQeWviBsb4dQ0+qdLC2vPIO5gux9aWVIt+eaJ3SYNHcrVzfS9ze/7T3Tzx6yDEzcxPHzMl83hn/YNoDvssfjymV+w5dvSAYvcqiGAfsnZXR9jraAuByHK7UFROCH/7XSoc9fWbAnsaSp0qMpw0JXwUkymxoVcu+Q7EzLqF8EIykzilOAgq52E8Svg76S03IFnfvoCtR4ronbZqub4lYh4itTV2PSOih8Qkv1tkDjmR18Ed3b6Tf0IuIZxG1DQGjoFTr9ooUEjVL/mOtHIkEgo4eKwavcGP7bbAP4Lnvwijcv3/q3Hgk8cmb6XANnwnpJmTAFI/zWpBq7ZcS5lVFnCq5ggKoA0LlokUBfl+VoinC2Yd4XqYZpmZQBOy3UOxJQWg+nppGm3FSj2hZ47g52RzTAY4GownPUK+2mUvcaeIJV7U5zvbYFugzNzqLPVr/FuWDqyWeVRYBQMxtTQnu32s9I394TGDR6/eCm6oYLLczcVmcQNnJ/yTaA77IHL17qGRFD+87DwQT8zN5mDs7JpjApg2bkBhhGAGZPxDIj23hk7KMA0Is8oahGnAqkaooaxOwcQKRfWaIo1FlleqXY+QqhA6Fze2XMIVcmPluJCNlWFil34uusK7Qgp/BpzX8lbfqGu62BML2n2ClMA6FIf2a1aIQqWxD0cAS1TLWEZoxesRfplj1SyH8i/eyxmMCZGy+MB353mGx7zzaA77I/fCtsIQpr7F18TkjBL5eYYhgLSZn4wJQRZTQIZL5oVSVAidBHJTwsFBUp3cZ1NMz/7Iqw+r0uDN10LgQId2jUuz6Zd+iVsscISx7V0KSkq8rvurj1kmCTYqTmpBR3+xlpPJ//vBCmD1eueIJ2ccmz8y4awj13AUc47VbQCKPv3gUts8//54EW9ufv4aNLlmeGjeEftQ3gu+zBe29yDs5lhEuL1NDJlkJ/sYxkRoT8pptyzm0B/GWqFrAn9SuKaBKbQEYYNj+XyS4QqqBrOsY+Y0duIZtZHEf1v1DgKvKYf52yQJeHYh/nMBm9W5csMH3lgkoK4+ZA6LeJiJepm2fqmbQSTt0GX78FbdIN78botZjFo9/dtNo4UFm7oraM6xZWu+1nbAP4LuPNV9nL493YLJB6rmMtKZarTdQgg5AFMsWhhiIqdbheMLLAJKmGMcymWyCcfo1l6FZmLFwuXxttHY1xEMdX3C3mAVkJNV81fztFhm6F1Q3DksfVDRLpYgtWTbJ66Ia2Q0Pi1jSTtBGunxh0IHvGRTfZEAZ3QhJWdVK6Mb5Pwd0+ZG3BxLlAZRGNt2G+7aJtAN9lD95/i9toe/3GmHQTAQUKDtyQQlQH5tvmlL56ERPkCzhxoM9zoOAagM/JOAwMGVzAkwRqjmpkZZ6WwR2lEJMSoiFqpeACxk1XctKpL3vOvRYLKwZup9rRYdf6r/L2pDJrLHiCPHKTUK9uEh7GDZ12CEjZ9VkDuxoCt5P0VLXRnqUho0Kvrlc9MASxwSXsbkw+XrEk6bb7bAP4Lnt8WjB4TnRkSx5d9jQZ89ETmjn954u+CjhvH4jXUFlwkx/j/UKz2ZaFcMw1alEFesjZn9Hg6umINEtJBKGPGPOiMKp4CQnlTwFD4SboApGaOQ4hVqg4B90B4yYZXDegKc6crzPYCzcJD83ODueUlKz9gfiiG6UwWXaHsDa504S+UKgzd4PRxTqstZpt/Bv01Vvb9jO2AXyXPfixWyxm19T4jdhBIOZQn9CXA7eE5Zjqf40MmpkXu2E0xYIVCrRgMJQiANOnkvCGpXLuL2kBV5sAN8yUp8Zv443Zi5J9VU7Nxl6k3qB3CyjA1r0A+WUTPFck0DU4Jc89mw+JseYGiUDthtoLeWsk5bta9UZGU/YN14yU/ZVlWL7a28TWwOCmRdkDLlPu5zJDMZoi2+6yDeC7jJ+7xFMlBD8yjdWAwlpSZA7oA4JrhS0GruqzT8/qxgG2Q6ojYT9OMTPR6IffYQbvqzAO3Vr9kmSMOa0HriO9oYjivfD/YgY9HlogeuUNLyFfr7iVFUZQLNxtcoh4077YDSopXnBrpHaYbBVDIjh2050vUEd4HMLNXwZCujJ4aP37+Nm2x8BrAL6K6m0ftA3gu+zBz1/sBVgy9B2Uskh3znw4iUoL45razI0a1m7vnqN5f9Dpn7QxUROB6qMJjGYxVYh3KysMSC/55xl8yEBItwicVZ+CyboGtc333CzYWPjlaIdwpUuxnjeywFLGzA2tWQKISVLT2I496yaufEhfCF4Gt82fY+JT2+6P/03QbiT/mG0A32WPj6qtUDB0DAK59OCwRuhzdst8SalWzwYmsV4/2NQLvpW+HLhZkCNebFMOWpJuS28HusZDsHfJDaGbg2sFBIQbA8CH+szgOlNbcaNt2muRllgMwAOvnweGbhGGtZtjmRAU2zxUb599o72o7Uhh7wC0mr2b5icM39WhquB7TN3o/WHbAL7LuEDLC2qvv5efR0fPJDAHO9fepHJ7oWYW2IYSVaBYwlA/q61NuYpidQIB2nM1Kjqf6xzs1Oi3wBzblJ/gp/TXZBbdEG5sPOKI01TNF2py6g8D0baJYEBL/MO4deqUTBwlTdysZ8J4iG1hEmj1LVxL4ytUqcmnBQ+zUgLEdfZuaXn2ZhlD9IZzt6UXv+0vsQ3gu4z87FXnOhS9VxCYo/c99tMN66Rau7wY6N0sUOscqqjECOSaz70ZFXcOk4gprssT/vT0PSVeeSE/wTVSs7xs5gysITSAh0gp8eyGfpHRSJak9ogVOjUNcjd57SrG22ETjmr1Z+VmcZvSS1dCy1i5NRHIntJ6CpCzXzgY1Hm4fuXvqWsxxxzDp2/NypSUjPmM4B32mi5xd7P5520D+C5jyLb377ga/nxXjCG7Dju2BoEYelBO6jgV5DIWAhHpxwhs48ydQEjKwe40dC1NMQmUiKUnt5JCLxR1vOtKA5AzIvEROTvWJgjXbhKxIVw7rko8U0wafwreKk5LESS4NYIM+O3d+grDy468DGRvV+OwxrFKI6N12JwWazKGeW2CwI3VLXism7J/lW0A32WPcJXfVEU4/RPj6ttDebNj+E+TyuLoIBe6U847jU2ssZ8eShE+vVuAZ2TZO02h3TxczQr6NjsbESHWFQm/cfT5qnbTICqbINY0m6v+iAdftXXvDKiSzTGrPG4l+B2lhEiH2QDqqHCNNAMGSy6qTmlxsWWy1RQwTx6eKATizDXa08fY9pI4iFYz0ZFlLEyHTeK/wTaA7zJWrMR2+frT/LQggFX6q1kUSHOtakr0HRKtgS/cHDNlUA/uQf2d5G2lS0q8ejetzIiFArgFinSEDvBfZiqjPne1Gki3I0VZ64YMZloK0BXA6Sfktr1p+aAqgCRxzumYmln9ktQwQGLDi7lFiHB7JFRmvyMjfVoYDzCs7uqztRr39s50KbV0Blo/RGkHZYyfy+buX2UbwHcZU9wdwcSdG0IMf+pFUY4xztzW1VKpNsnpESvLWNkmHTfYVWm5KLkRwclnbFORgkbMA9veJdR8lEKgDexlMrgyZVNNP4GNuoOOtcjJTUFu5EBlRTJG3A1w2KSRw9XejcgNdYUhI5My5KEw14dYiSrxt9no84T8kH8UF14EulYE1QaCoVpim8R/g20A32V881tiiDH84Zq59Gq59nonauizy0yWMFAlxXpvnf7rFzcY3abOGCq+nlOxY7jBhG6umxXB0caW539PLfrAftLnRKcJP8unVmvkbrFl33UrR+Vl32xbjPQl6V9jXbhRsZkS4fYHoV9jcDaWMhCq29BljNQkdF4FmzJ6ofpePRfYQMeU3P20+vXKeOzArPSzywv3oqCuRQv0Fyp+Cotw3Qz+ddsAvss4piS+w3OMyPHNssUwCz6+gX5c3lFWRocEU7mkfhhHCnrEjKSphMKh/w4DbF0eNRxqXspePoHiuJfyEpIT3d0QlJXtVQo1k0NjrQRqqLNKwzNV7Is1CWL6opQsQUhJ7zHCO0JhaarcZAqELMwXLaNLvxD4QAsE+rSQRFB1BOAjsIDKUcHxU8Bm8L/DNoDvMn7rc2Q/9lY4rAAFRVjEOeebitU4qs5RFoquwUSKOslcX7iRLaHdu8SYkexskZyuOETFomyRhNw5XC0v2YhpNI1bVReJIjUHvPMvqooaNR2Ge4p2KEqQmohoi02KFRW9zBCTnYGBW0tBvzVDKaeMepzM3co5QV/lEPAS3qW2qj8BcIzb4PmZY4+f4Wbwv8Q2gO8ycuFi4w0uMnluH7WBHK+lYgDL5U3lgYZqwShDDnOKpiEvOwiC5AE02Ox0FLSwB4Q2z+m/0vAt4CVkWuhAidXXYqFihePTDQmPDwuh1k96zAuUQnJOc1qwmZqIKHyiZKfekUgiwS9FKBoFj3DpNqSmOm2II2l9M0QzF8en7rvUVzm8cStUNsrD+7vh+u+wDeC7jB9z0gY5he6qHFN5XKH+XA1tyq8H0g/FdAtOH/MUoT77GungQDM9xQhlA5r49Nw5OqVkYJ+yAvNQhdUyxhm72km8Vnh3Mzw2jZGIVekMDqufRfhL/8wp69dEbICqJEaDpoGxOUDU9R4okCwwKvQTzMfwa1cAFLoDAFPdCbhLlgI4xW2wa/0QI+v1b/t7bQP4LuPHEanIi+S5fY7Bx2BOLDB1fUfDTcVBIpAB/rJNocdyqC/cRCuokQOVVQ1nBbOGE9XYCsbXVEcYWOYrNSfAxkvHdOkWZ2wc9JyD63klNAVZEbrRkaxXyx6oIXxYdioSW4gqp/4jHcJdPeivsXbF6afwk8CGdEPUARNbf8UUrnAPD9Eb0IHlAFNRTnC+7ddtA/jfY9ETH+MKn8jm4FsnKFYzppzTU3yEQ6PG0AN5tgtt9G4adYw3ZmesHqcy6ByZ7GqUBDYYjgJZu6UHsE7aCd1AC9VCdDfFY18GG6HYCodpQwjyV1KF2Nc/sACBpGlN6iHqzqDrP2vz+hDxNbCoBMj0+gLYaAx3xJVNg7qfqG7qTsLd0ZUVn7T/HyT55CjYdp9tAN9lnIHgsmEItMj3UyWYqSeAyenUyARppgJzt1k3tFu6dZuU8WziVX2EbtY6ZQUaCxdID+/wADpTUSIPjT0DfpO0zuye9DCeE7VXNNXBN8hJ3sMW/MJYo7ELPIQbxOuBoLs5HVMtO8lFrOAxPZT1HVMXWut3yNZKNIx1tcEtQbAFQW51bWhh3w4D7pqi/zt6I/jcKNj2WdsAvss+f+PN487ts+/NqtnRG7rxszu6GivGnQ+04I3ht66vh7EesEfuZmnvy/jiFbLYwjZ4TB4OqBX2BTAQSTsvpadRQwVMYQ/kqZ+iEiSoAOkoLcVApdD0oF6D28WRYrs2il1P0pe62COmb9mE0R8g9uibTaHesoWBLotAsHYLH1X4JXxJK6/xjSe47fu2AXyXfR7AThpvp8aFF8i1MhiIcfV9cwH8Sa3QU2wQwT5fDzv8Br1YO0hUFMX9cCNWcHHQlpNYAlMvoMFQVlfqmV0xVgrrRDysJkWHupoIhPjUkCzRa9TOTF8EVwCrWHWxRa8DT4O28d6cKV6N6oitbtA9KXXBld3w7/QlEdHKslec0tncW73X7L0ENMXw9sG9LngUL88g3DqvtuW2AXyXccKc79q33gzVMMAF0FiVYRkIM37gtXPEdQzo2gNhlpHoJ9VytFDGtXWS7JTTvTnSb8jw0HD3BTa4QmDdJO8RBqooRlB/BX7FpchHDPJXdnSsomNV7Y+WlO0coa8aTB8EpNkPjJK+zOHX3YDKVw7clEitrCN85JaiVy9CtS26fOHyyrjJfDZ9f8s2gG+zmy91+IyXzE3Qd6WQxzJNytXZMXIbqnnJPrAaW7jUIiTVMiN/2FBTBhIohj1Qbr41sBR0ZOp0PJMzDTyxA8Gz1gWKQPpDQP8gQX4YWuNkuNKn7mb9xCpV64Q7OthSX8lo6sSpJfvPjtgu/iz2EMJFVLmxFxbermcgIqbSslneIaYwjm9FQN9n/bRVRZdwZSZdmCTbvm0bwHfZzfzthqvpOHpqeLfyaHZwMemiPhfUJvWXwRsAlFLsor6Y7Kl+fDOiPsF/9m6wGUz9EoQdYq8vBvc90BEUomk8/4HdB7JASig/QejRK2PLhtE33CIktpuPVBOE7pguUvSYVHhyhVHynvFJSFC3WKp67CFjeOzxgwkvUUBf2gv3nVf8Y4Nr27EBfJ/9wD3GNxPJgfSNsvMyoud8Pelom2JAhm5JLBowZSU+lnpJ7QeDTeI1ExkiPKt/oGaqPcc5py2LeY+vTUFHa+pnfHgiBKYjZjfosIQIVCQM3YSXvBXNEdrHXJ4GUaF2VkqtpjcbEhovcJOmJ/agLLYL8Pu5R9c7akbWbFQ3Tg+Z+col2/T9edsAvs3uv8v20U7Hfa7CZHq/WYZ/1Hg/aeqmBySHs8lG6FkYYxvD8ZSfL0qsmrXBdMOaGkQH/aw9In0mbe0eMJ8oE1Cz7Upg51yFZ3U7yXZEbi6p2O7rX5QfqGDfT6pi+7wF6L1ApFY/Ut2HgnlK8Nf0roWQlZxd6RfJ9gyyZi7gE/LapC9jzN13J8H74dvesA3g/0eM16mP5JHxenaMYtHxiEuBERSHE2isliDKE8Y2E5p9S5VrfbSBKhUo4DmwaJvM6/exdGdNjRCzrSeKkqE+DqwAspQNDk/BuLRIwtVn6TcIemvy66tukgqZ6KylR10H6klrdln0LCGGez19F6/8SC4t9bVBcpHYuUsZk52WWcGbrzh9aNtusw3gu4yTsfpr1h88F6b/XI0LzxVuiK6+8yVCt/GKSzNFDNfXxAvdFO1CNQzJKfStrBvnkBTyaowyFuRFWAyJofI5KqtTDc+AHU5h4MsDQbN0oMSzOEO4r2ynWrlitirBXFNXlMKeQ184D4R2CzxLANu1Rghdffs1VlErpA+h+B3ygiRuMGehtx7oIzveVfP3f9t9tgF8m/E3kuJaXfh2nRQowWJh+dyZV5uIU9FocabYGcwM20jAGamrAWhm/LA5nvSRmkcBM0k5nmk34UiGuErnhrBZlqa1WAHj2g0GbhIpcpcFhucOZCN9oOBZSY0TwTT3BPq4IdDeG85znwzT9b7S81JusTTLkhL2CSC87QjupDlkr5+pvWH4vTH2/49tAN9lv3Nx+1CZ2AdfF9rUul7YYhkTNwaTdCBFFQg1SlO3pIZxq1kHKYZFMVazsK9lUI3YvDezSUwxwjtD6kBHLsVCxnwnlCCUzKsJYdwYsFzsPww0JYiMbEeqAqlvomJs+a2LNOxqECK71PBVNS72blFsCtn5w0E1PlinP2f2km30/pj957cL2HaDcf56uOS1ng1Las5psQwueD6/8vXnDamvuciJG8NYpxUHfjFB15a4qS0wSmrc6iLaEfCSGq0anZrPaBeZB77cHvNYFfgwgVSL9Is28KvbaLFpoFwpuWxg6PYwK87tIdQW3KyUWfR/Un3OY1f+PMSfc2XbTbYBfJfx1/8M31jzu/Ayk0TVcFwvbF6Gg+VY/PSY7qUnldQZuPmCh922gbU/x8yt7GJciXDTns+J7PY1VEvcDjPf9TZn21dgSC9ksF4CjyXYp/CobhXqGuSpmrgJjxrYaReSXqh5t0JcUUavJHBThT0asPM/oX5W8Nt/zizbbrL/Y37/v+yVCXLjOgxE1am5/5HdE9tauAAgSEmWkgCFX39CY2mQFF/YH7EVaejNgVEKOSuPkLE0TevCUdAbxlcY1gza1djaDYiJK4OfT+WWREnWUwTKmoWsuQvE1m/SzxlA2QXVFKh2OAl+KV6qCdIhKUxDyzNmOWy5jVricxfhOGMme45F37q4RvH9G6vEYrA5umyVnT/mKnrYVo3JCcqtkzu0bpZ2mbP6SQXqH2LHJx92sgWAzzKqn4yfSjsM3u+Nu9Whesyd2uCXQRVvMjRSBLV2iNlrWqIENtorDNOG8fNWMEUOxFmZzaIS1NgWYN4Emixf61OPeWN8JmCFTKrbS+mMOddSpW/dlzhsvz7/ifSisaBmtZkVZVdmvnKXrxQlCJmBdWOgDE5uSWaYVY3ibc8IT+2jLm8ILeT2fvIB7PMsAHxDwwEMpvBPHAd1sRW6tGFEGD3vwutRfr3zNMKEUkxhY3WkMpESxhw0M1iQPMSiYZ0lL87GdWGSiEJV/VKb9Zn/H8IWQLuvGTKYpJbEk4/BuFgobzgU4D3/xY2pAowhfi9rA6YUZH3U+Qo2Yayox4Kpclg2JZN7UrSlSVXq92PgEdj9GIWpFgA+y/bd2iMYrLwUe0eC2qKvPnsS0d0OM/XYCKspSD2stb+QmVLKSB5qdQxUqmSCCivv0dlMnJ/4REZVDetWqlBUtosprbMwluLLUlBaUGCPejBrWCKDSS4SnBpXQ6CgxD+wDss/F6xUR960/KqqjV2Fwvoc4by13EHisMPt62oBYZod84Fw8cOMwic91qIjkdl75ElcYuAKYwPUatN8qY4RZbzbPd3uyEwYJRnqCrHWVxMrGXXkUqqqlmij5nn9ZCvw/vfDCsvWi0Q9RpbxqMOWoR6t3LfXYY9Vv1ntIZV6VI3qsHyo5+xZR1GGtjnSFlmJyp0JO9wCwHe2Yxj8trMxfAiJG1++zn4zEc76xlPeaFrRVEqHULAFj1rY1ERv0rGuL2uTwqpIpRoFeWULhSiTg6ZTCZIZdRVQS59E9pSLL7BVuY9mLkW8uatJFR5ppBz2nP2h5JrCGk2bHnaS/btawK+1gy4t9lfC8aryctjVBb3bSCUXchTMbWSdTSUMLbWUqs0c3E4TVRPo+8Wk0DuM0sT14pL46kh1P7Fpm3+DEvZaRDokcnnLz8LhUhRaddvE0LocmFv1nR/fIVj+kQWibsT13JisGMffrjYV1aoT3q6KcSW0O0jtftL9sYV93L6uFvB7jUc5dlbgy4/TUz1xSReOytNc7ijusZK4rMCu3x7XUFtprIWtp5l1b94UJUxbmYREGEPV+sVzTsKQdU92QMwtjkaZF++ywn7a16MeZD5oiGH1JVl/fcgtklJK+kOU1LrV6eyPp5eJ32W/F99eH9wj8WK0h+bv+GSFPR52kv27WkCYx7C/BI8q1CrHXaKpVuscQJIBK8ys3xhqyV1IJIQlgwEJ2NZoY7I6LN0mzKgS5lwSy9plEc5RrMKYBvKVCNRh9eSozhKrni1MVG1tdybJCkMxXRrGNCPdPJRHtm05k5XWUTnCSr2ZpPx4KG+N9CF2dDz6QQgbsgDwWcarBbwNp6qihTiOSIWWR72o/fo02FnVh6mPDZgjf9Hlh7jEDhUWSYdXhzHZtHkFQn1BAPI6FFH35rc0W0qKjfkV3dNqeRjzAjTuENR7nXNdvXSoBsx5/eIczY94uQBFWA5IpDPqYcLBUFxGkStfTyoH3XgObvNM/Vn7ulpA2LnGD3xjSQ/u6LjkYi3irDaH8eV6Lk1vh+VxeimU2kxhloaOiVAntqdewhrCnmEQw8pSzWoUmyI7dDGGumdheEpthk3TQ9qKKhIPSVij2ivgoZxdsasvzyo/ihb0+sPbdMTDTrIA8J+wD2FYYsOQQWHzyKjORC/pHe/RihOPMDbHpGtvU4bNK8lzbKldwiSup2EoqsmUZVlQqVbKyxisxIh0V0q1qwmlKkpNBSYVkk0a7BVg516q7cntp+w04mEnWQD4LLvhzeYJbjB4X1OJYT1vkAYtewpvmPmWvQxT63FcV2tMdiQmMt5NS+bVeJDAVscU2ub6VbVaiVjQCEsikfEsP82mvCrsCc7JXa3azGInn5gUqunXzwC25AnmKRz9g54iS9gwnhUPO8kCwBfb5zF8rv4jh8Ge/RExbE/B3jAlZ32yO6q9n+x9MhZOqCwXC2m/Fjhx1ReY7QrLGF+hYhLCSqJMahhmzY2wshqlrVuqYeEltvo27Sahr+Tf44v1n/6Ysj8ld1N26vOwk+zf1QJ+r/Gk2HHDaSU0Bu/uiLQk+kW+n3szUdZupUCdt0hcO8Pcka0p9fuw7ARa0rEwLPtbKbuFQr6EWIi5hpX1J6n+MnkqVwlj+hul3WJ+KqgGQapwG5nFTVTCWtXmFRpnrF4x+L9wjibW58nq2l304oS17OtqAb/W6PAbSmo4+/Tv7zhSjdnT20qE2M6ubwzfUM7S02hrY+ffICZqw77/FtotP2//VKZN90erJo6TnYUVBmNb5j9zkXVkHfZawcvzalMdJjXN93C5JygPUb+0zsj8HqKZ+HB9Ani81dL0qcPPfJb+tAWAr7RLMHyA6A/qH25RY1g32PiUVSkP60ipCurG87qqpS5DhXFRTWI/hRh4qtWqxOKCeG6MLwGW6lTGZNW0oNG0gjMXZjUteLx5jq7vnUkwn/nUgD2l7a7p+Nz83EWaLr+mpfSOzUtmXOuwQy0AfL39vBvOT+s/H8MY7Eh5NwZJ7FD7hgpNGXTL8DR9xbwY4xuTVXG2tM3wUNBQArs5Zt502TFk1WhVo7JSD09ffTrqZ66AvOWbDFdxBn8vtgDwXeyHXXReoH8XhttRGO9Il1oviekRDBUMraYyifXneNufJMaApQzjdi4KDSqzpTAZxiVlIQiuUOTksYRJs/7i7x+a/CtH6HC8XOgrNPXVDDvJAsD3Mvb49Vqv0D9YjR5JkOHkccoyaCLQGqT9QEOuRlmMi8QNhGP9u8DJGtGAMUsg5R2RJohh6ZhamLADGZxyJuX71uAla+gWYvT6Isg14LHvO1Ius+IzoWHF5D6FnWMB4LNM+7SMT66XS7zctYfY54P7ozxCbTC7VCHV5uBkWd9IdM6SdWjsHtSbo3esF2lSIQ+DxvWUYeX5ijBOVzakQdzmrH6zWgH7cnuQVchFNtkmtC/DkOkpsKohvB6ER7j7+218fWHn2L+rBfxiQ1c01xz2ph5iPCT/POGN+vqm9QuDK9c8pjyR2l7DTKbrJm3PPXS5YqmVjDD3qKoPWxjrrXx3Wv6AHvaub1djohZG2FZi6Qj120S2HdsiqzDhO1kBtSWiTqzvgbiP7H9EaklYl5MWgdEb2tfVAsIy49u5/MP0Q+0YdLLHj61vV9wjTI1kI3dZhBbTGIeOMPHyUA3LV+BPTMPWn5m6lChMRKRZc51iV3NfK9bVhLB6cd3/PGwqUqoBaxmKMBTTOhONkbVEjy9ZeF28xbnLD3kcwmoLAN/V6KXRcfbpz+xY/fPT+WFhdOZCJHpTA1txaql8VScxehPVpkqiBGPUYxpnJ8Y0YJ/fihdFhLAa/DXpxfoshSFDeEfiJCbSlup0s36Xh51kAeAbGw+MctqnGXy0/vm5+SiG6czFWIsZw2Nqq1WJpmjStIPEkg6Ji0LTlBbW+bItQ4IHXPWlFmy1eLlQ38PjmpTTDvpO55A47CQLAN/bgsFD5Q58R1yvEp1QRFeLEjyeMP39nSyiwHq4FfBYfdcXP/8hrwYZUXScYKu+QjJs9WuvZIhTCIvF+dKVS53qapjDaY8WBL6ZBYBvb+4PbzrMcVwp79d7OION5+moEQok+Jq691bEfNdQNcKtJxtqbk5Em8TGUUjVoJ6bUrotI/lDgjFU2Y1EvXUGORgKiyIsKrAVNnxhq0sV/L2J/btawK+1s28tzu2Ig/cC7R48aCNx6NHAHMGopk8Hl9qlI7Mw2kOhsSSubXDaJNVxLBUg+4Xa8Kh2AFk11IlY46nsKloyqHR//g0YW0lJRt6rWmGeiPqovF9rMhV2fNRo1g+7h31dLSBs0H7Yp8ThETDQSvMx4bOzr1RXmCyVdRjsiYRS37LpaiqPrE+dL0JrMBdhBkcahKBjQK0+YUy61S+z5NnqMHklPRSWXifSJ0ANc7jca9+HEHaGBYB/sP2wD+mDDN4JRc8Ix2JYTWRjN7wyJAxPFlDlHiaJYUB9Svgk0jFzqSNbapdcFLChBuNisaIUDZCXifAkivsjwNsOG/aE5ez0sJMsAPyz7Yd9Gjdg8HQcgz+EYbZ340AMTw4M67SGB+orZpqDF2FOEj9ltNRqXNcS27lEM1Hb1KqUS8awHVstbI8FgH+8/bCv6Ncx2F9tHMNso654WKm/s+9q7TAHhqUFeGenDwNcSJwIFRGez4IN4VJi2lfYiioxlVEWTJs660vbrsrorEZ3x6k/PuxYCwD/BvthX8gfZvA0/MwJ1IT/fSzD6AvTpL4hZMNPalIOy749KRcTPkkGI/H9R3PzXYNkEUh/pulqmFi/Vc3pY6XCTrIA8C8x/iyXVn1vAToejhbh9owwoL9J2gaEhN+Qtm5yrFVtalQr1FpNFWH1sK2NbpNY2/znMmjssMYkSa+xH1m1panjtPWYfMlTauyhCLvc/l0tIOyP2vf3j8FUDPdQmvIz+rmq70ymNTZcYUnHJIx9TaUGelM4B6d9rksyl0A4c+dENOrnuwBlgyCFs552aeq/XtBi8p3F8E3tahr2Wfu6WkDY37VPfP/0NMUn9fPtXP6xuDdxaiSqYazDMFLtWzlHtDUHp+HP//D+g4unyWbiVCTObmvICyWJYKGBlYCqlzGbWK0W5Kzm9O5qYedYADjsSvubDBaTuY/orjC2B/dWkzDs1aaw01EKJSwdMuiQYcPY2DT6ZDgBl/Fbh+ARCO6rFnaSBYDDLrZg8EcxzDoMh1YbxLC7KeqwlVgjJFZktBAFIUwBp4dqQkBS7UDujlULO8kCwGHXWzD4oxhmHQabWNaLzB2MeWFG459eCkXYpsQnRqVdvkpho4RNq2U4OebC26pEUjjmQdb7WAD4LGP+2dzIfd/p5xl8rHt6SM8ZxhrwhOFdD+4YhoX66LoHTuSoIxSlPNjQ1WZVWxVoTifSVIefLqP/oNmz87s+Uqm17WEn2b+rBYR93L4/JxwVdV9z6pfeFt/cnAAPg0deL/jz8zmdiUoYhDBzH7mlsbnJMJfo2/okTEim7wi5BELvSu+WIturXIbTINY3dwSCnuDkz7OvqwWEXWE8MOq+drZ+uhpgTDmH5nQmdoXxxavUpTAUMUpY7iz3kLo3w9K4Vh2UA1a+RtO3XaWM5naIuZNn154uSCWssdl7q8I+YQHgv2rB4HszuA/DHOfrcfUxiHm6trFZbaWpj3ZwAdUHdbaJufDSBCJ7XMpCO1GREdS+xALAf9iCwbdn8DTKSH+i94WlJxHD9d9UOEQtfdVWXLmq0SWM/QMMQ04BJA499bBzLQD8ty0YHAyuXnPlZZfLOQFATwv6ZJjV6KiWhMFbbcFwUx49zs3XVaN+Z1OwX4btYSdZAPjPWzA4GNwCc7NcHobxFq76roJsDb/iyltNl8JOhb31XYmZjd+0sE/av6sFhN3ArmIwzkTW+fpxHIPhGJXOISqksEsTWltHNddgMFonyvVHnZz0XAnk8WynvDaMjTBsmqDvKZ3SdmyyuynaJx+YvtoCwGHXGV3Uue0rcaC2ZylXOcer2i8sA1tnsguKBV/RDLPGbHSU6mfslA2NsKQrB/nFLZF9+aMdcczhhZ1mX1cLCPvbxkNC7iy/p5SrHE4SxtWZ/NtXqiusWf+1iCKGmtra9fpGlqt4HsoeTw9u0yn6NKJ/3Nn2sJMsABx2tQWDb8NgLflYDLvr4+T6MnTbYUNMehUH3aED2sJ+nAWAw25gweDbM9hfzYsKehJxcv1x/U8Mj+wwvDSlOoLoYT/RAsBh97Bg8C9i8ORnTDsRRv0Gh9iRSHfYFkxXZJUIZwu+Mb+4jVye6WEnWQA47DbmeAm40898WQ584IqXV3eI60cK6zyCYqphwGhjNg+vA2DKaM6jWuv37uk6US/0jNF4Kn6DwKfZv6sFhIV90L6fEtgLN9HlNyHv+zkG6g6fEMZUU2cytXnykkfU56gM+QpNdooyUSORfUVHZYRdaV9XCwgL+6yxuXATXfuqleXwSWFcs7gjtxXzdCb/9nV7haHIotGidspZ7HRvr8rtOXmCh51kAeCwv2fB4I8Im99u7sjtF+dOxHjHpOkeRA3nbmAOUv5wCwCH/UkLBn9KGAUZR2OYY4k4HPw8dUz34De5zGFNCwCH/VULBn9Q2LeMXQgfEudIhNFRdGfTRmJnU8spd+GhHnaSBYDD/rAFgz8pjLte83YuxxKxSwaP0z8dcCqBzJ9l/64W8GvtV34DuFrA8baHwThxf3jooXQwuDUUh243epNhdHftWk8i1L/hOB2hKXuPtfvmwHuNf+E3+4vsS1n/z14d7jSyw3AU31R9/1f+LwgJKJ02mcQZO875KR+urpbBnpYc4IC8B4hFId6P8S9tWqp0PFVdY6h3QQ28mZ+fVc8P6l/Rz383TaKzR5V/0P/kt0+DLQKMc/hrfECD50VRBjUdz/Bz6toUw0k6PnXauQQCjNP4q35Ag+dFUTYNG01R5xjFfpLznzoZjowAowd/0g9o8Lxp7d7tUIrU97QyPYqavzumIcDoxN/zAxq8QoOHUqS+p5X3k7Qcq09dvQeTEGD00/yzkqfp9erMXNP4bTctVQ7XNJz2xLt9fX7v2fmKDp9W/9Xl1Q82fhVODVbZPf/f4Uru3gMA73z87RfvGS7YKsiaA2Mc/NzHvV+O/rfX10Dfg1o8Tq/Wrr2fyg/O+SqcnBYXuXkPAFTIe4Brtgqypu0YOnhc8R1MX48yepx6n6Q3R3//jxX1HkxCgLGAnFcADfYbTMeDXZ3hxlWpYFYEGGvIeQHRYO/BjKM++bsR5OsBKwQYy8h5+9Bg36+BjMOmF8dqVU048EKAsZKcl8XTjagYd6d9g/+e0reUeYO/3rlmBq3z45rR26Pvm0i0h7v3AMA5I7dB8R7efk0dbGW4ZvvbLp1PK31LyS7ExS7t5fX8ls+fg85e7+Y9AHCdnFeMQqxp/EvVG++uX2U1vL6Pfv33jOfbHTgiwNhLzhuHBkfK8OG4YWsXdrAdEGBsJ+d1Q4NXnT8EMuyCAGNHOe+aGNc9DQ74oZDhmAgwNpXzoolx3dPggB/K2Qz/PpiEAGNfGjhxPc2qV2fmUsbvtmmpYrimbE/7h+J6Fvy6r+3uPQCwpI9LqXjPYL5DkKUGxijWa5rFJ8i7bdk2/pxp3LwHAFZldjdH2iHIUsZj9K9pGaMg77Zlzj8HkxBgoF+Gu4kGV+zYYFyDAANDMlypNLiCBmMKAgyMynCl0uAKGgx7BBgwoLETwtNYaj5h323jmm2PK4YfXpQPHa7u3gMA+LyOi/cMQ/PrXwm5QOOLbc5hafwdA7+UNG/k5j0AgE+r37uKusAVc8nwl5YL5kUQBBiIImrCaDANxhQEGAgkasJoMA2GPQIMxBI1YTSYBsMYAQbCiZowGkyDYenuPQCAA+23dsxLWgMLTN3IvMGFBqPXzXsAAEPMi+K+wFobrTUtQiHAwPKWbwANxpYIMJDB8g2gwdgPAQaSWL4BNBibIcBAHss3gAZjJwQYSEVtJ66nWdV+AmyqMAfxEWBgRzkvaG2zaYNtF18IAQY2lfOCpsEsvg4CDOwr5wVNg1l8EQQY2FrOC5oGs/gKCDCwu5wXNA1m8fAIMICkFzQNZvHYCDCAT2o+KzlaQO0n19tQ78EkBBjAORvdyOJtYCICDOC0japDgzENAQbQY6Pq0GDMQYABdNqoOjQYExBgAP02qg4NhjUCDGCIxs5KGvaR+Rl+w6u+7Q0QYACeqEKF6QvibYdCgAE4owoVNDgpAgzAH1WooMEZEWAAIVCFChqcDgEGEAVVqKDBuRBgAIFQhQpZHjX+S8xBgAHEMtIUnMVbdUSAAeRBLbAQAgwgFRqMVdQC/J+9OsiBFIfBMCoQ979yRqPuVYsqIkjKjnlPHOBfEH8Aq9FgliDAQEEaTH4CDNSkwSQnwEBZbfQHAx3RAwrbogc85NrAv9r6D5s89ugBpOXOwIkWPYAyBJgvNBhOaDBDCDDfaTCc0GCeE2AuaTCc0GAeEmB6aDCcaBEfZRzRA1jF8Aa7JHBHm/AaCbFHD+C13BC4qUUPYAgBJpAGw00aXIAAE0uD4SYNXp0AE06D4SYNXpoAk4EGw00avK4jegD8MbzB7hJv4V9f1B49ACYZXnSAkQSYwjQYyEuAqU2DgaQEmPI0GMhIgHkDDQbSEWBeQoOBXI7oAfAz/Q1u0VOB+vboAZDQFj0AqE+A4ZQGA3MJMHyiwcBEAgxfaDAwiwDDdxoMTHFED4D8+hvcoqcCy9ijB0AlW/QAYBkCDGNpMNBFgGE4DQauCTDMoMHABQGGSTQY+EaAYR4NBj46ogdAbU8a3KLHAxPt0QOAT7boAcBEAgyZaTCUJcCQnAZDTQIM+WkwFCTAsAQNhmqO6AFAp/4Gt+ipwLU9egAw3BY9ALgmwFCSBkN2AgxVaTCkJsBQmAZDXgIMtWkwJCXAUJ4GQ0ZH9ADgB540uEWPh5r26AFAclv0AKhJgIFLGgzjCTDQQ4NhMAEGOmkwjCTAQD8NhmGO6AHAWp40uEWPh0T26AHAe2zRAyARAQZ+SYPhLwEGfkyD4X8CDPyeBkN3gP9jrw5uKwSiIAjKiPxT/o4BFtF6bFUEM6cGeJQGs7uzHgBsa7HBv3o/LDnqAQD3/NUDYIkAA3NpMIMJMDCaBjOVAAPTaTAjCTDwARrMPAIMfIMGM8xZDwB4ygsN/tUf+Y6jHgAwyAuNZxcCDHCJBvMMAQa4SoN5gAAD3KDBrBJggHs0mCVnPQBgLg3mvqMeAAA7EmAACAgwAAQEGAACAgwAAQEGgIAAA0BAgAEgIMAAEBBgAAgIMAAEBBgAAgIMAAEBBoCAAANAQIABICDAABAQYAAICDAABAQYAAICDAABAQaAgAADQECAASAgwAAQEGAACAgwAAQEGAACAgwAAQEGgIAAA0BAgAEgIMAAEBBgAAgIMAAEBBgAAgIMAAEBBoCAAANAQIABICDAABAQYAAICDAABAQYAAICDACBqwH+Z68OSgAAYCgK9W+9DuPDu2gJAYABAQNAQMAAEBAwAAQEDAABAQNAQMAAEBAwAAQEDAABAQNAQMAAEBAwAAQEDAABAQNAQMAAEBAwAAQEDAABAQNAQMAAEBAwAAQEDAABAQNAQMAAEBAwAAQEDAABAQNAQMAAEBAwAAQEDAABAQNAQMAAEBAwAAQEDAABAQNAQMAAEBAwAAQEDAABAQNAQMAAEBAwAAQEDAABAQNAQMAAEBAwAAQEDAABAQNAQMAAEBAwAAQEDAABAQNAQMAAEBAwAAQEDAABAQNAQMAAEBAwAAQEDAABAQNAQMAAEBAwAAS+AV97dZSeJhCGYdQhWUz32oturUvoRnQ6YlTQxCSCzwfxnAvD2BF/IM0LAEwgwAAQIMAAECDAABAgwAAQIMAAECDAABAgwAAQIMAAECDAABAgwAAQIMAAECDAABAgwAAQIMAAECDAABAgwAAQIMAAECDAABAgwAAQIMAAECDAABAgwAAQIMAAECDAABBQaq3pGX6gUkp6BIDZKMUjCDAABAgwAAQIMAAECDAABAgwAASsO8CllPQIAMSsOmGv6QGm+vXnb6tw2dSW4v6g/eiX/fFx2f5psGG87PcMlvv1aHnecH5z/8gvl8ezHU6+GS/705721NHyePK7Rh1c7Puj9pdzHubj5XG2zXg5HvXtVg/21MGoHy6vRz1v+ODBfWW20bL/+OWob987Xg4ubfCkLka9fnDfGnX8pK4e3DdHHf9SDYbZO/wBevd1//Ou18F5yo3zz/ONcw8/voTy9eGH3zvrDJv7Ztj/gj96hgcOv/9P8eAbWH7/26xZlx4AAJ6RAANAgAADQIAAA0CAAANAgAADQIAAA0CAAANAgAADQECptaZnmDB9KekRAIhZdcK69ABTVQCeUro/U60+wACwRgIMAAECDAABpdaangEAnk6XHmCSUkp6BADmV2vtuu7rm1sOLvaXXvo6bllxgBd+ZwG4z3fr+/Ly0l632+3pUy0QtZe+lFtWHOCF31kA7tPyudvtLt5p0nPNbMUBBuAZtPTW3qnB7bjruk8/tfBmCzAASzes6aG+nzb4otkLJMAALF092vQx3u12h9f0XJO8pgcAgFtad1tuDweHd4b1bcfb7bb0Tm9ef2SBypKHA4CfSoABIECAASBAgAEgQIABIOA/7a9ACT3+OYsAAAAASUVORK5CYII='>"
      ],
      "text/plain": [
       "<IPython.core.display.HTML object>"
      ]
     },
     "metadata": {},
     "output_type": "display_data"
    }
   ],
   "source": [
    "figEta = glucifer.Figure()\n",
    "figEta.append( glucifer.objects.Surface(mesh, fn_viscosity) )\n",
    "figEta.show()"
   ]
  },
  {
   "cell_type": "markdown",
   "metadata": {},
   "source": [
    "System setup\n",
    "-----\n",
    "\n",
    "**Setup a Stokes system: advanced solver settings**\n",
    "\n",
    "Set up parameters for the Stokes system solver. For PIC style integration, we include a swarm for the a PIC integration swarm is generated within. For gauss integration, simple do not include the swarm. Nearest neighbour is used where required."
   ]
  },
  {
   "cell_type": "code",
   "execution_count": 33,
   "metadata": {},
   "outputs": [],
   "source": [
    "stokes = uw.systems.Stokes(velocityField=velocityField, \n",
    "                              pressureField=pressureField,\n",
    "                              conditions=[freeslipBC,],\n",
    "                              fn_viscosity=fn.exception.SafeMaths(fn_viscosity), \n",
    "                              fn_bodyforce=buoyancyFn )\n",
    "\n",
    "solver=uw.systems.Solver(stokes)\n",
    "solver.set_inner_method(\"mumps\")\n",
    "solver.set_penalty(1.0e7)"
   ]
  },
  {
   "cell_type": "markdown",
   "metadata": {},
   "source": [
    "**Create an advective diffusive system**\n"
   ]
  },
  {
   "cell_type": "code",
   "execution_count": 34,
   "metadata": {},
   "outputs": [],
   "source": [
    "advDiff = uw.systems.AdvectionDiffusion( temperatureField, tempDotField, velocityField, fn_diffusivity=1., conditions=[tempBC,], _allow_non_q1=True )"
   ]
  },
  {
   "cell_type": "markdown",
   "metadata": {},
   "source": [
    "Analysis tools\n",
    "-----\n",
    "\n",
    "**RMS velocity**\n",
    "\n",
    "Set up integrals used to calculate the RMS velocity."
   ]
  },
  {
   "cell_type": "code",
   "execution_count": 35,
   "metadata": {},
   "outputs": [],
   "source": [
    "v2sum_integral  = uw.utils.Integral( mesh=mesh, fn=fn.math.dot(velocityField, velocityField) ) \n",
    "volume_integral = uw.utils.Integral( mesh=mesh, fn=1. )"
   ]
  },
  {
   "cell_type": "markdown",
   "metadata": {},
   "source": [
    "**Nusselt number**\n"
   ]
  },
  {
   "cell_type": "code",
   "execution_count": 36,
   "metadata": {},
   "outputs": [],
   "source": [
    "def FindNusseltNumber(temperatureField, linearMesh, xmax, zmax):\n",
    "    tempgradField = temperatureField.fn_gradient\n",
    "    vertGradField = tempgradField[1]\n",
    "    BottomInt = 0.0\n",
    "    GradValues = temperatureField.fn_gradient[1].evaluate(mesh.specialSets[\"MaxJ_VertexSet\"])\n",
    "    TopInt = sum(GradValues)\n",
    "    for index in mesh.specialSets[\"MinJ_VertexSet\"]:\n",
    "        BottomInt += temperatureField.data[index]\n",
    "    Nu = -zmax*TopInt/BottomInt\n",
    "    return Nu[0]"
   ]
  },
  {
   "cell_type": "markdown",
   "metadata": {},
   "source": [
    "Main simulation loop\n",
    "-----\n",
    "\n",
    "The main time stepping loop begins here. Before this the time and timestep are initialised to zero and the output statistics arrays are set up. Since this may be a continuation of the saved data with associated summary statistics then check if there are existing time values first. If there is existing data then add new simulation statistics after the existing data."
   ]
  },
  {
   "cell_type": "code",
   "execution_count": 37,
   "metadata": {},
   "outputs": [
    {
     "name": "stdout",
     "output_type": "stream",
     "text": [
      "Begining at t =  0.0  after having completed  0  steps\n"
     ]
    }
   ],
   "source": [
    "steps_prev = len(timeVal)\n",
    "steps = 0\n",
    "steps_end = 10000\n",
    "step_out = 25\n",
    "\n",
    "# Set time to zero, unless we are loading from file.\n",
    "try:\n",
    "    time_start = timeVal[-1]\n",
    "except:\n",
    "    time_start = 0.0\n",
    "print 'Begining at t = ',time_start,' after having completed ',steps_prev,' steps'\n",
    "\n",
    "simtime = time_start"
   ]
  },
  {
   "cell_type": "code",
   "execution_count": null,
   "metadata": {},
   "outputs": [
    {
     "name": "stdout",
     "output_type": "stream",
     "text": [
      "steps = 0025; time = 2.929688e-03; vrms =   2.69; nusselt = 1.0000; CPU = 19.0s\n"
     ]
    },
    {
     "name": "stderr",
     "output_type": "stream",
     "text": [
      "/Users/lmoresi/+Underworld/underworld2/underworld/systems/_bsscr.py:482: UserWarning: A PETSc error has been encountered during the solve. Solution fields are most likely erroneous. \n",
      "\n",
      "This error is probably due to an incorrectly constructed linear system. Please check that your boundary conditions are consistent and sufficient and that your viscosity is positive everywhere. If you are deforming the mesh, ensure that it has not become tangled. \n",
      "\n",
      "The resultant KSPConvergedReasons are (f_hat, outer, backsolve) (0,-11,0).\n",
      "\n",
      "\n",
      "  warnings.warn(estring)\n",
      "/Users/lmoresi/+Underworld/underworld2/underworld/systems/_bsscr.py:501: UserWarning: A floating-point error has been detected during the solve. Solution fields are most likely erroneous. \n",
      "\n",
      "This is likely due to overly large value variations within your linear system, or a fragile (or incorrect) solver configuration. If your inputs are constructed using real world physical units, you may need to rescale them for solver amenability. \n",
      "\n",
      "\n",
      "  warnings.warn(estring)\n",
      "/Users/lmoresi/+Underworld/underworld2/underworld/systems/_bsscr.py:482: UserWarning: A PETSc error has been encountered during the solve. Solution fields are most likely erroneous. \n",
      "\n",
      "This error is probably due to an incorrectly constructed linear system. Please check that your boundary conditions are consistent and sufficient and that your viscosity is positive everywhere. If you are deforming the mesh, ensure that it has not become tangled. \n",
      "\n",
      "The resultant KSPConvergedReasons are (f_hat, outer, backsolve) (0,-9,0).\n",
      "\n",
      "\n",
      "  warnings.warn(estring)\n"
     ]
    },
    {
     "name": "stdout",
     "output_type": "stream",
     "text": [
      "steps = 0050; time = 5.981445e-03; vrms =    nan; nusselt =    nan; CPU = 37.6s\n",
      "steps = 0075; time = 9.033203e-03; vrms =    nan; nusselt =    nan; CPU = 56.0s\n",
      "steps = 0100; time = 1.208496e-02; vrms =    nan; nusselt =    nan; CPU = 74.7s\n"
     ]
    }
   ],
   "source": [
    "# Setup clock to calculate simulation CPU time.\n",
    "start = time.clock()\n",
    "\n",
    "# Perform steps_end steps.\n",
    "rms_v, nu_no = 0.0, 0.0\n",
    "while steps<steps_end:\n",
    "    # Get solution for initial configuration.\n",
    "    solver.solve()\n",
    "    # Retrieve the maximum possible timestep for the AD system.\n",
    "    dt = advDiff.get_max_dt()\n",
    "    if steps == 0:\n",
    "        dt = 0.\n",
    "    # Advect using this timestep size.\n",
    "    advDiff.integrate(dt)\n",
    "    \n",
    "    # Calculate the RMS velocity.\n",
    "    rms_v = math.sqrt(v2sum_integral.evaluate()[0]/volume_integral.evaluate()[0])\n",
    "    nu_no = FindNusseltNumber(temperatureField, mesh, boxLength, boxHeight)\n",
    "    \n",
    "    # Increment time and store results.\n",
    "    simtime += dt\n",
    "    steps += 1\n",
    "    vrmsVal.append( rms_v )\n",
    "    timeVal.append( simtime )\n",
    "    nuVal.append(nu_no)\n",
    "                   \n",
    "    if steps ==0 or steps % step_out == 0:\n",
    "        print \"steps = {:04d}; time = {:.6e}; vrms = {:6.2f}; nusselt = {:6.4f}; CPU = {:4.1f}s\".format(\n",
    "               steps, simtime, rms_v, nu_no, time.clock()-start)\n",
    "        \n",
    "v2sum = v2sum_integral.evaluate()\n",
    "rms_v = rms_v = math.sqrt(v2sum_integral.evaluate()[0]/volume_integral.evaluate()[0])\n",
    "# nu_no = -surface_Tgradient.integrate()[0] / basalT.integrate()[0]\n",
    "nu_no = FindNusseltNumber(temperatureField, mesh, boxLength, boxHeight)\n",
    "\n",
    "print \"steps = {:04d}; time = {:.6e}; vrms = {:6.2f}; nusselt = {:6.4f}; CPU = {:4.1f}s\".format(\n",
    "               steps, simtime, rms_v, nu_no, time.clock()-start)\n"
   ]
  },
  {
   "cell_type": "markdown",
   "metadata": {},
   "source": [
    "Post simulation analysis\n",
    "-----\n",
    "\n",
    "**Check CPU timing**\n",
    "\n",
    "Output timing for calculation per simulation time step"
   ]
  },
  {
   "cell_type": "code",
   "execution_count": null,
   "metadata": {},
   "outputs": [],
   "source": [
    "if(steps!=steps_prev):\n",
    "    avtime = (time.clock() - start)/float(steps)\n",
    "else:\n",
    "    avtime = 0.0\n",
    "\n",
    "print \"Average time per timestep = \",avtime,\" seconds over \", steps, \" steps\""
   ]
  },
  {
   "cell_type": "markdown",
   "metadata": {},
   "source": [
    "Pre-run model took about $1.74$ seconds per timestep and was run for $13000$ timesteps for $Ra = 10^6$ for a $64\\times64$ grid."
   ]
  },
  {
   "cell_type": "markdown",
   "metadata": {},
   "source": [
    "**Save data to files**\n",
    "\n",
    "Save system summary data; $v_{rms}$ and the Nusselt number against time.\n"
   ]
  },
  {
   "cell_type": "code",
   "execution_count": null,
   "metadata": {},
   "outputs": [],
   "source": [
    "np.savetxt( outputPath+'MandS_Summary.out', np.c_[timeVal, vrmsVal, nuVal], header=\"Time, VRMS, Nusselt\" )"
   ]
  },
  {
   "cell_type": "markdown",
   "metadata": {},
   "source": [
    "Save final temperature, velocity and pressure fields."
   ]
  },
  {
   "cell_type": "code",
   "execution_count": null,
   "metadata": {},
   "outputs": [],
   "source": [
    "temperatureField.save(outputPath+'MandS_T.out')\n",
    "velocityField.save(outputPath+'MandS_v.out')\n",
    "pressureField.save(outputPath+'MandS_p.out')"
   ]
  },
  {
   "cell_type": "markdown",
   "metadata": {},
   "source": [
    "**Plot temperature field with velocity vectors overlaid**"
   ]
  },
  {
   "cell_type": "code",
   "execution_count": null,
   "metadata": {
    "scrolled": true
   },
   "outputs": [],
   "source": [
    "velmax = np.amax(velocityField.data[:])\n",
    "figVT = glucifer.Figure()\n",
    "figVT.append( glucifer.objects.Surface(mesh, temperatureField) )\n",
    "figVT.append( glucifer.objects.VectorArrows(mesh, velocityField, scaling=0.1/velmax, arrowHead=0.2) )\n",
    "figVT.show()"
   ]
  },
  {
   "cell_type": "markdown",
   "metadata": {},
   "source": [
    "**Plot system summary information**\n",
    "\n",
    "If the initial conditions were loaded up from a data file then these arrays will contain the saved data as well as results from the simulation just run."
   ]
  },
  {
   "cell_type": "code",
   "execution_count": null,
   "metadata": {},
   "outputs": [],
   "source": [
    "pylab.rcParams[ 'figure.figsize'] = 14, 8\n",
    "pyplot.figure(1)\n",
    "pyplot.subplot(211)\n",
    "pyplot.plot(timeVal, nuVal)\n",
    "pyplot.ylabel('Nusselt Number')\n",
    "\n",
    "pyplot.subplot(212)\n",
    "pyplot.plot(timeVal,vrmsVal)\n",
    "pyplot.xlabel('Time')\n",
    "pyplot.ylabel('Vrms')\n",
    "pyplot.show()"
   ]
  },
  {
   "cell_type": "code",
   "execution_count": null,
   "metadata": {},
   "outputs": [],
   "source": []
  }
 ],
 "metadata": {
  "kernelspec": {
   "display_name": "Python 2",
   "language": "python",
   "name": "python2"
  },
  "language_info": {
   "codemirror_mode": {
    "name": "ipython",
    "version": 2
   },
   "file_extension": ".py",
   "mimetype": "text/x-python",
   "name": "python",
   "nbconvert_exporter": "python",
   "pygments_lexer": "ipython2",
   "version": "2.7.15"
  }
 },
 "nbformat": 4,
 "nbformat_minor": 1
}
