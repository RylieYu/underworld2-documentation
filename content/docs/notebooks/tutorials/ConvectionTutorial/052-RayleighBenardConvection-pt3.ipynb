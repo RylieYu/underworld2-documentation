{
 "cells": [
  {
   "cell_type": "markdown",
   "metadata": {},
   "source": [
    "### Thermally driven Convection -pt 3\n",
    "\n",
    "Rheology ! \n",
    "\n",
    "**New concepts:** Viscosity as a function, non-linearity"
   ]
  },
  {
   "cell_type": "code",
   "execution_count": null,
   "metadata": {},
   "outputs": [],
   "source": [
    "%run \"091-RayleighBenardConvection-setup-v2.py\" # this has the buoyancy force term from pt 2"
   ]
  },
  {
   "cell_type": "markdown",
   "metadata": {},
   "source": [
    "## The viscosity function\n",
    "\n",
    "We previously defined \n",
    "\n",
    "```python\n",
    "viscosity=1.0\n",
    "\n",
    "stokes = uw.systems.Stokes( velocityField = velocityField, \n",
    "                            pressureField = pressureField,\n",
    "                            conditions    = [freeslipBC,],\n",
    "                            fn_viscosity  = viscosity, \n",
    "                            fn_bodyforce  = buoyancyFn )\n",
    "\n",
    "```\n",
    "\n",
    "but the stokes system is quite happy to accept an `underworld.function` as the viscosity.\n",
    "\n",
    "For example, the Frank-Kamenetskii linearized viscosity:\n",
    "\n",
    "$$\n",
    "\\eta = \\eta_0 \\exp(-CT)\n",
    "$$\n",
    "\n",
    "or the temperature / pressure dependent Arrhenius form:\n",
    "\n",
    "$$\n",
    "\\eta = \\eta_0 \\exp \\left(  \\frac{ E^* + p V^* }{ T+ T_0 } \\right)\n",
    "$$\n",
    "\n",
    "I'll show you how to do one of these, you can implement the other\n"
   ]
  },
  {
   "cell_type": "code",
   "execution_count": null,
   "metadata": {},
   "outputs": [],
   "source": [
    "## FK viscosity function\n",
    "\n",
    "# 1. Let's make these values updateable \n",
    "\n",
    "eta0 = fn.misc.constant(1.0e6)\n",
    "etaC = fn.misc.constant(13.815510557964274)\n",
    "\n",
    "fk_viscosity_fn = eta0 * fn.math.exp( -1.0 * etaC * temperatureField)\n",
    "\n",
    "location = (0.0,1.0)\n",
    "\n",
    "print temperatureField.evaluate(location)\n",
    "print fk_viscosity_fn.evaluate(location)\n",
    "\n",
    "location = (0.0,0.0)\n",
    "\n",
    "print temperatureField.evaluate(location)\n",
    "print fk_viscosity_fn.evaluate(location)\n"
   ]
  },
  {
   "cell_type": "code",
   "execution_count": null,
   "metadata": {},
   "outputs": [],
   "source": [
    "## and load this into the stokes system\n",
    "\n",
    "stokes.fn_viscosity = fk_viscosity_fn\n",
    "\n",
    "Ra.value = 1.0e6"
   ]
  },
  {
   "cell_type": "code",
   "execution_count": null,
   "metadata": {},
   "outputs": [],
   "source": [
    "# Did that do anything ?\n",
    "\n",
    "solver.solve()\n",
    "\n",
    "# plot figure \n",
    "\n",
    "figtemp = glucifer.Figure( figsize=(800,400) )\n",
    "figtemp.append( glucifer.objects.Surface(mesh, temperatureField, colours=\"blue white red\") )\n",
    "figtemp.append( glucifer.objects.VectorArrows(mesh, velocityField/100.0, arrowHead=0.2, scaling=0.1) )\n",
    "figtemp.show()\n"
   ]
  },
  {
   "cell_type": "markdown",
   "metadata": {},
   "source": [
    "We can see if that worked ... "
   ]
  },
  {
   "cell_type": "code",
   "execution_count": null,
   "metadata": {},
   "outputs": [],
   "source": [
    "time = 0.\n",
    "step = 0\n",
    "steps_end = 250\n",
    "\n",
    "while step < steps_end:\n",
    "    # Solve for the velocity field given the current temperature field.\n",
    "    solver.solve()\n",
    "    # Retrieve the maximum possible timestep for the AD system.\n",
    "    dt = advDiff.get_max_dt()\n",
    "    if step == 0:\n",
    "        dt = 0.\n",
    "    # Advect using this timestep size   \n",
    "    advDiff.integrate(dt)\n",
    "    step += 1\n",
    "    "
   ]
  },
  {
   "cell_type": "markdown",
   "metadata": {},
   "source": [
    "**Plot final temperature and velocity field**"
   ]
  },
  {
   "cell_type": "code",
   "execution_count": null,
   "metadata": {
    "scrolled": true
   },
   "outputs": [],
   "source": [
    "# plot figure\n",
    "\n",
    "figtemp = glucifer.Figure( figsize=(800,400) )\n",
    "figtemp.append( glucifer.objects.Surface(Tmesh, temperatureField, colours=\"blue white red\") )\n",
    "figtemp.append( glucifer.objects.VectorArrows(mesh, velocityField / 100.0, arrowHead=0.2) )\n",
    "figtemp.show()"
   ]
  },
  {
   "cell_type": "markdown",
   "metadata": {},
   "source": [
    "### Exercise\n",
    "\n",
    "You can try the Arrhenius rheology.\n",
    "\n",
    "For numerical stability reasons, you might want to replace the true pressure with hydrostatic pressure (a constant times the depth).\n",
    "\n",
    "The depth in the layer is \n",
    "\n",
    "```python\n",
    "# assumes y increasing upwards from 0 to 1\n",
    "fn_depth = 1.0 - fn.coord()[1] \n",
    "```\n",
    "\n",
    "\n",
    "\n",
    "### Non-linear terms\n",
    "\n",
    "Underworld can determine that a problem has a non linear constitutive equation (because it finds a reference to `velocityField` or `pressureField` (or whichever field names you use and load into the Stokes template). \n",
    "\n",
    "You might like to make a rheology which depends upon the second invariant of the strain rate tensor\n",
    "\n",
    "```\n",
    "strainRateFn = fn.tensor.symmetric( velocityField.fn_gradient )\n",
    "strainRate_2ndInvariantFn = fn.tensor.second_invariant(strainRateFn)\n",
    "\n",
    "```\n",
    "\n",
    "If you want to see some fancy tricks, including a damage rheology, see the Shear Banding notebooks in the Underworld examples directory."
   ]
  },
  {
   "cell_type": "code",
   "execution_count": null,
   "metadata": {},
   "outputs": [],
   "source": []
  }
 ],
 "metadata": {
  "kernelspec": {
   "display_name": "Python 2",
   "language": "python",
   "name": "python2"
  },
  "language_info": {
   "codemirror_mode": {
    "name": "ipython",
    "version": 2
   },
   "file_extension": ".py",
   "mimetype": "text/x-python",
   "name": "python",
   "nbconvert_exporter": "python",
   "pygments_lexer": "ipython2",
   "version": "2.7.15"
  }
 },
 "nbformat": 4,
 "nbformat_minor": 1
}
