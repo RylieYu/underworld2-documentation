{
 "cells": [
  {
   "cell_type": "markdown",
   "metadata": {
    "deletable": false,
    "editable": false,
    "run_control": {
     "frozen": true
    }
   },
   "source": [
    "# Underworld 2 - Live Manual & Tutorial\n",
    "\n",
    "\n",
    "![Montage.png](./../images/Montage.png)\n",
    "\n",
    "  \n",
    "  \n",
    "## Examples\n",
    "\n",
    "Examples are beginning-to-end walks through sample problems which can be developed into research tools. The examples\n",
    "generally start simple and become more complicated. \n",
    "\n",
    "  - [01  Steady State Heat Diffusion           ](examples/1_01_Steady_State_Heat.ipynb)\n",
    "  - [02  Convection Example                    ](examples/1_02_Convection_Example.ipynb)\n",
    "  - [03  Blankenbach et al Benchmark           ](examples/1_03_BlankenbachBenchmark.ipynb)\n",
    "  - [04  Blankenbach et al Benchmark Case2a    ](examples/1_04_BlankenbachBenchmark_Case2a.ipynb)\n",
    "  - [05  Stokes Sinker                         ](examples/1_05_StokesSinker.ipynb)\n",
    "  - [06  Rayleigh_Taylor Instability           ](examples/1_06_Rayleigh_Taylor.ipynb)\n",
    "  - [07  Slab Subduction                       ](examples/1_07_SlabSubduction.ipynb)\n",
    "  - [13  Groundwater Flow                      ](examples/1_13_Groundwater_Flow.ipynb)\n",
    "  - [14  Scaling Example                       ](examples/1_14_ScalingExample.ipynb)\n",
    "  - [16  Groundwater flow and topography       ](examples/1_16_Groundwater_Topography.ipynb)\n",
    "  - [17  Groundwater flow: Thermal Advection   ](examples/1_17_Groundwater_Flow_Temperature_Advection.ipynb)\n",
    "  - [18  Thermochemical Convection             ](examples/1_18_ThermochemicalConvection.ipynb)\n",
    "  \n",
    "#### Advanced examples \n",
    "\n",
    "  - [2 08_ShearBandsSimpleShear.ipynb                 ](examples/2_08_ShearBandsSimpleShear.ipynb)\n",
    "  - [2 09_ShearBandsPureShear.ipynb                   ](examples/2_09_ShearBandsPureShear.ipynb)\n",
    "  - [2 11_ViscoelasticityInSimpleShear.ipynb          ](examples/2_11_ViscoelasticityInSimpleShear.ipynb)\n",
    "  - [2 15_Rayleigh_Taylor_GrowthRate.ipynb            ](examples/2_15_Rayleigh_Taylor_GrowthRate.ipynb)\n",
    "  - [2 19_Analytic_Solutions_2D.ipynb                 ](examples/2_19_Analytic_Solutions_2D.ipynb)\n",
    "  \n"
   ]
  },
  {
   "cell_type": "code",
   "execution_count": 3,
   "metadata": {
    "deletable": false,
    "editable": false,
    "hide_input": true,
    "init_cell": true,
    "run_control": {
     "frozen": true
    },
    "scrolled": true
   },
   "outputs": [
    {
     "data": {
      "application/javascript": [
       "\n",
       "$('#header').hide();"
      ],
      "text/plain": [
       "<IPython.core.display.Javascript object>"
      ]
     },
     "metadata": {},
     "output_type": "display_data"
    }
   ],
   "source": [
    "%%javascript\n",
    "\n",
    "$('#header').hide();"
   ]
  }
 ],
 "metadata": {
  "kernelspec": {
   "display_name": "Python 2",
   "language": "python",
   "name": "python2"
  },
  "language_info": {
   "codemirror_mode": {
    "name": "ipython",
    "version": 2
   },
   "file_extension": ".py",
   "mimetype": "text/x-python",
   "name": "python",
   "nbconvert_exporter": "python",
   "pygments_lexer": "ipython2",
   "version": "2.7.15"
  }
 },
 "nbformat": 4,
 "nbformat_minor": 2
}
