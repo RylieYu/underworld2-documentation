{
 "cells": [
  {
   "cell_type": "markdown",
   "metadata": {
    "extensions": {
     "jupyter_dashboards": {
      "version": 1,
      "views": {
       "grid_default": {
        "col": 0,
        "height": 7,
        "hidden": false,
        "row": 0,
        "width": 12
       },
       "report_default": {
        "hidden": false
       }
      }
     }
    },
    "hideCode": false
   },
   "source": [
    "## Meshed up swarms\n",
    "\n",
    "Using the shadow particle fanciness to achieve great things"
   ]
  },
  {
   "cell_type": "code",
   "execution_count": 1,
   "metadata": {
    "collapsed": false,
    "extensions": {
     "jupyter_dashboards": {
      "version": 1,
      "views": {
       "grid_default": {
        "hidden": true
       },
       "report_default": {
        "hidden": false
       }
      }
     }
    },
    "hideCode": false,
    "hidePrompt": false
   },
   "outputs": [
    {
     "name": "stderr",
     "output_type": "stream",
     "text": [
      "/usr/local/lib/python2.7/site-packages/matplotlib/font_manager.py:273: UserWarning: Matplotlib is building the font cache using fc-list. This may take a moment.\n",
      "  warnings.warn('Matplotlib is building the font cache using fc-list. This may take a moment.')\n"
     ]
    }
   ],
   "source": [
    "import underworld as uw\n",
    "from underworld import function as fn\n",
    "\n",
    "import glucifer\n",
    "\n",
    "uw.matplotlib_inline()\n",
    "\n",
    "# import matplotlib.pyplot as pyplot\n",
    "# import matplotlib.pylab as pylab\n",
    "import numpy as np\n",
    "import math\n",
    "import os\n",
    "\n"
   ]
  },
  {
   "cell_type": "code",
   "execution_count": 2,
   "metadata": {
    "collapsed": false,
    "extensions": {
     "jupyter_dashboards": {
      "version": 1,
      "views": {
       "grid_default": {
        "hidden": true
       },
       "report_default": {
        "hidden": true
       }
      }
     }
    },
    "hideCode": false,
    "hidePrompt": false
   },
   "outputs": [],
   "source": [
    "\n",
    "workdir = os.path.abspath(\".\")\n",
    "outputPath = os.path.join(workdir,\"MeshSwarms/\")\n",
    "\n",
    "if uw.rank() == 0:\n",
    "    if not os.path.exists(outputPath):\n",
    "        os.makedirs(outputPath)\n",
    "    \n",
    "uw.barrier()   \n"
   ]
  },
  {
   "cell_type": "markdown",
   "metadata": {
    "extensions": {
     "jupyter_dashboards": {
      "version": 1,
      "views": {
       "grid_default": {
        "col": 0,
        "height": 4,
        "hidden": false,
        "row": 7,
        "width": 12
       },
       "report_default": {
        "hidden": false
       }
      }
     }
    },
    "hideCode": false,
    "hidePrompt": false
   },
   "source": [
    "Create mesh and finite element variables\n",
    "------\n",
    "\n",
    "Note: the use of a pressure-sensitive rheology suggests that it is important to use a Q2/dQ1 element "
   ]
  },
  {
   "cell_type": "code",
   "execution_count": 3,
   "metadata": {
    "collapsed": false,
    "extensions": {
     "jupyter_dashboards": {
      "version": 1,
      "views": {
       "grid_default": {
        "hidden": true
       },
       "report_default": {
        "hidden": true
       }
      }
     }
    },
    "hideCode": false,
    "hidePrompt": false
   },
   "outputs": [],
   "source": [
    "minX  =  0.0;   minY = 0.0\n",
    "maxX  =  1.0;   maxY = 1.0\n",
    "\n",
    "\n",
    "resX = 32\n",
    "resY = 32\n",
    "\n",
    "elementType=\"Q2/dPc1\"  # This is enough for a test but not to use the code in anger\n",
    "\n",
    "mesh = uw.mesh.FeMesh_Cartesian( elementType = (elementType), \n",
    "                                 elementRes  = ( resX, resY), \n",
    "                                 minCoord    = ( minX, minY), \n",
    "                                 maxCoord    = ( maxX, maxY),\n",
    "                                 periodic    = [False, False]  ) \n",
    "\n",
    "\n",
    "velocityField    = uw.mesh.MeshVariable( mesh=mesh,         nodeDofCount=mesh.dim )\n",
    "pressureField    = uw.mesh.MeshVariable( mesh=mesh.subMesh, nodeDofCount=1 )\n",
    "\n",
    "velocityField.data[:]   = [0.,0.]\n",
    "pressureField.data[:]   = 0.\n",
    "\n",
    "# Define strain rate tensor\n",
    "\n",
    "strainRateFn = fn.tensor.symmetric( velocityField.fn_gradient )\n",
    "strainRate_2ndInvariantFn = fn.tensor.second_invariant(strainRateFn)\n",
    "\n"
   ]
  },
  {
   "cell_type": "markdown",
   "metadata": {
    "extensions": {
     "jupyter_dashboards": {
      "version": 1,
      "views": {
       "grid_default": {
        "col": 0,
        "height": 4,
        "hidden": false,
        "row": 11,
        "width": 12
       },
       "report_default": {
        "hidden": false
       }
      }
     }
    },
    "hideCode": false,
    "hidePrompt": false
   },
   "source": [
    "### Boundary conditions\n",
    "\n",
    "Pure shear with moving  side walls — all boundaries are zero traction with outflow top and bottom\n",
    "to accommodate changing volume"
   ]
  },
  {
   "cell_type": "code",
   "execution_count": 4,
   "metadata": {
    "collapsed": false,
    "extensions": {
     "jupyter_dashboards": {
      "version": 1,
      "views": {
       "grid_default": {
        "hidden": true
       },
       "report_default": {
        "hidden": true
       }
      }
     }
    }
   },
   "outputs": [],
   "source": [
    "iWalls = mesh.specialSets[\"MinI_VertexSet\"] + mesh.specialSets[\"MaxI_VertexSet\"]\n",
    "jWalls = mesh.specialSets[\"MinJ_VertexSet\"] + mesh.specialSets[\"MaxJ_VertexSet\"]\n",
    "\n",
    "leftI  = mesh.specialSets[\"MinI_VertexSet\"]\n",
    "rightI = mesh.specialSets[\"MaxI_VertexSet\"]\n",
    "bothIs = leftI + rightI\n",
    "\n",
    "baseWall   = mesh.specialSets[\"MinJ_VertexSet\"]\n",
    "topWall    = mesh.specialSets[\"MaxJ_VertexSet\"]\n",
    "\n",
    "allWalls = iWalls + jWalls\n",
    "\n",
    "velocityBCs = uw.conditions.DirichletCondition( variable        = velocityField, \n",
    "                                                indexSetsPerDof = (iWalls+topWall, jWalls) )\n",
    "\n",
    "# for index in topWall:\n",
    "#     velocityField.data[index,0] = 1.0\n",
    "\n",
    "velocityField.data[topWall.data,0] = np.sin(np.pi * mesh.data[topWall.data,0])\n",
    "# Already set to zero everywhere else "
   ]
  },
  {
   "cell_type": "code",
   "execution_count": 5,
   "metadata": {
    "collapsed": false
   },
   "outputs": [],
   "source": [
    "stokesPIC = uw.systems.Stokes( velocityField  = velocityField, \n",
    "                               pressureField  = pressureField,\n",
    "                               conditions     = [velocityBCs,],\n",
    "                               fn_viscosity   = 1.0, \n",
    "                               fn_bodyforce   = (0.0,0.0) )\n",
    "\n",
    "# And a suitable solver package is already attached to it\n",
    "\n",
    "solver = uw.systems.Solver( stokesPIC )\n",
    "\n",
    "solver.solve()"
   ]
  },
  {
   "cell_type": "code",
   "execution_count": 6,
   "metadata": {
    "collapsed": false
   },
   "outputs": [
    {
     "name": "stderr",
     "output_type": "stream",
     "text": [
      "/Users/lmoresi/+Codes/underworld2-gitology/unsupported/triangulation/__init__.py:9: UserWarning: \n",
      "\n",
      "The triangulation module is not supported.\n",
      "Questions should be addressed to louis.moresi@unimelb.edu.au \n",
      "\n",
      "\n",
      "  \"\"\"\n"
     ]
    }
   ],
   "source": [
    "import unsupported.triangulation.meshswarm2D \n",
    "reload(unsupported.triangulation.meshswarm2D)\n",
    "\n",
    "mswarm = unsupported.triangulation.meshswarm2D.meshSwarm2D(mesh, velocityField)\n",
    "mswarmPoints = mesh.data.copy()\n",
    "mswarm.lagrSwarm.add_particles_with_coordinates(mswarmPoints)\n",
    "\n",
    "mswarm.update_triangulation()"
   ]
  },
  {
   "cell_type": "code",
   "execution_count": 7,
   "metadata": {
    "collapsed": false
   },
   "outputs": [],
   "source": [
    "trackVar = unsupported.triangulation.meshswarm2D.meshSwarmVariable2D(mswarm, dataType='float', count=1)\n",
    "trackVar.lagrangianData.data[:,0] = (1.0-trackVar.lagrangianData.swarm.particleCoordinates.data[:,1])\n"
   ]
  },
  {
   "cell_type": "code",
   "execution_count": 8,
   "metadata": {
    "collapsed": false
   },
   "outputs": [],
   "source": [
    "## Create tracking variables\n",
    "\n",
    "# import numpy.ma as ma\n",
    "# If we want to add all the non-boundary nodes to the swarm:\n",
    "# masked = ma.array(trackVariable.data)\n",
    "# masked.mask = ma.make_mask_none(masked.shape)\n",
    "# masked.mask[mesh.specialSets[\"AllWalls_VertexSet\"].data] = True\n",
    "# non_bound_pts = masked.compressed()\n"
   ]
  },
  {
   "cell_type": "code",
   "execution_count": 9,
   "metadata": {
    "collapsed": false
   },
   "outputs": [],
   "source": [
    "# import matplotlib.pyplot as plt\n",
    "\n",
    "\n",
    "# figure = plt.figure(figsize=(7,6))\n",
    "# ax = figure.add_subplot(111)\n",
    "\n",
    "# s = mswarm\n",
    "# points = mswarm.lagrSwarm.particleCoordinates.data\n",
    "# m = ax.tripcolor(points[:,0], points[:,1], trackVar.lagrangianData.data.reshape(-1), alpha=0.6)\n",
    "\n",
    "# ax.triplot(points[:,0], points[:,1], color=\"Black\", \n",
    "#            alpha=0.4, zorder=100)\n",
    "\n",
    "# plt.colorbar(mappable=m)\n",
    "\n",
    "\n",
    "glfig = glucifer.Figure(quality=3)\n",
    "\n",
    "glfig.append( glucifer.objects.Mesh(mesh=mesh, opacity=0.5))\n",
    "glfig.append( glucifer.objects.Points(swarm=mswarm.lagrSwarm, \n",
    "                                      fn_colour=trackVar.lagrangianData,\n",
    "                                      pointSize=5.0))\n"
   ]
  },
  {
   "cell_type": "code",
   "execution_count": 10,
   "metadata": {
    "collapsed": false
   },
   "outputs": [
    {
     "ename": "AttributeError",
     "evalue": "'module' object has no attribute 'lucColourMap_SetProperties'",
     "output_type": "error",
     "traceback": [
      "\u001b[0;31m---------------------------------------------------------------------------\u001b[0m",
      "\u001b[0;31mAttributeError\u001b[0m                            Traceback (most recent call last)",
      "\u001b[0;32m<ipython-input-10-5c1c54910ceb>\u001b[0m in \u001b[0;36m<module>\u001b[0;34m()\u001b[0m\n\u001b[1;32m      7\u001b[0m \u001b[0;34m\u001b[0m\u001b[0m\n\u001b[1;32m      8\u001b[0m     \u001b[0;32mif\u001b[0m \u001b[0mtimestep\u001b[0m \u001b[0;34m%\u001b[0m \u001b[0;36m100\u001b[0m \u001b[0;34m==\u001b[0m \u001b[0;36m0\u001b[0m\u001b[0;34m:\u001b[0m\u001b[0;34m\u001b[0m\u001b[0m\n\u001b[0;32m----> 9\u001b[0;31m         \u001b[0mglfig\u001b[0m\u001b[0;34m.\u001b[0m\u001b[0msave_image\u001b[0m\u001b[0;34m(\u001b[0m\u001b[0mfilename\u001b[0m\u001b[0;34m=\u001b[0m\u001b[0;34m\"SwarmImage\"\u001b[0m\u001b[0;34m+\u001b[0m\u001b[0mstr\u001b[0m\u001b[0;34m(\u001b[0m\u001b[0mtimestep\u001b[0m\u001b[0;34m)\u001b[0m\u001b[0;34m+\u001b[0m\u001b[0;34m\".png\"\u001b[0m\u001b[0;34m)\u001b[0m\u001b[0;34m\u001b[0m\u001b[0m\n\u001b[0m\u001b[1;32m     10\u001b[0m \u001b[0;34m\u001b[0m\u001b[0m\n\u001b[1;32m     11\u001b[0m     \u001b[0mpts\u001b[0m \u001b[0;34m=\u001b[0m \u001b[0mmswarm\u001b[0m\u001b[0;34m.\u001b[0m\u001b[0mprune_swarm_min_length\u001b[0m\u001b[0;34m(\u001b[0m\u001b[0;36m0.005\u001b[0m\u001b[0;34m)\u001b[0m\u001b[0;34m\u001b[0m\u001b[0m\n",
      "\u001b[0;32m/Users/lmoresi/+Codes/underworld2-gitology/glucifer/_glucifer.pyc\u001b[0m in \u001b[0;36msave_image\u001b[0;34m(self, filename, size)\u001b[0m\n\u001b[1;32m    570\u001b[0m     \u001b[0;32mdef\u001b[0m \u001b[0msave_image\u001b[0m\u001b[0;34m(\u001b[0m\u001b[0mself\u001b[0m\u001b[0;34m,\u001b[0m \u001b[0mfilename\u001b[0m\u001b[0;34m=\u001b[0m\u001b[0;34m\"\"\u001b[0m\u001b[0;34m,\u001b[0m \u001b[0msize\u001b[0m\u001b[0;34m=\u001b[0m\u001b[0;34m(\u001b[0m\u001b[0;36m0\u001b[0m\u001b[0;34m,\u001b[0m\u001b[0;36m0\u001b[0m\u001b[0;34m)\u001b[0m\u001b[0;34m)\u001b[0m\u001b[0;34m:\u001b[0m\u001b[0;34m\u001b[0m\u001b[0m\n\u001b[1;32m    571\u001b[0m         \u001b[0;31m# For back compatibility\u001b[0m\u001b[0;34m\u001b[0m\u001b[0;34m\u001b[0m\u001b[0m\n\u001b[0;32m--> 572\u001b[0;31m         \u001b[0;32mreturn\u001b[0m \u001b[0mself\u001b[0m\u001b[0;34m.\u001b[0m\u001b[0msave\u001b[0m\u001b[0;34m(\u001b[0m\u001b[0mfilename\u001b[0m\u001b[0;34m,\u001b[0m \u001b[0msize\u001b[0m\u001b[0;34m)\u001b[0m\u001b[0;34m\u001b[0m\u001b[0m\n\u001b[0m\u001b[1;32m    573\u001b[0m \u001b[0;34m\u001b[0m\u001b[0m\n\u001b[1;32m    574\u001b[0m     \u001b[0;32mdef\u001b[0m \u001b[0msave_database\u001b[0m\u001b[0;34m(\u001b[0m\u001b[0mself\u001b[0m\u001b[0;34m,\u001b[0m \u001b[0mfilename\u001b[0m\u001b[0;34m,\u001b[0m \u001b[0mregen\u001b[0m\u001b[0;34m=\u001b[0m\u001b[0mTrue\u001b[0m\u001b[0;34m)\u001b[0m\u001b[0;34m:\u001b[0m\u001b[0;34m\u001b[0m\u001b[0m\n",
      "\u001b[0;32m/Users/lmoresi/+Codes/underworld2-gitology/glucifer/_glucifer.pyc\u001b[0m in \u001b[0;36msave\u001b[0;34m(self, filename, size)\u001b[0m\n\u001b[1;32m    595\u001b[0m             \u001b[0manything\u001b[0m\u001b[0;34m.\u001b[0m\u001b[0;34m\u001b[0m\u001b[0m\n\u001b[1;32m    596\u001b[0m         \"\"\"\n\u001b[0;32m--> 597\u001b[0;31m         \u001b[0mself\u001b[0m\u001b[0;34m.\u001b[0m\u001b[0m_generate_DB\u001b[0m\u001b[0;34m(\u001b[0m\u001b[0;34m)\u001b[0m\u001b[0;34m\u001b[0m\u001b[0m\n\u001b[0m\u001b[1;32m    598\u001b[0m         \u001b[0;32mif\u001b[0m \u001b[0mfilename\u001b[0m \u001b[0;34m!=\u001b[0m \u001b[0mNone\u001b[0m\u001b[0;34m:\u001b[0m\u001b[0;34m\u001b[0m\u001b[0m\n\u001b[1;32m    599\u001b[0m             \u001b[0;32mif\u001b[0m \u001b[0;32mnot\u001b[0m \u001b[0misinstance\u001b[0m\u001b[0;34m(\u001b[0m\u001b[0mfilename\u001b[0m\u001b[0;34m,\u001b[0m \u001b[0mstr\u001b[0m\u001b[0;34m)\u001b[0m\u001b[0;34m:\u001b[0m\u001b[0;34m\u001b[0m\u001b[0m\n",
      "\u001b[0;32m/Users/lmoresi/+Codes/underworld2-gitology/glucifer/_glucifer.pyc\u001b[0m in \u001b[0;36m_generate_DB\u001b[0;34m(self)\u001b[0m\n\u001b[1;32m    609\u001b[0m         \u001b[0;32mif\u001b[0m \u001b[0mlen\u001b[0m\u001b[0;34m(\u001b[0m\u001b[0mself\u001b[0m\u001b[0;34m.\u001b[0m\u001b[0mdraw\u001b[0m\u001b[0;34m.\u001b[0m\u001b[0mvertices\u001b[0m\u001b[0;34m)\u001b[0m \u001b[0;34m>\u001b[0m \u001b[0;36m0\u001b[0m\u001b[0;34m:\u001b[0m\u001b[0;34m\u001b[0m\u001b[0m\n\u001b[1;32m    610\u001b[0m             \u001b[0mobjects\u001b[0m\u001b[0;34m.\u001b[0m\u001b[0mappend\u001b[0m\u001b[0;34m(\u001b[0m\u001b[0mself\u001b[0m\u001b[0;34m.\u001b[0m\u001b[0mdraw\u001b[0m\u001b[0;34m)\u001b[0m\u001b[0;34m\u001b[0m\u001b[0m\n\u001b[0;32m--> 611\u001b[0;31m         \u001b[0mself\u001b[0m\u001b[0;34m.\u001b[0m\u001b[0mdb\u001b[0m\u001b[0;34m.\u001b[0m\u001b[0m_generate\u001b[0m\u001b[0;34m(\u001b[0m\u001b[0mself\u001b[0m\u001b[0;34m.\u001b[0m\u001b[0mname\u001b[0m\u001b[0;34m,\u001b[0m \u001b[0mobjects\u001b[0m\u001b[0;34m,\u001b[0m \u001b[0mself\u001b[0m\u001b[0;34m)\u001b[0m\u001b[0;34m\u001b[0m\u001b[0m\n\u001b[0m\u001b[1;32m    612\u001b[0m \u001b[0;34m\u001b[0m\u001b[0m\n\u001b[1;32m    613\u001b[0m     \u001b[0;32mdef\u001b[0m \u001b[0m_generate_image\u001b[0m\u001b[0;34m(\u001b[0m\u001b[0mself\u001b[0m\u001b[0;34m,\u001b[0m \u001b[0mfilename\u001b[0m\u001b[0;34m=\u001b[0m\u001b[0;34m\"\"\u001b[0m\u001b[0;34m,\u001b[0m \u001b[0msize\u001b[0m\u001b[0;34m=\u001b[0m\u001b[0;34m(\u001b[0m\u001b[0;36m0\u001b[0m\u001b[0;34m,\u001b[0m\u001b[0;36m0\u001b[0m\u001b[0;34m)\u001b[0m\u001b[0;34m)\u001b[0m\u001b[0;34m:\u001b[0m\u001b[0;34m\u001b[0m\u001b[0m\n",
      "\u001b[0;32m/Users/lmoresi/+Codes/underworld2-gitology/glucifer/_glucifer.pyc\u001b[0m in \u001b[0;36m_generate\u001b[0;34m(self, figname, objects, props)\u001b[0m\n\u001b[1;32m    212\u001b[0m                 \u001b[0m_libUnderworld\u001b[0m\u001b[0;34m.\u001b[0m\u001b[0mgLucifer\u001b[0m\u001b[0;34m.\u001b[0m\u001b[0mlucDrawingObject_SetProperties\u001b[0m\u001b[0;34m(\u001b[0m\u001b[0mobj\u001b[0m\u001b[0;34m.\u001b[0m\u001b[0m_dr\u001b[0m\u001b[0;34m,\u001b[0m \u001b[0mobj\u001b[0m\u001b[0;34m.\u001b[0m\u001b[0m_getProperties\u001b[0m\u001b[0;34m(\u001b[0m\u001b[0;34m)\u001b[0m\u001b[0;34m)\u001b[0m\u001b[0;34m;\u001b[0m\u001b[0;34m\u001b[0m\u001b[0m\n\u001b[1;32m    213\u001b[0m                 \u001b[0;32mif\u001b[0m \u001b[0mobj\u001b[0m\u001b[0;34m.\u001b[0m\u001b[0m_colourMap\u001b[0m\u001b[0;34m:\u001b[0m\u001b[0;34m\u001b[0m\u001b[0m\n\u001b[0;32m--> 214\u001b[0;31m                     \u001b[0m_libUnderworld\u001b[0m\u001b[0;34m.\u001b[0m\u001b[0mgLucifer\u001b[0m\u001b[0;34m.\u001b[0m\u001b[0mlucColourMap_SetProperties\u001b[0m\u001b[0;34m(\u001b[0m\u001b[0mobj\u001b[0m\u001b[0;34m.\u001b[0m\u001b[0m_colourMap\u001b[0m\u001b[0;34m.\u001b[0m\u001b[0m_cm\u001b[0m\u001b[0;34m,\u001b[0m \u001b[0mobj\u001b[0m\u001b[0;34m.\u001b[0m\u001b[0m_colourMap\u001b[0m\u001b[0;34m.\u001b[0m\u001b[0m_getProperties\u001b[0m\u001b[0;34m(\u001b[0m\u001b[0;34m)\u001b[0m\u001b[0;34m)\u001b[0m\u001b[0;34m;\u001b[0m\u001b[0;34m\u001b[0m\u001b[0m\n\u001b[0m\u001b[1;32m    215\u001b[0m \u001b[0;34m\u001b[0m\u001b[0m\n\u001b[1;32m    216\u001b[0m                 \u001b[0;31m#Add the object to the drawing object register for the database\u001b[0m\u001b[0;34m\u001b[0m\u001b[0;34m\u001b[0m\u001b[0m\n",
      "\u001b[0;31mAttributeError\u001b[0m: 'module' object has no attribute 'lucColourMap_SetProperties'"
     ]
    }
   ],
   "source": [
    "#time = 0.0\n",
    "tri = mswarm.triangulation\n",
    "\n",
    "for timestep in range(0,1000):\n",
    "    dt = mswarm.get_max_dt()\n",
    "    mswarm.integrate(dt)\n",
    "            \n",
    "    if timestep % 100 == 0:\n",
    "        glfig.save_image(filename=\"SwarmImage\"+str(timestep)+\".png\")\n",
    "        \n",
    "    pts = mswarm.prune_swarm_min_length(0.005)\n",
    "    with mswarm.deform_swarm():\n",
    "        mswarm.lagrSwarm.particleCoordinates.data[pts,0] = -1.0e99\n",
    "    print \"Deleted \", len(pts), \"points -> \", mswarm.triangulation.npoints\n",
    "       \n",
    "    pts = mswarm.refine_swarm_max_length(0.025)\n",
    "    newVals = trackVar.evaluate(pts)\n",
    "    newpts = mswarm.lagrSwarm.add_particles_with_coordinates(pts)\n",
    "    mypts  = np.where(newpts != -1)[0] \n",
    "    trackVar.lagrangianData.data[newpts[mypts],0] = newVals[mypts]\n",
    "\n",
    "    print \"Added \", len(pts), \"points -> \", mswarm.triangulation.npoints\n",
    "    mswarm.update_triangulation()\n",
    "      \n",
    "    pts = mswarm.refine_swarm_too_narrow(5.0)\n",
    "    newVals = trackVar.evaluate(pts)\n",
    "    newpts = mswarm.lagrSwarm.add_particles_with_coordinates(pts)\n",
    "    mypts  = np.where(newpts != -1)[0] \n",
    "    trackVar.lagrangianData.data[newpts[mypts],0] = newVals[mypts]\n",
    "\n",
    "    print \"Added \", len(pts), \"points -> \", mswarm.triangulation.npoints\n",
    "    mswarm.update_triangulation()\n",
    "\n",
    "    # \"Boundary\" conditions\n",
    "    \n",
    "    top_pts = np.where(mswarm.lagrSwarm.particleCoordinates.data[:,1] == 1.0)\n",
    "    trackVar.lagrangianData.data[top_pts] = 0.0\n",
    "    \n",
    "    base_pts = np.where(mswarm.lagrSwarm.particleCoordinates.data[:,1] == 0.0)\n",
    "    trackVar.lagrangianData.data[base_pts] = 1.0\n",
    "   "
   ]
  },
  {
   "cell_type": "code",
   "execution_count": null,
   "metadata": {
    "collapsed": false
   },
   "outputs": [],
   "source": [
    "print timestep"
   ]
  },
  {
   "cell_type": "code",
   "execution_count": null,
   "metadata": {
    "collapsed": false
   },
   "outputs": [],
   "source": [
    "mswarm.update_triangulation()\n",
    "\n",
    "figure = plt.figure(figsize=(7,6))\n",
    "ax = figure.add_subplot(111)\n",
    "\n",
    "s = mswarm\n",
    "points = mswarm.lagrSwarm.particleCoordinates.data\n",
    "m = ax.tripcolor(points[:,0], points[:,1], trackVar.lagrangianData.data.reshape(-1), alpha=0.6)\n",
    "\n",
    "ax.triplot(points[:,0], points[:,1], color=\"Black\", \n",
    "           alpha=0.4, zorder=100)\n",
    "\n",
    "plt.colorbar(mappable=m)"
   ]
  },
  {
   "cell_type": "code",
   "execution_count": null,
   "metadata": {
    "collapsed": false
   },
   "outputs": [],
   "source": [
    "trackVar.lagrangianData.data.min()"
   ]
  },
  {
   "cell_type": "code",
   "execution_count": null,
   "metadata": {
    "collapsed": false
   },
   "outputs": [],
   "source": [
    "# figure.savefig(\"testmesh.png\", dpi=600)\n",
    "\n",
    "\n",
    "\n",
    "\n",
    "\n",
    "\n"
   ]
  },
  {
   "cell_type": "code",
   "execution_count": null,
   "metadata": {
    "collapsed": false
   },
   "outputs": [],
   "source": [
    "Ffn = fn.math.sin( np.pi * fn.coord()[0]) + fn.math.sin( np.pi * fn.coord()[1])\n",
    "Fxfn  = np.pi * fn.math.cos( np.pi * fn.coord()[0]) * fn.math.sin( np.pi * fn.coord()[1])\n",
    "Fyfn  = np.pi * fn.math.sin( np.pi * fn.coord()[0]) * fn.math.cos( np.pi * fn.coord()[1])\n",
    "Fxxfn = -np.pi**2 * fn.math.sin( np.pi * fn.coord()[0]) * fn.math.sin( np.pi * fn.coord()[1])\n",
    "Fyyfn = -np.pi**2 * fn.math.sin( np.pi * fn.coord()[0]) * fn.math.sin( np.pi * fn.coord()[1])"
   ]
  },
  {
   "cell_type": "code",
   "execution_count": null,
   "metadata": {
    "collapsed": false
   },
   "outputs": [],
   "source": [
    "F = np.sin(np.pi * mswarm.triangulation.points[:,0]) * \\\n",
    "    np.sin(np.pi * mswarm.triangulation.points[:,1])\n",
    "    \n",
    "FxA   = np.pi * np.cos(np.pi * mswarm.triangulation.points[:,0]) * \\\n",
    "                np.sin(np.pi * mswarm.triangulation.points[:,1])\n",
    "\n",
    "Fx2A  = -np.pi**2 * np.sin(np.pi * mswarm.triangulation.points[:,0]) * \\\n",
    "                    np.sin(np.pi * mswarm.triangulation.points[:,1])\n",
    "\n",
    "\n",
    "FyA   = -np.pi * np.sin(np.pi * mswarm.triangulation.points[:,0]) * \\\n",
    "                 np.cos(np.pi * mswarm.triangulation.points[:,1])\n",
    "\n",
    "Fy2A  = -np.pi**2 * np.sin(np.pi * mswarm.triangulation.points[:,0]) * \\\n",
    "                   np.sin(np.pi * mswarm.triangulation.points[:,1])\n",
    "\n",
    "    \n",
    "    "
   ]
  },
  {
   "cell_type": "code",
   "execution_count": null,
   "metadata": {
    "collapsed": false
   },
   "outputs": [],
   "source": [
    "DX, DY, DXX, DXY, DYY   = mswarm.triangulation_compute_gradient(F, second=True)\n",
    "DXX2, DYX2 = mswarm.triangulation_compute_gradient(DX)\n",
    "DXY2, DYY2 = mswarm.triangulation_compute_gradient(DY)"
   ]
  },
  {
   "cell_type": "code",
   "execution_count": null,
   "metadata": {
    "collapsed": false
   },
   "outputs": [],
   "source": [
    "FxA.max(), DX.max(), (DXX2-DXX).max()"
   ]
  },
  {
   "cell_type": "code",
   "execution_count": null,
   "metadata": {
    "collapsed": false,
    "scrolled": false
   },
   "outputs": [],
   "source": [
    "\n",
    "figure = plt.figure(figsize=(10,10))\n",
    "ax = figure.add_subplot(111)\n",
    "\n",
    "s = mswarm\n",
    "\n",
    "points = mswarm.interpolator.points\n",
    "\n",
    "m = ax.tripcolor(points[:,0], points[:,1], DY-FyA, alpha=0.6)\n",
    "\n",
    "ax.triplot(points[:,0], points[:,1], color=\"Black\", \n",
    "           alpha=0.4, zorder=100)\n",
    "\n",
    "plt.colorbar(mappable=m)\n",
    "\n",
    "# figure.savefig(\"meshGrad.png\", dpi=300)"
   ]
  },
  {
   "cell_type": "code",
   "execution_count": null,
   "metadata": {
    "collapsed": true
   },
   "outputs": [],
   "source": []
  },
  {
   "cell_type": "code",
   "execution_count": null,
   "metadata": {
    "collapsed": false
   },
   "outputs": [],
   "source": [
    "del2fn = gradXVar.fn_gradient[0] + gradYVar.fn_gradient[1]\n",
    "\n",
    "\n"
   ]
  },
  {
   "cell_type": "code",
   "execution_count": null,
   "metadata": {
    "collapsed": false
   },
   "outputs": [],
   "source": [
    "gptVariable.data[:,0] = trackVar.evaluate(gaussSwarm.particleCoordinates.data)\n",
    "\n",
    "fig1 = glucifer.Figure( figsize=(600,600) )\n",
    "fig1.append( glucifer.objects.Mesh(mesh=imesh, opacity=0.25))\n",
    "fig1.append( glucifer.objects.VectorArrows(mesh=mesh, fn=velocityField, scaling=0.1 ))\n",
    "fig1.append( glucifer.objects.Surface(mesh=imesh, fn=Fxxfn ))\n",
    "\n",
    "# fig1.append( glucifer.objects.Points(swarm=gaussSwarm, fn_colour=gptVariable,\n",
    "#                                      colours=\"Blue Red\", pointSize=0.0))\n",
    "\n",
    "fig1.show()"
   ]
  }
 ],
 "metadata": {
  "celltoolbar": "Hide code",
  "extensions": {
   "jupyter_dashboards": {
    "activeView": "grid_default",
    "version": 1,
    "views": {
     "grid_default": {
      "cellMargin": 10,
      "defaultCellHeight": 20,
      "maxColumns": 12,
      "name": "grid",
      "type": "grid"
     },
     "report_default": {
      "name": "report",
      "type": "report"
     }
    }
   }
  },
  "kernelspec": {
   "display_name": "Python 2",
   "language": "python",
   "name": "python2"
  },
  "language_info": {
   "codemirror_mode": {
    "name": "ipython",
    "version": 2
   },
   "file_extension": ".py",
   "mimetype": "text/x-python",
   "name": "python",
   "nbconvert_exporter": "python",
   "pygments_lexer": "ipython2",
   "version": "2.7.11+"
  }
 },
 "nbformat": 4,
 "nbformat_minor": 0
}
