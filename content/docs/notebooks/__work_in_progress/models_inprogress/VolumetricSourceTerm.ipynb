{
 "cells": [
  {
   "cell_type": "markdown",
   "metadata": {
    "deletable": true,
    "editable": true
   },
   "source": [
    "## Shear driven dilatancy"
   ]
  },
  {
   "cell_type": "code",
   "execution_count": null,
   "metadata": {
    "collapsed": true,
    "deletable": true,
    "editable": true
   },
   "outputs": [],
   "source": [
    "import underworld as uw\n",
    "import numpy as np\n",
    "import math\n",
    "import os\n",
    "from underworld import function as fn\n",
    "import glucifer"
   ]
  },
  {
   "cell_type": "code",
   "execution_count": null,
   "metadata": {
    "collapsed": false,
    "deletable": true,
    "editable": true
   },
   "outputs": [],
   "source": [
    "outputPath = os.path.join(os.path.abspath(\".\"),\"Expt1\")\n",
    "\n",
    "if uw.rank()==0:\n",
    "    if not os.path.exists(outputPath):\n",
    "        os.makedirs(outputPath)\n",
    "uw.barrier()"
   ]
  },
  {
   "cell_type": "code",
   "execution_count": null,
   "metadata": {
    "collapsed": true,
    "deletable": true,
    "editable": true
   },
   "outputs": [],
   "source": [
    "## Physical parameters in the model\n",
    "\n",
    "bulkVisc = 10.0"
   ]
  },
  {
   "cell_type": "code",
   "execution_count": null,
   "metadata": {
    "collapsed": false,
    "deletable": true,
    "editable": true
   },
   "outputs": [],
   "source": [
    "minX = 0.0\n",
    "maxX = 1.0\n",
    "resX = 48\n",
    "resY = 48\n",
    "\n",
    "elementType=\"Q2/dQ1\"\n",
    "\n",
    "mesh = uw.mesh.FeMesh_Cartesian( elementType = (elementType), \n",
    "                                 elementRes  = ( resX, resY), \n",
    "                                 minCoord    = ( minX, 0.), \n",
    "                                 maxCoord    = ( maxX, 1.),\n",
    "                                 periodic    = [True, False]  ) \n",
    "\n",
    "\n",
    "velocityField           = uw.mesh.MeshVariable( mesh=mesh,         nodeDofCount=mesh.dim )\n",
    "pressureField           = uw.mesh.MeshVariable( mesh=mesh.subMesh, nodeDofCount=1 )\n",
    "\n",
    "velocityField.data[:] = [0.,0.]\n",
    "pressureField.data[:] = 0.0\n",
    "\n",
    "strainRateFn = fn.tensor.symmetric( velocityField.fn_gradient )\n",
    "strainRateInvFn = fn.tensor.second_invariant(strainRateFn)\n",
    "\n"
   ]
  },
  {
   "cell_type": "code",
   "execution_count": null,
   "metadata": {
    "collapsed": false,
    "deletable": true,
    "editable": true
   },
   "outputs": [],
   "source": [
    "iWalls = mesh.specialSets[\"MinI_VertexSet\"] + mesh.specialSets[\"MaxI_VertexSet\"]\n",
    "jWalls = mesh.specialSets[\"MinJ_VertexSet\"] + mesh.specialSets[\"MaxJ_VertexSet\"]\n",
    "top    = mesh.specialSets[\"MaxJ_VertexSet\"]\n",
    "base   = mesh.specialSets[\"MinJ_VertexSet\"]\n",
    "\n",
    "# for index in mesh.specialSets[\"MinJ_VertexSet\"]:\n",
    "#     if mesh.data[index,0] > 0.4 and  mesh.data[index,0] < 0.6:\n",
    "#         base.remove(index)\n",
    "\n",
    "BCs = uw.conditions.DirichletCondition( variable        = velocityField, \n",
    "                                        indexSetsPerDof = ( iWalls, base) ) "
   ]
  },
  {
   "cell_type": "code",
   "execution_count": null,
   "metadata": {
    "collapsed": false,
    "deletable": true,
    "editable": true
   },
   "outputs": [],
   "source": [
    "stokes = uw.systems.Stokes(    velocityField = velocityField, \n",
    "                               pressureField = pressureField,\n",
    "                               conditions    = BCs,\n",
    "                               fn_viscosity  = 1.0, \n",
    "                               fn_bodyforce  = (0.0,  0.0),\n",
    "                               fn_source    =  -1.0  )\n",
    "\n",
    "\n",
    "solver = uw.systems.Solver( stokes )\n",
    "\n",
    "if(uw.nProcs()==1):\n",
    "    solver.set_inner_method(\"lu\")\n",
    "    solver.set_penalty(0.0) \n",
    "    \n",
    "solver.options.scr.ksp_rtol = 1.0e-5\n",
    "\n",
    "# Test to see if these setting are OK\n",
    "\n",
    "solver.solve( nonLinearIterate=False )\n",
    "solver.print_stats()\n"
   ]
  },
  {
   "cell_type": "code",
   "execution_count": null,
   "metadata": {
    "collapsed": false,
    "deletable": true,
    "editable": true
   },
   "outputs": [],
   "source": [
    "# visualising the result\n",
    "\n",
    "surfFn = strainRateFn[1]\n",
    "\n",
    "figMesh = glucifer.Figure(figsize=(600,600))\n",
    "figMesh.append( glucifer.objects.Mesh(mesh, nodeNumbers=False) )\n",
    "figMesh.append( glucifer.objects.VectorArrows(mesh, velocityField, scaling=0.1))\n",
    "figMesh.append( glucifer.objects.Surface(mesh, surfFn, onMesh=True))\n",
    "figMesh.show()"
   ]
  },
  {
   "cell_type": "code",
   "execution_count": null,
   "metadata": {
    "collapsed": false
   },
   "outputs": [],
   "source": [
    "velocitySourceField = uw.mesh.MeshVariable( mesh=mesh.subMesh,  nodeDofCount=1 )\n",
    "velocitySourceField.data[:] = 0.\n",
    "\n",
    "middleNodes = np.where(np.logical_and(np.abs(mesh.subMesh.data[:,0]-0.5) < 0.01,  np.abs(mesh.subMesh.data[:,1]-0.5) < 0.01 ))\n",
    "\n",
    "velocitySourceField.data[middleNodes] = -10.0\n",
    "\n",
    "stokes.fn_source = velocitySourceField\n",
    "\n",
    "solver.solve( nonLinearIterate=False )\n",
    "solver.print_stats()\n",
    "\n"
   ]
  },
  {
   "cell_type": "code",
   "execution_count": null,
   "metadata": {
    "collapsed": false
   },
   "outputs": [],
   "source": [
    "surfFn = strainRateInvFn\n",
    "\n",
    "figMesh = glucifer.Figure(figsize=(600,600))\n",
    "figMesh.append( glucifer.objects.Mesh(mesh, nodeNumbers=False) )\n",
    "figMesh.append( glucifer.objects.VectorArrows(mesh, velocityField, scaling=10.0))\n",
    "figMesh.append( glucifer.objects.Surface(mesh, surfFn, OnMesh=True))\n",
    "figMesh.show()"
   ]
  }
 ],
 "metadata": {
  "kernelspec": {
   "display_name": "Python 2",
   "language": "python",
   "name": "python2"
  },
  "language_info": {
   "codemirror_mode": {
    "name": "ipython",
    "version": 2
   },
   "file_extension": ".py",
   "mimetype": "text/x-python",
   "name": "python",
   "nbconvert_exporter": "python",
   "pygments_lexer": "ipython2",
   "version": "2.7.11+"
  }
 },
 "nbformat": 4,
 "nbformat_minor": 2
}
