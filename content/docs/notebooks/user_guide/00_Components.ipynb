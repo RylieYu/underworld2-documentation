{
 "cells": [
  {
   "cell_type": "markdown",
   "metadata": {},
   "source": [
    "# Underworld 2 - Live Manual & Tutorial\n",
    "\n",
    "\n",
    "![Montage.png](./../images/Montage.png)\n",
    "\n",
    "\n",
    "## User guide\n",
    "\n",
    "The Underworld User Guide is a great introduction to the basic building blocks of the Underworld software suite. We cover the individual concepts in the code and provide simple notebooks to illustrate how to use them. \n",
    "\n",
    "  - [01 Getting started             ](01_GettingStarted.ipynb)\n",
    "  - [02 Meshes                      ](02_TheMesh.ipynb)\n",
    "  - [03 Mesh based variables        ](03_MeshVariable.ipynb)\n",
    "  - [04 Swarms (of particles        ](04_Swarms.ipynb)  \n",
    "  - [05 Functions                   ](05_Functions.ipynb)  \n",
    "  - [06 Equation systems            ](06_Systems.ipynb)  \n",
    "  - [07 Utilities                   ](07_Utilities.ipynb)  \n",
    "  - [08 Visualisation               ](08_Visualisation.ipynb)\n",
    "  - [09 Stokes solver (Instructions)](09_StokesSolver.ipynb)\n",
    " "
   ]
  },
  {
   "cell_type": "code",
   "execution_count": 1,
   "metadata": {
    "deletable": false,
    "editable": false,
    "hide_input": true,
    "init_cell": true,
    "run_control": {
     "frozen": true
    },
    "scrolled": true
   },
   "outputs": [
    {
     "data": {
      "application/javascript": [
       "\n",
       "$('#header').hide();"
      ],
      "text/plain": [
       "<IPython.core.display.Javascript object>"
      ]
     },
     "metadata": {},
     "output_type": "display_data"
    }
   ],
   "source": [
    "%%javascript\n",
    "\n",
    "$('#header').hide();"
   ]
  }
 ],
 "metadata": {
  "kernelspec": {
   "display_name": "Python 2",
   "language": "python",
   "name": "python2"
  },
  "language_info": {
   "codemirror_mode": {
    "name": "ipython",
    "version": 2
   },
   "file_extension": ".py",
   "mimetype": "text/x-python",
   "name": "python",
   "nbconvert_exporter": "python",
   "pygments_lexer": "ipython2",
   "version": "2.7.15"
  }
 },
 "nbformat": 4,
 "nbformat_minor": 2
}
